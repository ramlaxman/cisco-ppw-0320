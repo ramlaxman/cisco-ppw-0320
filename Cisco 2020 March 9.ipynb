{
 "cells": [
  {
   "cell_type": "code",
   "execution_count": 1,
   "metadata": {
    "collapsed": true
   },
   "outputs": [
    {
     "name": "stdout",
     "output_type": "stream",
     "text": [
      "##\n",
      "\n",
      "# User Database\n",
      "\n",
      "# \n",
      "\n",
      "# Note that this file is consulted directly only when the system is running\n",
      "\n",
      "# in single-user mode.  At other times this information is provided by\n",
      "\n",
      "# Open Directory.\n",
      "\n",
      "#\n",
      "\n",
      "# See the opendirectoryd(8) man page for additional information about\n",
      "\n",
      "# Open Directory.\n",
      "\n",
      "##\n",
      "\n",
      "nobody:*:-2:-2:Unprivileged User:/var/empty:/usr/bin/false\n",
      "\n",
      "root:*:0:0:System Administrator:/var/root:/bin/sh\n",
      "\n",
      "daemon:*:1:1:System Services:/var/root:/usr/bin/false\n",
      "\n",
      "_uucp:*:4:4:Unix to Unix Copy Protocol:/var/spool/uucp:/usr/sbin/uucico\n",
      "\n",
      "_taskgated:*:13:13:Task Gate Daemon:/var/empty:/usr/bin/false\n",
      "\n",
      "_networkd:*:24:24:Network Services:/var/networkd:/usr/bin/false\n",
      "\n",
      "_installassistant:*:25:25:Install Assistant:/var/empty:/usr/bin/false\n",
      "\n",
      "_lp:*:26:26:Printing Services:/var/spool/cups:/usr/bin/false\n",
      "\n",
      "_postfix:*:27:27:Postfix Mail Server:/var/spool/postfix:/usr/bin/false\n",
      "\n",
      "_scsd:*:31:31:Service Configuration Service:/var/empty:/usr/bin/false\n",
      "\n",
      "_ces:*:32:32:Certificate Enrollment Service:/var/empty:/usr/bin/false\n",
      "\n",
      "_appstore:*:33:33:Mac App Store Service:/var/db/appstore:/usr/bin/false\n",
      "\n",
      "_mcxalr:*:54:54:MCX AppLaunch:/var/empty:/usr/bin/false\n",
      "\n",
      "_appleevents:*:55:55:AppleEvents Daemon:/var/empty:/usr/bin/false\n",
      "\n",
      "_geod:*:56:56:Geo Services Daemon:/var/db/geod:/usr/bin/false\n",
      "\n",
      "_devdocs:*:59:59:Developer Documentation:/var/empty:/usr/bin/false\n",
      "\n",
      "_sandbox:*:60:60:Seatbelt:/var/empty:/usr/bin/false\n",
      "\n",
      "_mdnsresponder:*:65:65:mDNSResponder:/var/empty:/usr/bin/false\n",
      "\n",
      "_ard:*:67:67:Apple Remote Desktop:/var/empty:/usr/bin/false\n",
      "\n",
      "_www:*:70:70:World Wide Web Server:/Library/WebServer:/usr/bin/false\n",
      "\n",
      "_eppc:*:71:71:Apple Events User:/var/empty:/usr/bin/false\n",
      "\n",
      "_cvs:*:72:72:CVS Server:/var/empty:/usr/bin/false\n",
      "\n",
      "_svn:*:73:73:SVN Server:/var/empty:/usr/bin/false\n",
      "\n",
      "_mysql:*:74:74:MySQL Server:/var/empty:/usr/bin/false\n",
      "\n",
      "_sshd:*:75:75:sshd Privilege separation:/var/empty:/usr/bin/false\n",
      "\n",
      "_qtss:*:76:76:QuickTime Streaming Server:/var/empty:/usr/bin/false\n",
      "\n",
      "_cyrus:*:77:6:Cyrus Administrator:/var/imap:/usr/bin/false\n",
      "\n",
      "_mailman:*:78:78:Mailman List Server:/var/empty:/usr/bin/false\n",
      "\n",
      "_appserver:*:79:79:Application Server:/var/empty:/usr/bin/false\n",
      "\n",
      "_clamav:*:82:82:ClamAV Daemon:/var/virusmails:/usr/bin/false\n",
      "\n",
      "_amavisd:*:83:83:AMaViS Daemon:/var/virusmails:/usr/bin/false\n",
      "\n",
      "_jabber:*:84:84:Jabber XMPP Server:/var/empty:/usr/bin/false\n",
      "\n",
      "_appowner:*:87:87:Application Owner:/var/empty:/usr/bin/false\n",
      "\n",
      "_windowserver:*:88:88:WindowServer:/var/empty:/usr/bin/false\n",
      "\n",
      "_spotlight:*:89:89:Spotlight:/var/empty:/usr/bin/false\n",
      "\n",
      "_tokend:*:91:91:Token Daemon:/var/empty:/usr/bin/false\n",
      "\n",
      "_securityagent:*:92:92:SecurityAgent:/var/db/securityagent:/usr/bin/false\n",
      "\n",
      "_calendar:*:93:93:Calendar:/var/empty:/usr/bin/false\n",
      "\n",
      "_teamsserver:*:94:94:TeamsServer:/var/teamsserver:/usr/bin/false\n",
      "\n",
      "_update_sharing:*:95:-2:Update Sharing:/var/empty:/usr/bin/false\n",
      "\n",
      "_installer:*:96:-2:Installer:/var/empty:/usr/bin/false\n",
      "\n",
      "_atsserver:*:97:97:ATS Server:/var/empty:/usr/bin/false\n",
      "\n",
      "_ftp:*:98:-2:FTP Daemon:/var/empty:/usr/bin/false\n",
      "\n",
      "_unknown:*:99:99:Unknown User:/var/empty:/usr/bin/false\n",
      "\n",
      "_softwareupdate:*:200:200:Software Update Service:/var/db/softwareupdate:/usr/bin/false\n",
      "\n",
      "_coreaudiod:*:202:202:Core Audio Daemon:/var/empty:/usr/bin/false\n",
      "\n",
      "_screensaver:*:203:203:Screensaver:/var/empty:/usr/bin/false\n",
      "\n",
      "_locationd:*:205:205:Location Daemon:/var/db/locationd:/usr/bin/false\n",
      "\n",
      "_trustevaluationagent:*:208:208:Trust Evaluation Agent:/var/empty:/usr/bin/false\n",
      "\n",
      "_timezone:*:210:210:AutoTimeZoneDaemon:/var/empty:/usr/bin/false\n",
      "\n",
      "_lda:*:211:211:Local Delivery Agent:/var/empty:/usr/bin/false\n",
      "\n",
      "_cvmsroot:*:212:212:CVMS Root:/var/empty:/usr/bin/false\n",
      "\n",
      "_usbmuxd:*:213:213:iPhone OS Device Helper:/var/db/lockdown:/usr/bin/false\n",
      "\n",
      "_dovecot:*:214:6:Dovecot Administrator:/var/empty:/usr/bin/false\n",
      "\n",
      "_dpaudio:*:215:215:DP Audio:/var/empty:/usr/bin/false\n",
      "\n",
      "_postgres:*:216:216:PostgreSQL Server:/var/empty:/usr/bin/false\n",
      "\n",
      "_krbtgt:*:217:-2:Kerberos Ticket Granting Ticket:/var/empty:/usr/bin/false\n",
      "\n",
      "_kadmin_admin:*:218:-2:Kerberos Admin Service:/var/empty:/usr/bin/false\n",
      "\n",
      "_kadmin_changepw:*:219:-2:Kerberos Change Password Service:/var/empty:/usr/bin/false\n",
      "\n",
      "_devicemgr:*:220:220:Device Management Server:/var/empty:/usr/bin/false\n",
      "\n",
      "_webauthserver:*:221:221:Web Auth Server:/var/empty:/usr/bin/false\n",
      "\n",
      "_netbios:*:222:222:NetBIOS:/var/empty:/usr/bin/false\n",
      "\n",
      "_warmd:*:224:224:Warm Daemon:/var/empty:/usr/bin/false\n",
      "\n",
      "_dovenull:*:227:227:Dovecot Authentication:/var/empty:/usr/bin/false\n",
      "\n",
      "_netstatistics:*:228:228:Network Statistics Daemon:/var/empty:/usr/bin/false\n",
      "\n",
      "_avbdeviced:*:229:-2:Ethernet AVB Device Daemon:/var/empty:/usr/bin/false\n",
      "\n",
      "_krb_krbtgt:*:230:-2:Open Directory Kerberos Ticket Granting Ticket:/var/empty:/usr/bin/false\n",
      "\n",
      "_krb_kadmin:*:231:-2:Open Directory Kerberos Admin Service:/var/empty:/usr/bin/false\n",
      "\n",
      "_krb_changepw:*:232:-2:Open Directory Kerberos Change Password Service:/var/empty:/usr/bin/false\n",
      "\n",
      "_krb_kerberos:*:233:-2:Open Directory Kerberos:/var/empty:/usr/bin/false\n",
      "\n",
      "_krb_anonymous:*:234:-2:Open Directory Kerberos Anonymous:/var/empty:/usr/bin/false\n",
      "\n",
      "_assetcache:*:235:235:Asset Cache Service:/var/empty:/usr/bin/false\n",
      "\n",
      "_coremediaiod:*:236:236:Core Media IO Daemon:/var/empty:/usr/bin/false\n",
      "\n",
      "_launchservicesd:*:239:239:_launchservicesd:/var/empty:/usr/bin/false\n",
      "\n",
      "_iconservices:*:240:240:IconServices:/var/empty:/usr/bin/false\n",
      "\n",
      "_distnote:*:241:241:DistNote:/var/empty:/usr/bin/false\n",
      "\n",
      "_nsurlsessiond:*:242:242:NSURLSession Daemon:/var/db/nsurlsessiond:/usr/bin/false\n",
      "\n",
      "_nsurlstoraged:*:243:243:NSURLStorage Daemon:/var/db/nsurlstoraged:/usr/bin/false\n",
      "\n",
      "_displaypolicyd:*:244:244:Display Policy Daemon:/var/empty:/usr/bin/false\n",
      "\n",
      "_astris:*:245:245:Astris Services:/var/db/astris:/usr/bin/false\n",
      "\n",
      "_krbfast:*:246:-2:Kerberos FAST Account:/var/empty:/usr/bin/false\n",
      "\n",
      "_gamecontrollerd:*:247:247:Game Controller Daemon:/var/empty:/usr/bin/false\n",
      "\n",
      "_mbsetupuser:*:248:248:Setup User:/var/setup:/bin/bash\n",
      "\n",
      "_ondemand:*:249:249:On Demand Resource Daemon:/var/db/ondemand:/usr/bin/false\n",
      "\n",
      "_xserverdocs:*:251:251:macOS Server Documents Service:/var/empty:/usr/bin/false\n",
      "\n",
      "_wwwproxy:*:252:252:WWW Proxy:/var/empty:/usr/bin/false\n",
      "\n",
      "_mobileasset:*:253:253:MobileAsset User:/var/ma:/usr/bin/false\n",
      "\n",
      "_findmydevice:*:254:254:Find My Device Daemon:/var/db/findmydevice:/usr/bin/false\n",
      "\n",
      "_datadetectors:*:257:257:DataDetectors:/var/db/datadetectors:/usr/bin/false\n",
      "\n",
      "_captiveagent:*:258:258:captiveagent:/var/empty:/usr/bin/false\n",
      "\n",
      "_ctkd:*:259:259:ctkd Account:/var/empty:/usr/bin/false\n",
      "\n",
      "_applepay:*:260:260:applepay Account:/var/db/applepay:/usr/bin/false\n",
      "\n",
      "_hidd:*:261:261:HID Service User:/var/db/hidd:/usr/bin/false\n",
      "\n",
      "_cmiodalassistants:*:262:262:CoreMedia IO Assistants User:/var/db/cmiodalassistants:/usr/bin/false\n",
      "\n",
      "_analyticsd:*:263:263:Analytics Daemon:/var/db/analyticsd:/usr/bin/false\n",
      "\n",
      "_fpsd:*:265:265:FPS Daemon:/var/db/fpsd:/usr/bin/false\n",
      "\n",
      "_timed:*:266:266:Time Sync Daemon:/var/db/timed:/usr/bin/false\n",
      "\n",
      "_nearbyd:*:268:268:Proximity and Ranging Daemon:/var/db/nearbyd:/usr/bin/false\n",
      "\n",
      "_reportmemoryexception:*:269:269:ReportMemoryException:/var/db/reportmemoryexception:/usr/bin/false\n",
      "\n",
      "_driverkit:*:270:270:DriverKit:/var/empty:/usr/bin/false\n",
      "\n"
     ]
    }
   ],
   "source": [
    "# file-like objects are iterable (can be put in a \"for\" loop)\n",
    "\n",
    "# you are to write a generator function called read_n\n",
    "# this function will take two arguments -- a filename and n\n",
    "#   (an integer)\n",
    "\n",
    "# with each iteration, it'll return n lines from the file\n",
    "# as a single string\n",
    "\n",
    "# the final iteration might contain fewer than n lines in \n",
    "# the returned string\n",
    "\n",
    "# goals:\n",
    "# - generator functions, writing and using\n",
    "#      yield vs. return\n",
    "# - somewhat comprehensions\n",
    "# - somewhat understanding file objects and how they work\n",
    "\n",
    "\n",
    "for one_line in read_n('/etc/passwd', 1):\n",
    "    print(one_line)\n",
    "    \n",
    "    \n",
    "for one_chunk in read_n('/etc/passwd', 5):\n",
    "    print(one_chunk)\n",
    " \n",
    "    \n"
   ]
  },
  {
   "cell_type": "code",
   "execution_count": null,
   "metadata": {},
   "outputs": [],
   "source": [
    "for one_line in read_n('/etc/passwd', 1):\n",
    "    print(one_line)\n",
    "    \n",
    "    \n"
   ]
  },
  {
   "cell_type": "code",
   "execution_count": null,
   "metadata": {},
   "outputs": [],
   "source": [
    "for ITEM in THING:\n",
    "    stuff"
   ]
  },
  {
   "cell_type": "code",
   "execution_count": 2,
   "metadata": {},
   "outputs": [
    {
     "name": "stdout",
     "output_type": "stream",
     "text": [
      "a\n",
      "b\n",
      "c\n",
      "d\n"
     ]
    }
   ],
   "source": [
    "for one_item in 'abcd':\n",
    "    print(one_item)"
   ]
  },
  {
   "cell_type": "code",
   "execution_count": 3,
   "metadata": {},
   "outputs": [
    {
     "data": {
      "text/plain": [
       "<str_iterator at 0x112887c10>"
      ]
     },
     "execution_count": 3,
     "metadata": {},
     "output_type": "execute_result"
    }
   ],
   "source": [
    "iter('abcd')"
   ]
  },
  {
   "cell_type": "code",
   "execution_count": 4,
   "metadata": {},
   "outputs": [
    {
     "ename": "TypeError",
     "evalue": "'int' object is not iterable",
     "output_type": "error",
     "traceback": [
      "\u001b[0;31m---------------------------------------------------------------------------\u001b[0m",
      "\u001b[0;31mTypeError\u001b[0m                                 Traceback (most recent call last)",
      "\u001b[0;32m<ipython-input-4-879406f09381>\u001b[0m in \u001b[0;36m<module>\u001b[0;34m\u001b[0m\n\u001b[0;32m----> 1\u001b[0;31m \u001b[0;32mfor\u001b[0m \u001b[0mone_item\u001b[0m \u001b[0;32min\u001b[0m \u001b[0;36m6\u001b[0m\u001b[0;34m:\u001b[0m\u001b[0;34m\u001b[0m\u001b[0;34m\u001b[0m\u001b[0m\n\u001b[0m\u001b[1;32m      2\u001b[0m     \u001b[0mprint\u001b[0m\u001b[0;34m(\u001b[0m\u001b[0mone_item\u001b[0m\u001b[0;34m)\u001b[0m\u001b[0;34m\u001b[0m\u001b[0;34m\u001b[0m\u001b[0m\n",
      "\u001b[0;31mTypeError\u001b[0m: 'int' object is not iterable"
     ]
    }
   ],
   "source": [
    "for one_item in 6:\n",
    "    print(one_item)"
   ]
  },
  {
   "cell_type": "code",
   "execution_count": 5,
   "metadata": {},
   "outputs": [
    {
     "ename": "TypeError",
     "evalue": "'int' object is not iterable",
     "output_type": "error",
     "traceback": [
      "\u001b[0;31m---------------------------------------------------------------------------\u001b[0m",
      "\u001b[0;31mTypeError\u001b[0m                                 Traceback (most recent call last)",
      "\u001b[0;32m<ipython-input-5-11801154f355>\u001b[0m in \u001b[0;36m<module>\u001b[0;34m\u001b[0m\n\u001b[0;32m----> 1\u001b[0;31m \u001b[0miter\u001b[0m\u001b[0;34m(\u001b[0m\u001b[0;36m6\u001b[0m\u001b[0;34m)\u001b[0m\u001b[0;34m\u001b[0m\u001b[0;34m\u001b[0m\u001b[0m\n\u001b[0m",
      "\u001b[0;31mTypeError\u001b[0m: 'int' object is not iterable"
     ]
    }
   ],
   "source": [
    "iter(6)"
   ]
  },
  {
   "cell_type": "code",
   "execution_count": 6,
   "metadata": {},
   "outputs": [],
   "source": [
    "i = iter('abcd')\n"
   ]
  },
  {
   "cell_type": "code",
   "execution_count": 7,
   "metadata": {},
   "outputs": [
    {
     "data": {
      "text/plain": [
       "'a'"
      ]
     },
     "execution_count": 7,
     "metadata": {},
     "output_type": "execute_result"
    }
   ],
   "source": [
    "next(i)"
   ]
  },
  {
   "cell_type": "code",
   "execution_count": 8,
   "metadata": {},
   "outputs": [
    {
     "data": {
      "text/plain": [
       "'b'"
      ]
     },
     "execution_count": 8,
     "metadata": {},
     "output_type": "execute_result"
    }
   ],
   "source": [
    "next(i)"
   ]
  },
  {
   "cell_type": "code",
   "execution_count": 9,
   "metadata": {},
   "outputs": [
    {
     "data": {
      "text/plain": [
       "'c'"
      ]
     },
     "execution_count": 9,
     "metadata": {},
     "output_type": "execute_result"
    }
   ],
   "source": [
    "next(i)"
   ]
  },
  {
   "cell_type": "code",
   "execution_count": 10,
   "metadata": {},
   "outputs": [
    {
     "data": {
      "text/plain": [
       "'d'"
      ]
     },
     "execution_count": 10,
     "metadata": {},
     "output_type": "execute_result"
    }
   ],
   "source": [
    "next(i)"
   ]
  },
  {
   "cell_type": "code",
   "execution_count": 11,
   "metadata": {},
   "outputs": [
    {
     "ename": "StopIteration",
     "evalue": "",
     "output_type": "error",
     "traceback": [
      "\u001b[0;31m---------------------------------------------------------------------------\u001b[0m",
      "\u001b[0;31mStopIteration\u001b[0m                             Traceback (most recent call last)",
      "\u001b[0;32m<ipython-input-11-a883b34d6d8a>\u001b[0m in \u001b[0;36m<module>\u001b[0;34m\u001b[0m\n\u001b[0;32m----> 1\u001b[0;31m \u001b[0mnext\u001b[0m\u001b[0;34m(\u001b[0m\u001b[0mi\u001b[0m\u001b[0;34m)\u001b[0m\u001b[0;34m\u001b[0m\u001b[0;34m\u001b[0m\u001b[0m\n\u001b[0m",
      "\u001b[0;31mStopIteration\u001b[0m: "
     ]
    }
   ],
   "source": [
    "next(i)"
   ]
  },
  {
   "cell_type": "code",
   "execution_count": 12,
   "metadata": {},
   "outputs": [],
   "source": [
    "def thing():  # generator function\n",
    "    yield 'a'\n",
    "    yield 'b'\n",
    "    yield 'c'\n",
    "    yield 'd'"
   ]
  },
  {
   "cell_type": "code",
   "execution_count": 14,
   "metadata": {},
   "outputs": [],
   "source": [
    "g = thing()"
   ]
  },
  {
   "cell_type": "code",
   "execution_count": 15,
   "metadata": {},
   "outputs": [
    {
     "data": {
      "text/plain": [
       "<generator object thing at 0x11292a4d0>"
      ]
     },
     "execution_count": 15,
     "metadata": {},
     "output_type": "execute_result"
    }
   ],
   "source": [
    "iter(g)"
   ]
  },
  {
   "cell_type": "code",
   "execution_count": 16,
   "metadata": {},
   "outputs": [
    {
     "data": {
      "text/plain": [
       "True"
      ]
     },
     "execution_count": 16,
     "metadata": {},
     "output_type": "execute_result"
    }
   ],
   "source": [
    "g == iter(g)"
   ]
  },
  {
   "cell_type": "code",
   "execution_count": 17,
   "metadata": {},
   "outputs": [
    {
     "data": {
      "text/plain": [
       "'a'"
      ]
     },
     "execution_count": 17,
     "metadata": {},
     "output_type": "execute_result"
    }
   ],
   "source": [
    "next(g)"
   ]
  },
  {
   "cell_type": "code",
   "execution_count": 18,
   "metadata": {},
   "outputs": [
    {
     "data": {
      "text/plain": [
       "'b'"
      ]
     },
     "execution_count": 18,
     "metadata": {},
     "output_type": "execute_result"
    }
   ],
   "source": [
    "next(g)"
   ]
  },
  {
   "cell_type": "code",
   "execution_count": 19,
   "metadata": {},
   "outputs": [
    {
     "data": {
      "text/plain": [
       "'c'"
      ]
     },
     "execution_count": 19,
     "metadata": {},
     "output_type": "execute_result"
    }
   ],
   "source": [
    "next(g)"
   ]
  },
  {
   "cell_type": "code",
   "execution_count": 20,
   "metadata": {},
   "outputs": [
    {
     "data": {
      "text/plain": [
       "'d'"
      ]
     },
     "execution_count": 20,
     "metadata": {},
     "output_type": "execute_result"
    }
   ],
   "source": [
    "next(g)"
   ]
  },
  {
   "cell_type": "code",
   "execution_count": 21,
   "metadata": {},
   "outputs": [
    {
     "ename": "StopIteration",
     "evalue": "",
     "output_type": "error",
     "traceback": [
      "\u001b[0;31m---------------------------------------------------------------------------\u001b[0m",
      "\u001b[0;31mStopIteration\u001b[0m                             Traceback (most recent call last)",
      "\u001b[0;32m<ipython-input-21-e734f8aca5ac>\u001b[0m in \u001b[0;36m<module>\u001b[0;34m\u001b[0m\n\u001b[0;32m----> 1\u001b[0;31m \u001b[0mnext\u001b[0m\u001b[0;34m(\u001b[0m\u001b[0mg\u001b[0m\u001b[0;34m)\u001b[0m\u001b[0;34m\u001b[0m\u001b[0;34m\u001b[0m\u001b[0m\n\u001b[0m",
      "\u001b[0;31mStopIteration\u001b[0m: "
     ]
    }
   ],
   "source": [
    "next(g)"
   ]
  },
  {
   "cell_type": "code",
   "execution_count": 22,
   "metadata": {},
   "outputs": [],
   "source": [
    "def loud_thing():  # generator function\n",
    "    print(\"Before yield a\")\n",
    "    yield 'a'\n",
    "    print(\"After a, before b\")\n",
    "    yield 'b'\n",
    "    print(\"After b, before c\")\n",
    "    yield 'c'\n",
    "    print(\"After c, before d\")\n",
    "    yield 'd'\n",
    "    print(\"After d\")"
   ]
  },
  {
   "cell_type": "code",
   "execution_count": 23,
   "metadata": {},
   "outputs": [],
   "source": [
    "g = loud_thing()"
   ]
  },
  {
   "cell_type": "code",
   "execution_count": 24,
   "metadata": {},
   "outputs": [
    {
     "name": "stdout",
     "output_type": "stream",
     "text": [
      "Before yield a\n"
     ]
    },
    {
     "data": {
      "text/plain": [
       "'a'"
      ]
     },
     "execution_count": 24,
     "metadata": {},
     "output_type": "execute_result"
    }
   ],
   "source": [
    "next(g)"
   ]
  },
  {
   "cell_type": "code",
   "execution_count": 25,
   "metadata": {},
   "outputs": [
    {
     "name": "stdout",
     "output_type": "stream",
     "text": [
      "After a, before b\n"
     ]
    },
    {
     "data": {
      "text/plain": [
       "'b'"
      ]
     },
     "execution_count": 25,
     "metadata": {},
     "output_type": "execute_result"
    }
   ],
   "source": [
    "next(g)"
   ]
  },
  {
   "cell_type": "code",
   "execution_count": 26,
   "metadata": {},
   "outputs": [
    {
     "name": "stdout",
     "output_type": "stream",
     "text": [
      "After b, before c\n"
     ]
    },
    {
     "data": {
      "text/plain": [
       "'c'"
      ]
     },
     "execution_count": 26,
     "metadata": {},
     "output_type": "execute_result"
    }
   ],
   "source": [
    "next(g)"
   ]
  },
  {
   "cell_type": "code",
   "execution_count": 27,
   "metadata": {},
   "outputs": [
    {
     "name": "stdout",
     "output_type": "stream",
     "text": [
      "After c, before d\n"
     ]
    },
    {
     "data": {
      "text/plain": [
       "'d'"
      ]
     },
     "execution_count": 27,
     "metadata": {},
     "output_type": "execute_result"
    }
   ],
   "source": [
    "next(g)"
   ]
  },
  {
   "cell_type": "code",
   "execution_count": 28,
   "metadata": {},
   "outputs": [
    {
     "name": "stdout",
     "output_type": "stream",
     "text": [
      "After d\n"
     ]
    },
    {
     "ename": "StopIteration",
     "evalue": "",
     "output_type": "error",
     "traceback": [
      "\u001b[0;31m---------------------------------------------------------------------------\u001b[0m",
      "\u001b[0;31mStopIteration\u001b[0m                             Traceback (most recent call last)",
      "\u001b[0;32m<ipython-input-28-e734f8aca5ac>\u001b[0m in \u001b[0;36m<module>\u001b[0;34m\u001b[0m\n\u001b[0;32m----> 1\u001b[0;31m \u001b[0mnext\u001b[0m\u001b[0;34m(\u001b[0m\u001b[0mg\u001b[0m\u001b[0;34m)\u001b[0m\u001b[0;34m\u001b[0m\u001b[0;34m\u001b[0m\u001b[0m\n\u001b[0m",
      "\u001b[0;31mStopIteration\u001b[0m: "
     ]
    }
   ],
   "source": [
    "next(g)"
   ]
  },
  {
   "cell_type": "code",
   "execution_count": 36,
   "metadata": {},
   "outputs": [],
   "source": [
    "def read_n(filename, n):\n",
    "    f = open(filename)\n",
    "    while True:\n",
    "        chunk = ''.join(f.readline()  # generator expression\n",
    "                        for i in range(n))\n",
    "#         chunk = ''\n",
    "#         for i in range(n):\n",
    "#             chunk += f.readline()  # get one line\n",
    "            \n",
    "        if chunk:  # if it's a non-empty string, then yield it\n",
    "            yield chunk\n",
    "        else:      # empty string? stop the loop\n",
    "            break"
   ]
  },
  {
   "cell_type": "code",
   "execution_count": 37,
   "metadata": {
    "collapsed": true
   },
   "outputs": [
    {
     "name": "stdout",
     "output_type": "stream",
     "text": [
      "##\n",
      "# User Database\n",
      "# \n",
      "# Note that this file is consulted directly only when the system is running\n",
      "# in single-user mode.  At other times this information is provided by\n",
      "# Open Directory.\n",
      "#\n",
      "# See the opendirectoryd(8) man page for additional information about\n",
      "# Open Directory.\n",
      "##\n",
      "nobody:*:-2:-2:Unprivileged User:/var/empty:/usr/bin/false\n",
      "root:*:0:0:System Administrator:/var/root:/bin/sh\n",
      "\n",
      "daemon:*:1:1:System Services:/var/root:/usr/bin/false\n",
      "_uucp:*:4:4:Unix to Unix Copy Protocol:/var/spool/uucp:/usr/sbin/uucico\n",
      "_taskgated:*:13:13:Task Gate Daemon:/var/empty:/usr/bin/false\n",
      "_networkd:*:24:24:Network Services:/var/networkd:/usr/bin/false\n",
      "_installassistant:*:25:25:Install Assistant:/var/empty:/usr/bin/false\n",
      "_lp:*:26:26:Printing Services:/var/spool/cups:/usr/bin/false\n",
      "_postfix:*:27:27:Postfix Mail Server:/var/spool/postfix:/usr/bin/false\n",
      "_scsd:*:31:31:Service Configuration Service:/var/empty:/usr/bin/false\n",
      "_ces:*:32:32:Certificate Enrollment Service:/var/empty:/usr/bin/false\n",
      "_appstore:*:33:33:Mac App Store Service:/var/db/appstore:/usr/bin/false\n",
      "_mcxalr:*:54:54:MCX AppLaunch:/var/empty:/usr/bin/false\n",
      "_appleevents:*:55:55:AppleEvents Daemon:/var/empty:/usr/bin/false\n",
      "\n",
      "_geod:*:56:56:Geo Services Daemon:/var/db/geod:/usr/bin/false\n",
      "_devdocs:*:59:59:Developer Documentation:/var/empty:/usr/bin/false\n",
      "_sandbox:*:60:60:Seatbelt:/var/empty:/usr/bin/false\n",
      "_mdnsresponder:*:65:65:mDNSResponder:/var/empty:/usr/bin/false\n",
      "_ard:*:67:67:Apple Remote Desktop:/var/empty:/usr/bin/false\n",
      "_www:*:70:70:World Wide Web Server:/Library/WebServer:/usr/bin/false\n",
      "_eppc:*:71:71:Apple Events User:/var/empty:/usr/bin/false\n",
      "_cvs:*:72:72:CVS Server:/var/empty:/usr/bin/false\n",
      "_svn:*:73:73:SVN Server:/var/empty:/usr/bin/false\n",
      "_mysql:*:74:74:MySQL Server:/var/empty:/usr/bin/false\n",
      "_sshd:*:75:75:sshd Privilege separation:/var/empty:/usr/bin/false\n",
      "_qtss:*:76:76:QuickTime Streaming Server:/var/empty:/usr/bin/false\n",
      "\n",
      "_cyrus:*:77:6:Cyrus Administrator:/var/imap:/usr/bin/false\n",
      "_mailman:*:78:78:Mailman List Server:/var/empty:/usr/bin/false\n",
      "_appserver:*:79:79:Application Server:/var/empty:/usr/bin/false\n",
      "_clamav:*:82:82:ClamAV Daemon:/var/virusmails:/usr/bin/false\n",
      "_amavisd:*:83:83:AMaViS Daemon:/var/virusmails:/usr/bin/false\n",
      "_jabber:*:84:84:Jabber XMPP Server:/var/empty:/usr/bin/false\n",
      "_appowner:*:87:87:Application Owner:/var/empty:/usr/bin/false\n",
      "_windowserver:*:88:88:WindowServer:/var/empty:/usr/bin/false\n",
      "_spotlight:*:89:89:Spotlight:/var/empty:/usr/bin/false\n",
      "_tokend:*:91:91:Token Daemon:/var/empty:/usr/bin/false\n",
      "_securityagent:*:92:92:SecurityAgent:/var/db/securityagent:/usr/bin/false\n",
      "_calendar:*:93:93:Calendar:/var/empty:/usr/bin/false\n",
      "\n",
      "_teamsserver:*:94:94:TeamsServer:/var/teamsserver:/usr/bin/false\n",
      "_update_sharing:*:95:-2:Update Sharing:/var/empty:/usr/bin/false\n",
      "_installer:*:96:-2:Installer:/var/empty:/usr/bin/false\n",
      "_atsserver:*:97:97:ATS Server:/var/empty:/usr/bin/false\n",
      "_ftp:*:98:-2:FTP Daemon:/var/empty:/usr/bin/false\n",
      "_unknown:*:99:99:Unknown User:/var/empty:/usr/bin/false\n",
      "_softwareupdate:*:200:200:Software Update Service:/var/db/softwareupdate:/usr/bin/false\n",
      "_coreaudiod:*:202:202:Core Audio Daemon:/var/empty:/usr/bin/false\n",
      "_screensaver:*:203:203:Screensaver:/var/empty:/usr/bin/false\n",
      "_locationd:*:205:205:Location Daemon:/var/db/locationd:/usr/bin/false\n",
      "_trustevaluationagent:*:208:208:Trust Evaluation Agent:/var/empty:/usr/bin/false\n",
      "_timezone:*:210:210:AutoTimeZoneDaemon:/var/empty:/usr/bin/false\n",
      "\n",
      "_lda:*:211:211:Local Delivery Agent:/var/empty:/usr/bin/false\n",
      "_cvmsroot:*:212:212:CVMS Root:/var/empty:/usr/bin/false\n",
      "_usbmuxd:*:213:213:iPhone OS Device Helper:/var/db/lockdown:/usr/bin/false\n",
      "_dovecot:*:214:6:Dovecot Administrator:/var/empty:/usr/bin/false\n",
      "_dpaudio:*:215:215:DP Audio:/var/empty:/usr/bin/false\n",
      "_postgres:*:216:216:PostgreSQL Server:/var/empty:/usr/bin/false\n",
      "_krbtgt:*:217:-2:Kerberos Ticket Granting Ticket:/var/empty:/usr/bin/false\n",
      "_kadmin_admin:*:218:-2:Kerberos Admin Service:/var/empty:/usr/bin/false\n",
      "_kadmin_changepw:*:219:-2:Kerberos Change Password Service:/var/empty:/usr/bin/false\n",
      "_devicemgr:*:220:220:Device Management Server:/var/empty:/usr/bin/false\n",
      "_webauthserver:*:221:221:Web Auth Server:/var/empty:/usr/bin/false\n",
      "_netbios:*:222:222:NetBIOS:/var/empty:/usr/bin/false\n",
      "\n",
      "_warmd:*:224:224:Warm Daemon:/var/empty:/usr/bin/false\n",
      "_dovenull:*:227:227:Dovecot Authentication:/var/empty:/usr/bin/false\n",
      "_netstatistics:*:228:228:Network Statistics Daemon:/var/empty:/usr/bin/false\n",
      "_avbdeviced:*:229:-2:Ethernet AVB Device Daemon:/var/empty:/usr/bin/false\n",
      "_krb_krbtgt:*:230:-2:Open Directory Kerberos Ticket Granting Ticket:/var/empty:/usr/bin/false\n",
      "_krb_kadmin:*:231:-2:Open Directory Kerberos Admin Service:/var/empty:/usr/bin/false\n",
      "_krb_changepw:*:232:-2:Open Directory Kerberos Change Password Service:/var/empty:/usr/bin/false\n",
      "_krb_kerberos:*:233:-2:Open Directory Kerberos:/var/empty:/usr/bin/false\n",
      "_krb_anonymous:*:234:-2:Open Directory Kerberos Anonymous:/var/empty:/usr/bin/false\n",
      "_assetcache:*:235:235:Asset Cache Service:/var/empty:/usr/bin/false\n",
      "_coremediaiod:*:236:236:Core Media IO Daemon:/var/empty:/usr/bin/false\n",
      "_launchservicesd:*:239:239:_launchservicesd:/var/empty:/usr/bin/false\n",
      "\n",
      "_iconservices:*:240:240:IconServices:/var/empty:/usr/bin/false\n",
      "_distnote:*:241:241:DistNote:/var/empty:/usr/bin/false\n",
      "_nsurlsessiond:*:242:242:NSURLSession Daemon:/var/db/nsurlsessiond:/usr/bin/false\n",
      "_nsurlstoraged:*:243:243:NSURLStorage Daemon:/var/db/nsurlstoraged:/usr/bin/false\n",
      "_displaypolicyd:*:244:244:Display Policy Daemon:/var/empty:/usr/bin/false\n",
      "_astris:*:245:245:Astris Services:/var/db/astris:/usr/bin/false\n",
      "_krbfast:*:246:-2:Kerberos FAST Account:/var/empty:/usr/bin/false\n",
      "_gamecontrollerd:*:247:247:Game Controller Daemon:/var/empty:/usr/bin/false\n",
      "_mbsetupuser:*:248:248:Setup User:/var/setup:/bin/bash\n",
      "_ondemand:*:249:249:On Demand Resource Daemon:/var/db/ondemand:/usr/bin/false\n",
      "_xserverdocs:*:251:251:macOS Server Documents Service:/var/empty:/usr/bin/false\n",
      "_wwwproxy:*:252:252:WWW Proxy:/var/empty:/usr/bin/false\n",
      "\n",
      "_mobileasset:*:253:253:MobileAsset User:/var/ma:/usr/bin/false\n",
      "_findmydevice:*:254:254:Find My Device Daemon:/var/db/findmydevice:/usr/bin/false\n",
      "_datadetectors:*:257:257:DataDetectors:/var/db/datadetectors:/usr/bin/false\n",
      "_captiveagent:*:258:258:captiveagent:/var/empty:/usr/bin/false\n",
      "_ctkd:*:259:259:ctkd Account:/var/empty:/usr/bin/false\n",
      "_applepay:*:260:260:applepay Account:/var/db/applepay:/usr/bin/false\n",
      "_hidd:*:261:261:HID Service User:/var/db/hidd:/usr/bin/false\n",
      "_cmiodalassistants:*:262:262:CoreMedia IO Assistants User:/var/db/cmiodalassistants:/usr/bin/false\n",
      "_analyticsd:*:263:263:Analytics Daemon:/var/db/analyticsd:/usr/bin/false\n",
      "_fpsd:*:265:265:FPS Daemon:/var/db/fpsd:/usr/bin/false\n",
      "_timed:*:266:266:Time Sync Daemon:/var/db/timed:/usr/bin/false\n",
      "_nearbyd:*:268:268:Proximity and Ranging Daemon:/var/db/nearbyd:/usr/bin/false\n",
      "\n",
      "_reportmemoryexception:*:269:269:ReportMemoryException:/var/db/reportmemoryexception:/usr/bin/false\n",
      "_driverkit:*:270:270:DriverKit:/var/empty:/usr/bin/false\n",
      "\n"
     ]
    }
   ],
   "source": [
    "for one_chunk in read_n('/etc/passwd', 12):\n",
    "    print(one_chunk)"
   ]
  },
  {
   "cell_type": "code",
   "execution_count": 38,
   "metadata": {},
   "outputs": [
    {
     "data": {
      "text/plain": [
       "range"
      ]
     },
     "execution_count": 38,
     "metadata": {},
     "output_type": "execute_result"
    }
   ],
   "source": [
    "r = range(10)\n",
    "type(r)"
   ]
  },
  {
   "cell_type": "code",
   "execution_count": 39,
   "metadata": {},
   "outputs": [
    {
     "data": {
      "text/plain": [
       "<range_iterator at 0x11289bed0>"
      ]
     },
     "execution_count": 39,
     "metadata": {},
     "output_type": "execute_result"
    }
   ],
   "source": [
    "iter(r)"
   ]
  },
  {
   "cell_type": "code",
   "execution_count": 40,
   "metadata": {},
   "outputs": [
    {
     "name": "stdout",
     "output_type": "stream",
     "text": [
      "0 1 2 3 4 5 6 7 8 9 "
     ]
    }
   ],
   "source": [
    "for i in range(10):\n",
    "    print(i, end=' ')"
   ]
  },
  {
   "cell_type": "code",
   "execution_count": 41,
   "metadata": {},
   "outputs": [
    {
     "name": "stdout",
     "output_type": "stream",
     "text": [
      "10 11 12 13 14 15 16 17 18 19 "
     ]
    }
   ],
   "source": [
    "for i in range(10, 20):\n",
    "    print(i, end=' ')"
   ]
  },
  {
   "cell_type": "code",
   "execution_count": 42,
   "metadata": {},
   "outputs": [
    {
     "name": "stdout",
     "output_type": "stream",
     "text": [
      "10 13 16 19 "
     ]
    }
   ],
   "source": [
    "for i in range(10, 20, 3):\n",
    "    print(i, end=' ')"
   ]
  },
  {
   "cell_type": "code",
   "execution_count": 44,
   "metadata": {},
   "outputs": [],
   "source": [
    "r = range(5, 1000, 3)"
   ]
  },
  {
   "cell_type": "code",
   "execution_count": 46,
   "metadata": {},
   "outputs": [
    {
     "data": {
      "text/plain": [
       "[41, 44, 47, 50, 53, 56, 59, 62]"
      ]
     },
     "execution_count": 46,
     "metadata": {},
     "output_type": "execute_result"
    }
   ],
   "source": [
    "list(r[12:20])"
   ]
  },
  {
   "cell_type": "code",
   "execution_count": 47,
   "metadata": {},
   "outputs": [
    {
     "data": {
      "text/plain": [
       "332"
      ]
     },
     "execution_count": 47,
     "metadata": {},
     "output_type": "execute_result"
    }
   ],
   "source": [
    "len(r)"
   ]
  },
  {
   "cell_type": "code",
   "execution_count": null,
   "metadata": {},
   "outputs": [],
   "source": [
    "# write a generator function called \"myrange\"\n",
    "# which works like range -- with 1, 2, or 3 arguments"
   ]
  },
  {
   "cell_type": "code",
   "execution_count": 40,
   "metadata": {},
   "outputs": [
    {
     "name": "stdout",
     "output_type": "stream",
     "text": [
      "0 1 2 3 4 5 6 7 8 9 "
     ]
    }
   ],
   "source": [
    "for i in myrange(10):\n",
    "    print(i, end=' ')"
   ]
  },
  {
   "cell_type": "code",
   "execution_count": 41,
   "metadata": {},
   "outputs": [
    {
     "name": "stdout",
     "output_type": "stream",
     "text": [
      "10 11 12 13 14 15 16 17 18 19 "
     ]
    }
   ],
   "source": [
    "for i in myrange(10, 20):\n",
    "    print(i, end=' ')"
   ]
  },
  {
   "cell_type": "code",
   "execution_count": 42,
   "metadata": {},
   "outputs": [
    {
     "name": "stdout",
     "output_type": "stream",
     "text": [
      "10 13 16 19 "
     ]
    }
   ],
   "source": [
    "for i in myrange(10, 20, 3):\n",
    "    print(i, end=' ')"
   ]
  },
  {
   "cell_type": "code",
   "execution_count": 48,
   "metadata": {},
   "outputs": [
    {
     "name": "stdout",
     "output_type": "stream",
     "text": [
      "20 17 14 11 "
     ]
    }
   ],
   "source": [
    "for i in range(20, 10, -3):\n",
    "    print(i, end=' ')"
   ]
  },
  {
   "cell_type": "code",
   "execution_count": 52,
   "metadata": {},
   "outputs": [
    {
     "name": "stdout",
     "output_type": "stream",
     "text": [
      "20 17 14 11 "
     ]
    }
   ],
   "source": [
    "def myrange(*args):\n",
    "    n = 0\n",
    "    if len(args) == 1:\n",
    "        stop = args[0]\n",
    "        while n < stop:\n",
    "            yield n\n",
    "            n += 1\n",
    "    if len(args) == 2:\n",
    "        start = args[0]\n",
    "        stop = args[1]\n",
    "        n = start\n",
    "        while n < stop:\n",
    "            yield n\n",
    "            n += 1\n",
    "    if len(args) == 3:\n",
    "        step = args[2]\n",
    "        start = args[0]\n",
    "        stop = args[1]\n",
    "        n = start\n",
    "        if step > 0:\n",
    "            while n < stop:\n",
    "                yield n\n",
    "                n += step\n",
    "        elif step < 0:\n",
    "            while n > stop:\n",
    "                yield n\n",
    "                n += step\n",
    "\n",
    "for i in myrange(20,10,-3):\n",
    "    print(i, end=' ')\n"
   ]
  },
  {
   "cell_type": "code",
   "execution_count": 62,
   "metadata": {},
   "outputs": [
    {
     "name": "stdout",
     "output_type": "stream",
     "text": [
      "0 1 2 3 4 5 6 7 8 9 \n",
      "10 11 12 13 14 15 16 17 18 19 \n",
      "20 17 14 11 "
     ]
    }
   ],
   "source": [
    "def myrange(first, second=None, step=1):\n",
    "    if second is None:  # from 0-first\n",
    "        current = 0\n",
    "        end = first\n",
    "        \n",
    "    else:  # from first-second\n",
    "        current = first\n",
    "        end = second\n",
    "        \n",
    "    while ((step > 0 and current < end) or\n",
    "           (step < 0 and current > end)):\n",
    "        yield current\n",
    "        current += step\n",
    "\n",
    "for i in myrange(10):\n",
    "    print(i, end=' ')\n",
    "print()\n",
    "\n",
    "for i in myrange(10, 20):\n",
    "    print(i, end=' ')\n",
    "print()\n",
    "    \n",
    "for i in myrange(20, 10, -3):\n",
    "    print(i, end=' ')"
   ]
  },
  {
   "cell_type": "code",
   "execution_count": null,
   "metadata": {},
   "outputs": [],
   "source": [
    "# write a function, filefunc, that takes two arguments\n",
    "# - first is a directory name\n",
    "# - second is a function\n",
    "\n",
    "# Your function should r"
   ]
  }
 ],
 "metadata": {
  "kernelspec": {
   "display_name": "Python 3",
   "language": "python",
   "name": "python3"
  },
  "language_info": {
   "codemirror_mode": {
    "name": "ipython",
    "version": 3
   },
   "file_extension": ".py",
   "mimetype": "text/x-python",
   "name": "python",
   "nbconvert_exporter": "python",
   "pygments_lexer": "ipython3",
   "version": "3.7.6"
  }
 },
 "nbformat": 4,
 "nbformat_minor": 2
}
