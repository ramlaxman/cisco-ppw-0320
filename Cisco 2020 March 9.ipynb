{
 "cells": [
  {
   "cell_type": "code",
   "execution_count": 1,
   "metadata": {
    "collapsed": true
   },
   "outputs": [
    {
     "name": "stdout",
     "output_type": "stream",
     "text": [
      "##\n",
      "\n",
      "# User Database\n",
      "\n",
      "# \n",
      "\n",
      "# Note that this file is consulted directly only when the system is running\n",
      "\n",
      "# in single-user mode.  At other times this information is provided by\n",
      "\n",
      "# Open Directory.\n",
      "\n",
      "#\n",
      "\n",
      "# See the opendirectoryd(8) man page for additional information about\n",
      "\n",
      "# Open Directory.\n",
      "\n",
      "##\n",
      "\n",
      "nobody:*:-2:-2:Unprivileged User:/var/empty:/usr/bin/false\n",
      "\n",
      "root:*:0:0:System Administrator:/var/root:/bin/sh\n",
      "\n",
      "daemon:*:1:1:System Services:/var/root:/usr/bin/false\n",
      "\n",
      "_uucp:*:4:4:Unix to Unix Copy Protocol:/var/spool/uucp:/usr/sbin/uucico\n",
      "\n",
      "_taskgated:*:13:13:Task Gate Daemon:/var/empty:/usr/bin/false\n",
      "\n",
      "_networkd:*:24:24:Network Services:/var/networkd:/usr/bin/false\n",
      "\n",
      "_installassistant:*:25:25:Install Assistant:/var/empty:/usr/bin/false\n",
      "\n",
      "_lp:*:26:26:Printing Services:/var/spool/cups:/usr/bin/false\n",
      "\n",
      "_postfix:*:27:27:Postfix Mail Server:/var/spool/postfix:/usr/bin/false\n",
      "\n",
      "_scsd:*:31:31:Service Configuration Service:/var/empty:/usr/bin/false\n",
      "\n",
      "_ces:*:32:32:Certificate Enrollment Service:/var/empty:/usr/bin/false\n",
      "\n",
      "_appstore:*:33:33:Mac App Store Service:/var/db/appstore:/usr/bin/false\n",
      "\n",
      "_mcxalr:*:54:54:MCX AppLaunch:/var/empty:/usr/bin/false\n",
      "\n",
      "_appleevents:*:55:55:AppleEvents Daemon:/var/empty:/usr/bin/false\n",
      "\n",
      "_geod:*:56:56:Geo Services Daemon:/var/db/geod:/usr/bin/false\n",
      "\n",
      "_devdocs:*:59:59:Developer Documentation:/var/empty:/usr/bin/false\n",
      "\n",
      "_sandbox:*:60:60:Seatbelt:/var/empty:/usr/bin/false\n",
      "\n",
      "_mdnsresponder:*:65:65:mDNSResponder:/var/empty:/usr/bin/false\n",
      "\n",
      "_ard:*:67:67:Apple Remote Desktop:/var/empty:/usr/bin/false\n",
      "\n",
      "_www:*:70:70:World Wide Web Server:/Library/WebServer:/usr/bin/false\n",
      "\n",
      "_eppc:*:71:71:Apple Events User:/var/empty:/usr/bin/false\n",
      "\n",
      "_cvs:*:72:72:CVS Server:/var/empty:/usr/bin/false\n",
      "\n",
      "_svn:*:73:73:SVN Server:/var/empty:/usr/bin/false\n",
      "\n",
      "_mysql:*:74:74:MySQL Server:/var/empty:/usr/bin/false\n",
      "\n",
      "_sshd:*:75:75:sshd Privilege separation:/var/empty:/usr/bin/false\n",
      "\n",
      "_qtss:*:76:76:QuickTime Streaming Server:/var/empty:/usr/bin/false\n",
      "\n",
      "_cyrus:*:77:6:Cyrus Administrator:/var/imap:/usr/bin/false\n",
      "\n",
      "_mailman:*:78:78:Mailman List Server:/var/empty:/usr/bin/false\n",
      "\n",
      "_appserver:*:79:79:Application Server:/var/empty:/usr/bin/false\n",
      "\n",
      "_clamav:*:82:82:ClamAV Daemon:/var/virusmails:/usr/bin/false\n",
      "\n",
      "_amavisd:*:83:83:AMaViS Daemon:/var/virusmails:/usr/bin/false\n",
      "\n",
      "_jabber:*:84:84:Jabber XMPP Server:/var/empty:/usr/bin/false\n",
      "\n",
      "_appowner:*:87:87:Application Owner:/var/empty:/usr/bin/false\n",
      "\n",
      "_windowserver:*:88:88:WindowServer:/var/empty:/usr/bin/false\n",
      "\n",
      "_spotlight:*:89:89:Spotlight:/var/empty:/usr/bin/false\n",
      "\n",
      "_tokend:*:91:91:Token Daemon:/var/empty:/usr/bin/false\n",
      "\n",
      "_securityagent:*:92:92:SecurityAgent:/var/db/securityagent:/usr/bin/false\n",
      "\n",
      "_calendar:*:93:93:Calendar:/var/empty:/usr/bin/false\n",
      "\n",
      "_teamsserver:*:94:94:TeamsServer:/var/teamsserver:/usr/bin/false\n",
      "\n",
      "_update_sharing:*:95:-2:Update Sharing:/var/empty:/usr/bin/false\n",
      "\n",
      "_installer:*:96:-2:Installer:/var/empty:/usr/bin/false\n",
      "\n",
      "_atsserver:*:97:97:ATS Server:/var/empty:/usr/bin/false\n",
      "\n",
      "_ftp:*:98:-2:FTP Daemon:/var/empty:/usr/bin/false\n",
      "\n",
      "_unknown:*:99:99:Unknown User:/var/empty:/usr/bin/false\n",
      "\n",
      "_softwareupdate:*:200:200:Software Update Service:/var/db/softwareupdate:/usr/bin/false\n",
      "\n",
      "_coreaudiod:*:202:202:Core Audio Daemon:/var/empty:/usr/bin/false\n",
      "\n",
      "_screensaver:*:203:203:Screensaver:/var/empty:/usr/bin/false\n",
      "\n",
      "_locationd:*:205:205:Location Daemon:/var/db/locationd:/usr/bin/false\n",
      "\n",
      "_trustevaluationagent:*:208:208:Trust Evaluation Agent:/var/empty:/usr/bin/false\n",
      "\n",
      "_timezone:*:210:210:AutoTimeZoneDaemon:/var/empty:/usr/bin/false\n",
      "\n",
      "_lda:*:211:211:Local Delivery Agent:/var/empty:/usr/bin/false\n",
      "\n",
      "_cvmsroot:*:212:212:CVMS Root:/var/empty:/usr/bin/false\n",
      "\n",
      "_usbmuxd:*:213:213:iPhone OS Device Helper:/var/db/lockdown:/usr/bin/false\n",
      "\n",
      "_dovecot:*:214:6:Dovecot Administrator:/var/empty:/usr/bin/false\n",
      "\n",
      "_dpaudio:*:215:215:DP Audio:/var/empty:/usr/bin/false\n",
      "\n",
      "_postgres:*:216:216:PostgreSQL Server:/var/empty:/usr/bin/false\n",
      "\n",
      "_krbtgt:*:217:-2:Kerberos Ticket Granting Ticket:/var/empty:/usr/bin/false\n",
      "\n",
      "_kadmin_admin:*:218:-2:Kerberos Admin Service:/var/empty:/usr/bin/false\n",
      "\n",
      "_kadmin_changepw:*:219:-2:Kerberos Change Password Service:/var/empty:/usr/bin/false\n",
      "\n",
      "_devicemgr:*:220:220:Device Management Server:/var/empty:/usr/bin/false\n",
      "\n",
      "_webauthserver:*:221:221:Web Auth Server:/var/empty:/usr/bin/false\n",
      "\n",
      "_netbios:*:222:222:NetBIOS:/var/empty:/usr/bin/false\n",
      "\n",
      "_warmd:*:224:224:Warm Daemon:/var/empty:/usr/bin/false\n",
      "\n",
      "_dovenull:*:227:227:Dovecot Authentication:/var/empty:/usr/bin/false\n",
      "\n",
      "_netstatistics:*:228:228:Network Statistics Daemon:/var/empty:/usr/bin/false\n",
      "\n",
      "_avbdeviced:*:229:-2:Ethernet AVB Device Daemon:/var/empty:/usr/bin/false\n",
      "\n",
      "_krb_krbtgt:*:230:-2:Open Directory Kerberos Ticket Granting Ticket:/var/empty:/usr/bin/false\n",
      "\n",
      "_krb_kadmin:*:231:-2:Open Directory Kerberos Admin Service:/var/empty:/usr/bin/false\n",
      "\n",
      "_krb_changepw:*:232:-2:Open Directory Kerberos Change Password Service:/var/empty:/usr/bin/false\n",
      "\n",
      "_krb_kerberos:*:233:-2:Open Directory Kerberos:/var/empty:/usr/bin/false\n",
      "\n",
      "_krb_anonymous:*:234:-2:Open Directory Kerberos Anonymous:/var/empty:/usr/bin/false\n",
      "\n",
      "_assetcache:*:235:235:Asset Cache Service:/var/empty:/usr/bin/false\n",
      "\n",
      "_coremediaiod:*:236:236:Core Media IO Daemon:/var/empty:/usr/bin/false\n",
      "\n",
      "_launchservicesd:*:239:239:_launchservicesd:/var/empty:/usr/bin/false\n",
      "\n",
      "_iconservices:*:240:240:IconServices:/var/empty:/usr/bin/false\n",
      "\n",
      "_distnote:*:241:241:DistNote:/var/empty:/usr/bin/false\n",
      "\n",
      "_nsurlsessiond:*:242:242:NSURLSession Daemon:/var/db/nsurlsessiond:/usr/bin/false\n",
      "\n",
      "_nsurlstoraged:*:243:243:NSURLStorage Daemon:/var/db/nsurlstoraged:/usr/bin/false\n",
      "\n",
      "_displaypolicyd:*:244:244:Display Policy Daemon:/var/empty:/usr/bin/false\n",
      "\n",
      "_astris:*:245:245:Astris Services:/var/db/astris:/usr/bin/false\n",
      "\n",
      "_krbfast:*:246:-2:Kerberos FAST Account:/var/empty:/usr/bin/false\n",
      "\n",
      "_gamecontrollerd:*:247:247:Game Controller Daemon:/var/empty:/usr/bin/false\n",
      "\n",
      "_mbsetupuser:*:248:248:Setup User:/var/setup:/bin/bash\n",
      "\n",
      "_ondemand:*:249:249:On Demand Resource Daemon:/var/db/ondemand:/usr/bin/false\n",
      "\n",
      "_xserverdocs:*:251:251:macOS Server Documents Service:/var/empty:/usr/bin/false\n",
      "\n",
      "_wwwproxy:*:252:252:WWW Proxy:/var/empty:/usr/bin/false\n",
      "\n",
      "_mobileasset:*:253:253:MobileAsset User:/var/ma:/usr/bin/false\n",
      "\n",
      "_findmydevice:*:254:254:Find My Device Daemon:/var/db/findmydevice:/usr/bin/false\n",
      "\n",
      "_datadetectors:*:257:257:DataDetectors:/var/db/datadetectors:/usr/bin/false\n",
      "\n",
      "_captiveagent:*:258:258:captiveagent:/var/empty:/usr/bin/false\n",
      "\n",
      "_ctkd:*:259:259:ctkd Account:/var/empty:/usr/bin/false\n",
      "\n",
      "_applepay:*:260:260:applepay Account:/var/db/applepay:/usr/bin/false\n",
      "\n",
      "_hidd:*:261:261:HID Service User:/var/db/hidd:/usr/bin/false\n",
      "\n",
      "_cmiodalassistants:*:262:262:CoreMedia IO Assistants User:/var/db/cmiodalassistants:/usr/bin/false\n",
      "\n",
      "_analyticsd:*:263:263:Analytics Daemon:/var/db/analyticsd:/usr/bin/false\n",
      "\n",
      "_fpsd:*:265:265:FPS Daemon:/var/db/fpsd:/usr/bin/false\n",
      "\n",
      "_timed:*:266:266:Time Sync Daemon:/var/db/timed:/usr/bin/false\n",
      "\n",
      "_nearbyd:*:268:268:Proximity and Ranging Daemon:/var/db/nearbyd:/usr/bin/false\n",
      "\n",
      "_reportmemoryexception:*:269:269:ReportMemoryException:/var/db/reportmemoryexception:/usr/bin/false\n",
      "\n",
      "_driverkit:*:270:270:DriverKit:/var/empty:/usr/bin/false\n",
      "\n"
     ]
    }
   ],
   "source": [
    "# file-like objects are iterable (can be put in a \"for\" loop)\n",
    "\n",
    "# you are to write a generator function called read_n\n",
    "# this function will take two arguments -- a filename and n\n",
    "#   (an integer)\n",
    "\n",
    "# with each iteration, it'll return n lines from the file\n",
    "# as a single string\n",
    "\n",
    "# the final iteration might contain fewer than n lines in \n",
    "# the returned string\n",
    "\n",
    "# goals:\n",
    "# - generator functions, writing and using\n",
    "#      yield vs. return\n",
    "# - somewhat comprehensions\n",
    "# - somewhat understanding file objects and how they work\n",
    "\n",
    "\n",
    "for one_line in read_n('/etc/passwd', 1):\n",
    "    print(one_line)\n",
    "    \n",
    "    \n",
    "for one_chunk in read_n('/etc/passwd', 5):\n",
    "    print(one_chunk)\n",
    " \n",
    "    \n"
   ]
  },
  {
   "cell_type": "code",
   "execution_count": null,
   "metadata": {},
   "outputs": [],
   "source": [
    "for one_line in read_n('/etc/passwd', 1):\n",
    "    print(one_line)\n",
    "    \n",
    "    \n"
   ]
  },
  {
   "cell_type": "code",
   "execution_count": null,
   "metadata": {},
   "outputs": [],
   "source": [
    "for ITEM in THING:\n",
    "    stuff"
   ]
  },
  {
   "cell_type": "code",
   "execution_count": 2,
   "metadata": {},
   "outputs": [
    {
     "name": "stdout",
     "output_type": "stream",
     "text": [
      "a\n",
      "b\n",
      "c\n",
      "d\n"
     ]
    }
   ],
   "source": [
    "for one_item in 'abcd':\n",
    "    print(one_item)"
   ]
  },
  {
   "cell_type": "code",
   "execution_count": 3,
   "metadata": {},
   "outputs": [
    {
     "data": {
      "text/plain": [
       "<str_iterator at 0x112887c10>"
      ]
     },
     "execution_count": 3,
     "metadata": {},
     "output_type": "execute_result"
    }
   ],
   "source": [
    "iter('abcd')"
   ]
  },
  {
   "cell_type": "code",
   "execution_count": 4,
   "metadata": {},
   "outputs": [
    {
     "ename": "TypeError",
     "evalue": "'int' object is not iterable",
     "output_type": "error",
     "traceback": [
      "\u001b[0;31m---------------------------------------------------------------------------\u001b[0m",
      "\u001b[0;31mTypeError\u001b[0m                                 Traceback (most recent call last)",
      "\u001b[0;32m<ipython-input-4-879406f09381>\u001b[0m in \u001b[0;36m<module>\u001b[0;34m\u001b[0m\n\u001b[0;32m----> 1\u001b[0;31m \u001b[0;32mfor\u001b[0m \u001b[0mone_item\u001b[0m \u001b[0;32min\u001b[0m \u001b[0;36m6\u001b[0m\u001b[0;34m:\u001b[0m\u001b[0;34m\u001b[0m\u001b[0;34m\u001b[0m\u001b[0m\n\u001b[0m\u001b[1;32m      2\u001b[0m     \u001b[0mprint\u001b[0m\u001b[0;34m(\u001b[0m\u001b[0mone_item\u001b[0m\u001b[0;34m)\u001b[0m\u001b[0;34m\u001b[0m\u001b[0;34m\u001b[0m\u001b[0m\n",
      "\u001b[0;31mTypeError\u001b[0m: 'int' object is not iterable"
     ]
    }
   ],
   "source": [
    "for one_item in 6:\n",
    "    print(one_item)"
   ]
  },
  {
   "cell_type": "code",
   "execution_count": 5,
   "metadata": {},
   "outputs": [
    {
     "ename": "TypeError",
     "evalue": "'int' object is not iterable",
     "output_type": "error",
     "traceback": [
      "\u001b[0;31m---------------------------------------------------------------------------\u001b[0m",
      "\u001b[0;31mTypeError\u001b[0m                                 Traceback (most recent call last)",
      "\u001b[0;32m<ipython-input-5-11801154f355>\u001b[0m in \u001b[0;36m<module>\u001b[0;34m\u001b[0m\n\u001b[0;32m----> 1\u001b[0;31m \u001b[0miter\u001b[0m\u001b[0;34m(\u001b[0m\u001b[0;36m6\u001b[0m\u001b[0;34m)\u001b[0m\u001b[0;34m\u001b[0m\u001b[0;34m\u001b[0m\u001b[0m\n\u001b[0m",
      "\u001b[0;31mTypeError\u001b[0m: 'int' object is not iterable"
     ]
    }
   ],
   "source": [
    "iter(6)"
   ]
  },
  {
   "cell_type": "code",
   "execution_count": 6,
   "metadata": {},
   "outputs": [],
   "source": [
    "i = iter('abcd')\n"
   ]
  },
  {
   "cell_type": "code",
   "execution_count": 7,
   "metadata": {},
   "outputs": [
    {
     "data": {
      "text/plain": [
       "'a'"
      ]
     },
     "execution_count": 7,
     "metadata": {},
     "output_type": "execute_result"
    }
   ],
   "source": [
    "next(i)"
   ]
  },
  {
   "cell_type": "code",
   "execution_count": 8,
   "metadata": {},
   "outputs": [
    {
     "data": {
      "text/plain": [
       "'b'"
      ]
     },
     "execution_count": 8,
     "metadata": {},
     "output_type": "execute_result"
    }
   ],
   "source": [
    "next(i)"
   ]
  },
  {
   "cell_type": "code",
   "execution_count": 9,
   "metadata": {},
   "outputs": [
    {
     "data": {
      "text/plain": [
       "'c'"
      ]
     },
     "execution_count": 9,
     "metadata": {},
     "output_type": "execute_result"
    }
   ],
   "source": [
    "next(i)"
   ]
  },
  {
   "cell_type": "code",
   "execution_count": 10,
   "metadata": {},
   "outputs": [
    {
     "data": {
      "text/plain": [
       "'d'"
      ]
     },
     "execution_count": 10,
     "metadata": {},
     "output_type": "execute_result"
    }
   ],
   "source": [
    "next(i)"
   ]
  },
  {
   "cell_type": "code",
   "execution_count": 11,
   "metadata": {},
   "outputs": [
    {
     "ename": "StopIteration",
     "evalue": "",
     "output_type": "error",
     "traceback": [
      "\u001b[0;31m---------------------------------------------------------------------------\u001b[0m",
      "\u001b[0;31mStopIteration\u001b[0m                             Traceback (most recent call last)",
      "\u001b[0;32m<ipython-input-11-a883b34d6d8a>\u001b[0m in \u001b[0;36m<module>\u001b[0;34m\u001b[0m\n\u001b[0;32m----> 1\u001b[0;31m \u001b[0mnext\u001b[0m\u001b[0;34m(\u001b[0m\u001b[0mi\u001b[0m\u001b[0;34m)\u001b[0m\u001b[0;34m\u001b[0m\u001b[0;34m\u001b[0m\u001b[0m\n\u001b[0m",
      "\u001b[0;31mStopIteration\u001b[0m: "
     ]
    }
   ],
   "source": [
    "next(i)"
   ]
  },
  {
   "cell_type": "code",
   "execution_count": 12,
   "metadata": {},
   "outputs": [],
   "source": [
    "def thing():  # generator function\n",
    "    yield 'a'\n",
    "    yield 'b'\n",
    "    yield 'c'\n",
    "    yield 'd'"
   ]
  },
  {
   "cell_type": "code",
   "execution_count": 14,
   "metadata": {},
   "outputs": [],
   "source": [
    "g = thing()"
   ]
  },
  {
   "cell_type": "code",
   "execution_count": 15,
   "metadata": {},
   "outputs": [
    {
     "data": {
      "text/plain": [
       "<generator object thing at 0x11292a4d0>"
      ]
     },
     "execution_count": 15,
     "metadata": {},
     "output_type": "execute_result"
    }
   ],
   "source": [
    "iter(g)"
   ]
  },
  {
   "cell_type": "code",
   "execution_count": 16,
   "metadata": {},
   "outputs": [
    {
     "data": {
      "text/plain": [
       "True"
      ]
     },
     "execution_count": 16,
     "metadata": {},
     "output_type": "execute_result"
    }
   ],
   "source": [
    "g == iter(g)"
   ]
  },
  {
   "cell_type": "code",
   "execution_count": 17,
   "metadata": {},
   "outputs": [
    {
     "data": {
      "text/plain": [
       "'a'"
      ]
     },
     "execution_count": 17,
     "metadata": {},
     "output_type": "execute_result"
    }
   ],
   "source": [
    "next(g)"
   ]
  },
  {
   "cell_type": "code",
   "execution_count": 18,
   "metadata": {},
   "outputs": [
    {
     "data": {
      "text/plain": [
       "'b'"
      ]
     },
     "execution_count": 18,
     "metadata": {},
     "output_type": "execute_result"
    }
   ],
   "source": [
    "next(g)"
   ]
  },
  {
   "cell_type": "code",
   "execution_count": 19,
   "metadata": {},
   "outputs": [
    {
     "data": {
      "text/plain": [
       "'c'"
      ]
     },
     "execution_count": 19,
     "metadata": {},
     "output_type": "execute_result"
    }
   ],
   "source": [
    "next(g)"
   ]
  },
  {
   "cell_type": "code",
   "execution_count": 20,
   "metadata": {},
   "outputs": [
    {
     "data": {
      "text/plain": [
       "'d'"
      ]
     },
     "execution_count": 20,
     "metadata": {},
     "output_type": "execute_result"
    }
   ],
   "source": [
    "next(g)"
   ]
  },
  {
   "cell_type": "code",
   "execution_count": 21,
   "metadata": {},
   "outputs": [
    {
     "ename": "StopIteration",
     "evalue": "",
     "output_type": "error",
     "traceback": [
      "\u001b[0;31m---------------------------------------------------------------------------\u001b[0m",
      "\u001b[0;31mStopIteration\u001b[0m                             Traceback (most recent call last)",
      "\u001b[0;32m<ipython-input-21-e734f8aca5ac>\u001b[0m in \u001b[0;36m<module>\u001b[0;34m\u001b[0m\n\u001b[0;32m----> 1\u001b[0;31m \u001b[0mnext\u001b[0m\u001b[0;34m(\u001b[0m\u001b[0mg\u001b[0m\u001b[0;34m)\u001b[0m\u001b[0;34m\u001b[0m\u001b[0;34m\u001b[0m\u001b[0m\n\u001b[0m",
      "\u001b[0;31mStopIteration\u001b[0m: "
     ]
    }
   ],
   "source": [
    "next(g)"
   ]
  },
  {
   "cell_type": "code",
   "execution_count": 22,
   "metadata": {},
   "outputs": [],
   "source": [
    "def loud_thing():  # generator function\n",
    "    print(\"Before yield a\")\n",
    "    yield 'a'\n",
    "    print(\"After a, before b\")\n",
    "    yield 'b'\n",
    "    print(\"After b, before c\")\n",
    "    yield 'c'\n",
    "    print(\"After c, before d\")\n",
    "    yield 'd'\n",
    "    print(\"After d\")"
   ]
  },
  {
   "cell_type": "code",
   "execution_count": 23,
   "metadata": {},
   "outputs": [],
   "source": [
    "g = loud_thing()"
   ]
  },
  {
   "cell_type": "code",
   "execution_count": 24,
   "metadata": {},
   "outputs": [
    {
     "name": "stdout",
     "output_type": "stream",
     "text": [
      "Before yield a\n"
     ]
    },
    {
     "data": {
      "text/plain": [
       "'a'"
      ]
     },
     "execution_count": 24,
     "metadata": {},
     "output_type": "execute_result"
    }
   ],
   "source": [
    "next(g)"
   ]
  },
  {
   "cell_type": "code",
   "execution_count": 25,
   "metadata": {},
   "outputs": [
    {
     "name": "stdout",
     "output_type": "stream",
     "text": [
      "After a, before b\n"
     ]
    },
    {
     "data": {
      "text/plain": [
       "'b'"
      ]
     },
     "execution_count": 25,
     "metadata": {},
     "output_type": "execute_result"
    }
   ],
   "source": [
    "next(g)"
   ]
  },
  {
   "cell_type": "code",
   "execution_count": 26,
   "metadata": {},
   "outputs": [
    {
     "name": "stdout",
     "output_type": "stream",
     "text": [
      "After b, before c\n"
     ]
    },
    {
     "data": {
      "text/plain": [
       "'c'"
      ]
     },
     "execution_count": 26,
     "metadata": {},
     "output_type": "execute_result"
    }
   ],
   "source": [
    "next(g)"
   ]
  },
  {
   "cell_type": "code",
   "execution_count": 27,
   "metadata": {},
   "outputs": [
    {
     "name": "stdout",
     "output_type": "stream",
     "text": [
      "After c, before d\n"
     ]
    },
    {
     "data": {
      "text/plain": [
       "'d'"
      ]
     },
     "execution_count": 27,
     "metadata": {},
     "output_type": "execute_result"
    }
   ],
   "source": [
    "next(g)"
   ]
  },
  {
   "cell_type": "code",
   "execution_count": 28,
   "metadata": {},
   "outputs": [
    {
     "name": "stdout",
     "output_type": "stream",
     "text": [
      "After d\n"
     ]
    },
    {
     "ename": "StopIteration",
     "evalue": "",
     "output_type": "error",
     "traceback": [
      "\u001b[0;31m---------------------------------------------------------------------------\u001b[0m",
      "\u001b[0;31mStopIteration\u001b[0m                             Traceback (most recent call last)",
      "\u001b[0;32m<ipython-input-28-e734f8aca5ac>\u001b[0m in \u001b[0;36m<module>\u001b[0;34m\u001b[0m\n\u001b[0;32m----> 1\u001b[0;31m \u001b[0mnext\u001b[0m\u001b[0;34m(\u001b[0m\u001b[0mg\u001b[0m\u001b[0;34m)\u001b[0m\u001b[0;34m\u001b[0m\u001b[0;34m\u001b[0m\u001b[0m\n\u001b[0m",
      "\u001b[0;31mStopIteration\u001b[0m: "
     ]
    }
   ],
   "source": [
    "next(g)"
   ]
  },
  {
   "cell_type": "code",
   "execution_count": 36,
   "metadata": {},
   "outputs": [],
   "source": [
    "def read_n(filename, n):\n",
    "    f = open(filename)\n",
    "    while True:\n",
    "        chunk = ''.join(f.readline()  # generator expression\n",
    "                        for i in range(n))\n",
    "#         chunk = ''\n",
    "#         for i in range(n):\n",
    "#             chunk += f.readline()  # get one line\n",
    "            \n",
    "        if chunk:  # if it's a non-empty string, then yield it\n",
    "            yield chunk\n",
    "        else:      # empty string? stop the loop\n",
    "            break"
   ]
  },
  {
   "cell_type": "code",
   "execution_count": 37,
   "metadata": {
    "collapsed": true
   },
   "outputs": [
    {
     "name": "stdout",
     "output_type": "stream",
     "text": [
      "##\n",
      "# User Database\n",
      "# \n",
      "# Note that this file is consulted directly only when the system is running\n",
      "# in single-user mode.  At other times this information is provided by\n",
      "# Open Directory.\n",
      "#\n",
      "# See the opendirectoryd(8) man page for additional information about\n",
      "# Open Directory.\n",
      "##\n",
      "nobody:*:-2:-2:Unprivileged User:/var/empty:/usr/bin/false\n",
      "root:*:0:0:System Administrator:/var/root:/bin/sh\n",
      "\n",
      "daemon:*:1:1:System Services:/var/root:/usr/bin/false\n",
      "_uucp:*:4:4:Unix to Unix Copy Protocol:/var/spool/uucp:/usr/sbin/uucico\n",
      "_taskgated:*:13:13:Task Gate Daemon:/var/empty:/usr/bin/false\n",
      "_networkd:*:24:24:Network Services:/var/networkd:/usr/bin/false\n",
      "_installassistant:*:25:25:Install Assistant:/var/empty:/usr/bin/false\n",
      "_lp:*:26:26:Printing Services:/var/spool/cups:/usr/bin/false\n",
      "_postfix:*:27:27:Postfix Mail Server:/var/spool/postfix:/usr/bin/false\n",
      "_scsd:*:31:31:Service Configuration Service:/var/empty:/usr/bin/false\n",
      "_ces:*:32:32:Certificate Enrollment Service:/var/empty:/usr/bin/false\n",
      "_appstore:*:33:33:Mac App Store Service:/var/db/appstore:/usr/bin/false\n",
      "_mcxalr:*:54:54:MCX AppLaunch:/var/empty:/usr/bin/false\n",
      "_appleevents:*:55:55:AppleEvents Daemon:/var/empty:/usr/bin/false\n",
      "\n",
      "_geod:*:56:56:Geo Services Daemon:/var/db/geod:/usr/bin/false\n",
      "_devdocs:*:59:59:Developer Documentation:/var/empty:/usr/bin/false\n",
      "_sandbox:*:60:60:Seatbelt:/var/empty:/usr/bin/false\n",
      "_mdnsresponder:*:65:65:mDNSResponder:/var/empty:/usr/bin/false\n",
      "_ard:*:67:67:Apple Remote Desktop:/var/empty:/usr/bin/false\n",
      "_www:*:70:70:World Wide Web Server:/Library/WebServer:/usr/bin/false\n",
      "_eppc:*:71:71:Apple Events User:/var/empty:/usr/bin/false\n",
      "_cvs:*:72:72:CVS Server:/var/empty:/usr/bin/false\n",
      "_svn:*:73:73:SVN Server:/var/empty:/usr/bin/false\n",
      "_mysql:*:74:74:MySQL Server:/var/empty:/usr/bin/false\n",
      "_sshd:*:75:75:sshd Privilege separation:/var/empty:/usr/bin/false\n",
      "_qtss:*:76:76:QuickTime Streaming Server:/var/empty:/usr/bin/false\n",
      "\n",
      "_cyrus:*:77:6:Cyrus Administrator:/var/imap:/usr/bin/false\n",
      "_mailman:*:78:78:Mailman List Server:/var/empty:/usr/bin/false\n",
      "_appserver:*:79:79:Application Server:/var/empty:/usr/bin/false\n",
      "_clamav:*:82:82:ClamAV Daemon:/var/virusmails:/usr/bin/false\n",
      "_amavisd:*:83:83:AMaViS Daemon:/var/virusmails:/usr/bin/false\n",
      "_jabber:*:84:84:Jabber XMPP Server:/var/empty:/usr/bin/false\n",
      "_appowner:*:87:87:Application Owner:/var/empty:/usr/bin/false\n",
      "_windowserver:*:88:88:WindowServer:/var/empty:/usr/bin/false\n",
      "_spotlight:*:89:89:Spotlight:/var/empty:/usr/bin/false\n",
      "_tokend:*:91:91:Token Daemon:/var/empty:/usr/bin/false\n",
      "_securityagent:*:92:92:SecurityAgent:/var/db/securityagent:/usr/bin/false\n",
      "_calendar:*:93:93:Calendar:/var/empty:/usr/bin/false\n",
      "\n",
      "_teamsserver:*:94:94:TeamsServer:/var/teamsserver:/usr/bin/false\n",
      "_update_sharing:*:95:-2:Update Sharing:/var/empty:/usr/bin/false\n",
      "_installer:*:96:-2:Installer:/var/empty:/usr/bin/false\n",
      "_atsserver:*:97:97:ATS Server:/var/empty:/usr/bin/false\n",
      "_ftp:*:98:-2:FTP Daemon:/var/empty:/usr/bin/false\n",
      "_unknown:*:99:99:Unknown User:/var/empty:/usr/bin/false\n",
      "_softwareupdate:*:200:200:Software Update Service:/var/db/softwareupdate:/usr/bin/false\n",
      "_coreaudiod:*:202:202:Core Audio Daemon:/var/empty:/usr/bin/false\n",
      "_screensaver:*:203:203:Screensaver:/var/empty:/usr/bin/false\n",
      "_locationd:*:205:205:Location Daemon:/var/db/locationd:/usr/bin/false\n",
      "_trustevaluationagent:*:208:208:Trust Evaluation Agent:/var/empty:/usr/bin/false\n",
      "_timezone:*:210:210:AutoTimeZoneDaemon:/var/empty:/usr/bin/false\n",
      "\n",
      "_lda:*:211:211:Local Delivery Agent:/var/empty:/usr/bin/false\n",
      "_cvmsroot:*:212:212:CVMS Root:/var/empty:/usr/bin/false\n",
      "_usbmuxd:*:213:213:iPhone OS Device Helper:/var/db/lockdown:/usr/bin/false\n",
      "_dovecot:*:214:6:Dovecot Administrator:/var/empty:/usr/bin/false\n",
      "_dpaudio:*:215:215:DP Audio:/var/empty:/usr/bin/false\n",
      "_postgres:*:216:216:PostgreSQL Server:/var/empty:/usr/bin/false\n",
      "_krbtgt:*:217:-2:Kerberos Ticket Granting Ticket:/var/empty:/usr/bin/false\n",
      "_kadmin_admin:*:218:-2:Kerberos Admin Service:/var/empty:/usr/bin/false\n",
      "_kadmin_changepw:*:219:-2:Kerberos Change Password Service:/var/empty:/usr/bin/false\n",
      "_devicemgr:*:220:220:Device Management Server:/var/empty:/usr/bin/false\n",
      "_webauthserver:*:221:221:Web Auth Server:/var/empty:/usr/bin/false\n",
      "_netbios:*:222:222:NetBIOS:/var/empty:/usr/bin/false\n",
      "\n",
      "_warmd:*:224:224:Warm Daemon:/var/empty:/usr/bin/false\n",
      "_dovenull:*:227:227:Dovecot Authentication:/var/empty:/usr/bin/false\n",
      "_netstatistics:*:228:228:Network Statistics Daemon:/var/empty:/usr/bin/false\n",
      "_avbdeviced:*:229:-2:Ethernet AVB Device Daemon:/var/empty:/usr/bin/false\n",
      "_krb_krbtgt:*:230:-2:Open Directory Kerberos Ticket Granting Ticket:/var/empty:/usr/bin/false\n",
      "_krb_kadmin:*:231:-2:Open Directory Kerberos Admin Service:/var/empty:/usr/bin/false\n",
      "_krb_changepw:*:232:-2:Open Directory Kerberos Change Password Service:/var/empty:/usr/bin/false\n",
      "_krb_kerberos:*:233:-2:Open Directory Kerberos:/var/empty:/usr/bin/false\n",
      "_krb_anonymous:*:234:-2:Open Directory Kerberos Anonymous:/var/empty:/usr/bin/false\n",
      "_assetcache:*:235:235:Asset Cache Service:/var/empty:/usr/bin/false\n",
      "_coremediaiod:*:236:236:Core Media IO Daemon:/var/empty:/usr/bin/false\n",
      "_launchservicesd:*:239:239:_launchservicesd:/var/empty:/usr/bin/false\n",
      "\n",
      "_iconservices:*:240:240:IconServices:/var/empty:/usr/bin/false\n",
      "_distnote:*:241:241:DistNote:/var/empty:/usr/bin/false\n",
      "_nsurlsessiond:*:242:242:NSURLSession Daemon:/var/db/nsurlsessiond:/usr/bin/false\n",
      "_nsurlstoraged:*:243:243:NSURLStorage Daemon:/var/db/nsurlstoraged:/usr/bin/false\n",
      "_displaypolicyd:*:244:244:Display Policy Daemon:/var/empty:/usr/bin/false\n",
      "_astris:*:245:245:Astris Services:/var/db/astris:/usr/bin/false\n",
      "_krbfast:*:246:-2:Kerberos FAST Account:/var/empty:/usr/bin/false\n",
      "_gamecontrollerd:*:247:247:Game Controller Daemon:/var/empty:/usr/bin/false\n",
      "_mbsetupuser:*:248:248:Setup User:/var/setup:/bin/bash\n",
      "_ondemand:*:249:249:On Demand Resource Daemon:/var/db/ondemand:/usr/bin/false\n",
      "_xserverdocs:*:251:251:macOS Server Documents Service:/var/empty:/usr/bin/false\n",
      "_wwwproxy:*:252:252:WWW Proxy:/var/empty:/usr/bin/false\n",
      "\n",
      "_mobileasset:*:253:253:MobileAsset User:/var/ma:/usr/bin/false\n",
      "_findmydevice:*:254:254:Find My Device Daemon:/var/db/findmydevice:/usr/bin/false\n",
      "_datadetectors:*:257:257:DataDetectors:/var/db/datadetectors:/usr/bin/false\n",
      "_captiveagent:*:258:258:captiveagent:/var/empty:/usr/bin/false\n",
      "_ctkd:*:259:259:ctkd Account:/var/empty:/usr/bin/false\n",
      "_applepay:*:260:260:applepay Account:/var/db/applepay:/usr/bin/false\n",
      "_hidd:*:261:261:HID Service User:/var/db/hidd:/usr/bin/false\n",
      "_cmiodalassistants:*:262:262:CoreMedia IO Assistants User:/var/db/cmiodalassistants:/usr/bin/false\n",
      "_analyticsd:*:263:263:Analytics Daemon:/var/db/analyticsd:/usr/bin/false\n",
      "_fpsd:*:265:265:FPS Daemon:/var/db/fpsd:/usr/bin/false\n",
      "_timed:*:266:266:Time Sync Daemon:/var/db/timed:/usr/bin/false\n",
      "_nearbyd:*:268:268:Proximity and Ranging Daemon:/var/db/nearbyd:/usr/bin/false\n",
      "\n",
      "_reportmemoryexception:*:269:269:ReportMemoryException:/var/db/reportmemoryexception:/usr/bin/false\n",
      "_driverkit:*:270:270:DriverKit:/var/empty:/usr/bin/false\n",
      "\n"
     ]
    }
   ],
   "source": [
    "for one_chunk in read_n('/etc/passwd', 12):\n",
    "    print(one_chunk)"
   ]
  },
  {
   "cell_type": "code",
   "execution_count": 38,
   "metadata": {},
   "outputs": [
    {
     "data": {
      "text/plain": [
       "range"
      ]
     },
     "execution_count": 38,
     "metadata": {},
     "output_type": "execute_result"
    }
   ],
   "source": [
    "r = range(10)\n",
    "type(r)"
   ]
  },
  {
   "cell_type": "code",
   "execution_count": 39,
   "metadata": {},
   "outputs": [
    {
     "data": {
      "text/plain": [
       "<range_iterator at 0x11289bed0>"
      ]
     },
     "execution_count": 39,
     "metadata": {},
     "output_type": "execute_result"
    }
   ],
   "source": [
    "iter(r)"
   ]
  },
  {
   "cell_type": "code",
   "execution_count": 40,
   "metadata": {},
   "outputs": [
    {
     "name": "stdout",
     "output_type": "stream",
     "text": [
      "0 1 2 3 4 5 6 7 8 9 "
     ]
    }
   ],
   "source": [
    "for i in range(10):\n",
    "    print(i, end=' ')"
   ]
  },
  {
   "cell_type": "code",
   "execution_count": 41,
   "metadata": {},
   "outputs": [
    {
     "name": "stdout",
     "output_type": "stream",
     "text": [
      "10 11 12 13 14 15 16 17 18 19 "
     ]
    }
   ],
   "source": [
    "for i in range(10, 20):\n",
    "    print(i, end=' ')"
   ]
  },
  {
   "cell_type": "code",
   "execution_count": 42,
   "metadata": {},
   "outputs": [
    {
     "name": "stdout",
     "output_type": "stream",
     "text": [
      "10 13 16 19 "
     ]
    }
   ],
   "source": [
    "for i in range(10, 20, 3):\n",
    "    print(i, end=' ')"
   ]
  },
  {
   "cell_type": "code",
   "execution_count": 44,
   "metadata": {},
   "outputs": [],
   "source": [
    "r = range(5, 1000, 3)"
   ]
  },
  {
   "cell_type": "code",
   "execution_count": 46,
   "metadata": {},
   "outputs": [
    {
     "data": {
      "text/plain": [
       "[41, 44, 47, 50, 53, 56, 59, 62]"
      ]
     },
     "execution_count": 46,
     "metadata": {},
     "output_type": "execute_result"
    }
   ],
   "source": [
    "list(r[12:20])"
   ]
  },
  {
   "cell_type": "code",
   "execution_count": 47,
   "metadata": {},
   "outputs": [
    {
     "data": {
      "text/plain": [
       "332"
      ]
     },
     "execution_count": 47,
     "metadata": {},
     "output_type": "execute_result"
    }
   ],
   "source": [
    "len(r)"
   ]
  },
  {
   "cell_type": "code",
   "execution_count": null,
   "metadata": {},
   "outputs": [],
   "source": [
    "# write a generator function called \"myrange\"\n",
    "# which works like range -- with 1, 2, or 3 arguments"
   ]
  },
  {
   "cell_type": "code",
   "execution_count": 40,
   "metadata": {},
   "outputs": [
    {
     "name": "stdout",
     "output_type": "stream",
     "text": [
      "0 1 2 3 4 5 6 7 8 9 "
     ]
    }
   ],
   "source": [
    "for i in myrange(10):\n",
    "    print(i, end=' ')"
   ]
  },
  {
   "cell_type": "code",
   "execution_count": 41,
   "metadata": {},
   "outputs": [
    {
     "name": "stdout",
     "output_type": "stream",
     "text": [
      "10 11 12 13 14 15 16 17 18 19 "
     ]
    }
   ],
   "source": [
    "for i in myrange(10, 20):\n",
    "    print(i, end=' ')"
   ]
  },
  {
   "cell_type": "code",
   "execution_count": 42,
   "metadata": {},
   "outputs": [
    {
     "name": "stdout",
     "output_type": "stream",
     "text": [
      "10 13 16 19 "
     ]
    }
   ],
   "source": [
    "for i in myrange(10, 20, 3):\n",
    "    print(i, end=' ')"
   ]
  },
  {
   "cell_type": "code",
   "execution_count": 48,
   "metadata": {},
   "outputs": [
    {
     "name": "stdout",
     "output_type": "stream",
     "text": [
      "20 17 14 11 "
     ]
    }
   ],
   "source": [
    "for i in range(20, 10, -3):\n",
    "    print(i, end=' ')"
   ]
  },
  {
   "cell_type": "code",
   "execution_count": 52,
   "metadata": {},
   "outputs": [
    {
     "name": "stdout",
     "output_type": "stream",
     "text": [
      "20 17 14 11 "
     ]
    }
   ],
   "source": [
    "def myrange(*args):\n",
    "    n = 0\n",
    "    if len(args) == 1:\n",
    "        stop = args[0]\n",
    "        while n < stop:\n",
    "            yield n\n",
    "            n += 1\n",
    "    if len(args) == 2:\n",
    "        start = args[0]\n",
    "        stop = args[1]\n",
    "        n = start\n",
    "        while n < stop:\n",
    "            yield n\n",
    "            n += 1\n",
    "    if len(args) == 3:\n",
    "        step = args[2]\n",
    "        start = args[0]\n",
    "        stop = args[1]\n",
    "        n = start\n",
    "        if step > 0:\n",
    "            while n < stop:\n",
    "                yield n\n",
    "                n += step\n",
    "        elif step < 0:\n",
    "            while n > stop:\n",
    "                yield n\n",
    "                n += step\n",
    "\n",
    "for i in myrange(20,10,-3):\n",
    "    print(i, end=' ')\n"
   ]
  },
  {
   "cell_type": "code",
   "execution_count": 62,
   "metadata": {},
   "outputs": [
    {
     "name": "stdout",
     "output_type": "stream",
     "text": [
      "0 1 2 3 4 5 6 7 8 9 \n",
      "10 11 12 13 14 15 16 17 18 19 \n",
      "20 17 14 11 "
     ]
    }
   ],
   "source": [
    "def myrange(first, second=None, step=1):\n",
    "    if second is None:  # from 0-first\n",
    "        current = 0\n",
    "        end = first\n",
    "        \n",
    "    else:  # from first-second\n",
    "        current = first\n",
    "        end = second\n",
    "        \n",
    "    while ((step > 0 and current < end) or\n",
    "           (step < 0 and current > end)):\n",
    "        yield current\n",
    "        current += step\n",
    "\n",
    "for i in myrange(10):\n",
    "    print(i, end=' ')\n",
    "print()\n",
    "\n",
    "for i in myrange(10, 20):\n",
    "    print(i, end=' ')\n",
    "print()\n",
    "    \n",
    "for i in myrange(20, 10, -3):\n",
    "    print(i, end=' ')"
   ]
  },
  {
   "cell_type": "code",
   "execution_count": null,
   "metadata": {},
   "outputs": [],
   "source": [
    "# write a function, filefunc, that takes two arguments\n",
    "# - first is a directory name\n",
    "# - second is a function\n",
    "\n",
    "# filefunc should invoke the function on each file\n",
    "# in the directory.\n",
    "\n",
    "# filefunc returns two dictionaries (i.e., a tuple of\n",
    "# dicts).  The first is for success -- the keys are the\n",
    "# filenames, and the values are what we got from invoking\n",
    "# the function on each filename.\n",
    "\n",
    "# the second dict is similar, but for failures.  The\n",
    "# keys will be the filenames, and the values will be\n",
    "# the exception object that you got from the failure\n",
    "\n",
    "# learning goals:\n",
    "# - dealing with directories and files in them\n",
    "# - accepting a function as an argument to another function\n",
    "# - dealing with exceptions\n",
    "\n",
    "def get_file_length(filename):\n",
    "    return len(open(filename).read())\n",
    "\n",
    "filefunc('/etc/', get_file_length)"
   ]
  },
  {
   "cell_type": "code",
   "execution_count": 73,
   "metadata": {
    "scrolled": true
   },
   "outputs": [
    {
     "name": "stdout",
     "output_type": "stream",
     "text": [
      "\tIsADirectoryError for emond.d\n",
      "\tIsADirectoryError for xinetd.d-migrated2launchd\n",
      "\tIsADirectoryError for periodic\n",
      "\tPermissionError for krb5.keytab\n",
      "\tIsADirectoryError for sudoers.d\n",
      "\tIsADirectoryError for ssl\n",
      "\tPermissionError for aliases.db\n",
      "\tIsADirectoryError for racoon\n",
      "\tIsADirectoryError for snmp\n",
      "\tPermissionError for master.passwd~orig\n",
      "\tIsADirectoryError for paths.d\n",
      "\tIsADirectoryError for asl\n",
      "\tIsADirectoryError for security\n",
      "\tPermissionError for sudoers~\n",
      "\tIsADirectoryError for manpaths.d\n",
      "\tIsADirectoryError for ppp\n",
      "\tIsADirectoryError for xinetd.d\n",
      "\tIsADirectoryError for php-fpm.d\n",
      "\tUnicodeDecodeError for localtime\n",
      "\tIsADirectoryError for CiscoSystemsVPNClient\n",
      "\tPermissionError for sudoers\n",
      "\tIsADirectoryError for newsyslog.d\n",
      "\tIsADirectoryError for emacs\n",
      "\tIsADirectoryError for pam.d\n",
      "\tIsADirectoryError for defaults\n",
      "\tIsADirectoryError for apache2\n",
      "\tIsADirectoryError for ssh\n",
      "\tIsADirectoryError for dictionaries-common\n",
      "\tPermissionError for sudoers~orig\n",
      "\tPermissionError for sudo_lecture\n",
      "\tFileNotFoundError for X11\n",
      "\tIsADirectoryError for opt\n",
      "\tIsADirectoryError for postfix\n",
      "\tIsADirectoryError for pf.anchors\n",
      "\tPermissionError for master.passwd\n",
      "\tIsADirectoryError for openldap\n",
      "\tIsADirectoryError for fonts\n",
      "\tIsADirectoryError for openssl\n",
      "\tIsADirectoryError for wfs\n",
      "\tPermissionError for AFP.conf\n",
      "\tIsADirectoryError for cups\n",
      "\tIsADirectoryError for resolver\n"
     ]
    }
   ],
   "source": [
    "import os\n",
    "\n",
    "def get_file_length(filename):\n",
    "    return len(open(filename).read())\n",
    "\n",
    "def filefunc(directory, func):\n",
    "    dict_OK = {}\n",
    "    dict_NOK = {}\n",
    "    for filename in os.listdir(directory):\n",
    "        try:\n",
    "            dict_OK[filename] = get_file_length(os.path.join(directory, filename))\n",
    "        except IsADirectoryError as e:\n",
    "            print(f'\\tIsADirectoryError for {filename}')\n",
    "            dict_NOK[filename] = e\n",
    "        except PermissionError as e:\n",
    "            print(f'\\tPermissionError for {filename}')\n",
    "            dict_NOK[filename] = e\n",
    "        except UnicodeDecodeError as e:\n",
    "            print(f'\\tUnicodeDecodeError for {filename}')\n",
    "            dict_NOK[filename] = type(e)\n",
    "        except FileNotFoundError as e:\n",
    "            print(f'\\tFileNotFoundError for {filename}')\n",
    "            dict_NOK[filename] = e\n",
    "    return dict_OK, dict_NOK\n",
    "              \n",
    "good_dict, bad_dict = filefunc('/etc/', get_file_length)\n"
   ]
  },
  {
   "cell_type": "code",
   "execution_count": null,
   "metadata": {},
   "outputs": [],
   "source": []
  },
  {
   "cell_type": "code",
   "execution_count": 63,
   "metadata": {
    "collapsed": true
   },
   "outputs": [
    {
     "data": {
      "text/plain": [
       "['emond.d',\n",
       " 'xinetd.d-migrated2launchd',\n",
       " 'ssh_config.system_default',\n",
       " 'ssh_config.applesaved',\n",
       " 'periodic',\n",
       " 'manpaths',\n",
       " 'services~previous',\n",
       " 'rc.common',\n",
       " 'csh.logout~orig',\n",
       " 'auto_master',\n",
       " 'php.ini.default-5.2-previous~orig',\n",
       " 'csh.login',\n",
       " 'syslog.conf',\n",
       " 'rtadvd.conf~previous',\n",
       " 'syslog.conf~previous',\n",
       " 'krb5.keytab',\n",
       " 'sudoers.d',\n",
       " 'bash_completion.d',\n",
       " 'ssl',\n",
       " 'kern_loader.conf.applesaved',\n",
       " 'nanorc',\n",
       " 'ttys~previous',\n",
       " 'csh.logout',\n",
       " 'aliases.db',\n",
       " 'hosts.lpd',\n",
       " 'bashrc_Apple_Terminal',\n",
       " 'racoon',\n",
       " 'snmp',\n",
       " 'zshrc_Apple_Terminal',\n",
       " 'named.conf.applesaved',\n",
       " 'gettytab',\n",
       " 'master.passwd~orig',\n",
       " 'kern_loader.conf',\n",
       " 'authorization.user_modified',\n",
       " 'networks~orig',\n",
       " 'paths.d',\n",
       " 'asl',\n",
       " 'csh.login~orig',\n",
       " 'rtadvd.conf',\n",
       " 'security',\n",
       " 'protocols~previous',\n",
       " 'group',\n",
       " 'printcap',\n",
       " 'auto_home',\n",
       " 'php.ini.default-previous',\n",
       " 'sudoers~',\n",
       " 'manpaths.d',\n",
       " 'smb.conf.applesaved',\n",
       " 'ppp',\n",
       " 'shells',\n",
       " 'pear.conf-previous',\n",
       " 'crontab',\n",
       " 'slpsa.conf.applesaved',\n",
       " 'rc.common~previous',\n",
       " 'xinetd.d',\n",
       " 'ttys',\n",
       " 'php-fpm.d',\n",
       " 'group~previous',\n",
       " 'php-fpm.conf.default',\n",
       " 'paths',\n",
       " 'rmtab',\n",
       " 'csh.cshrc~orig',\n",
       " 'inetd.conf.applesaved',\n",
       " 'xtab',\n",
       " 'php.ini.default',\n",
       " 'syslog.conf.applesaved',\n",
       " 'localtime',\n",
       " 'pf.conf',\n",
       " '6to4.conf.applesaved',\n",
       " 'CiscoSystemsVPNClient',\n",
       " 'launchd.conf',\n",
       " 'sudoers',\n",
       " 'ftpusers~orig',\n",
       " 'bashrc',\n",
       " 'find.codes~orig',\n",
       " 'auto_master~orig',\n",
       " 'newsyslog.d',\n",
       " 'emacs',\n",
       " 'irbrc',\n",
       " 'pam.d',\n",
       " 'zshrc',\n",
       " 'defaults',\n",
       " 'hosts.equiv',\n",
       " 'networks',\n",
       " 'find.codes',\n",
       " 'rpc~previous',\n",
       " 'apache2',\n",
       " 'autofs.conf',\n",
       " 'ssh',\n",
       " 'ftpusers',\n",
       " 'postgres-reg.ini',\n",
       " 'slpsa.conf',\n",
       " 'profile',\n",
       " 'csh.cshrc',\n",
       " 'fstab.hd~previous',\n",
       " 'ntp.conf.applesaved',\n",
       " 'ntp_opendirectory.conf',\n",
       " 'ssh_config~orig',\n",
       " 'profile~orig',\n",
       " 'authorization.deprecated',\n",
       " 'locate.rc',\n",
       " 'resolv.conf',\n",
       " 'nfs.conf',\n",
       " 'crontab.applesaved',\n",
       " 'dictionaries-common',\n",
       " 'sudoers~orig',\n",
       " 'sudo_lecture',\n",
       " 'asl.conf',\n",
       " 'ttys.applesaved',\n",
       " 'moduli~previous',\n",
       " 'rc.netboot',\n",
       " 'X11',\n",
       " 'afpovertcp.cfg~orig',\n",
       " 'hosts~orig',\n",
       " 'fstab',\n",
       " 'opt',\n",
       " 'nfs.conf~orig',\n",
       " 'hostconfig',\n",
       " 'smb.conf.old',\n",
       " 'kern_loader.conf~previous',\n",
       " 'xinetd.conf.applesaved',\n",
       " 'rtadvd.conf.applesaved',\n",
       " 'sshd_config.system_default',\n",
       " 'hosts',\n",
       " 'efax.rc~previous',\n",
       " 'postfix',\n",
       " 'pf.os',\n",
       " 'pf.anchors',\n",
       " 'php.ini.default-previous~orig',\n",
       " 'ntp.conf',\n",
       " 'php.ini.default-5.2-previous',\n",
       " 'gettytab~orig',\n",
       " 'passwd~orig',\n",
       " 'rpc',\n",
       " 'master.passwd',\n",
       " 'sshd_config~previous',\n",
       " 'fstab.hd',\n",
       " 'openldap',\n",
       " 'aliases',\n",
       " 'paths~orig',\n",
       " 'fonts',\n",
       " 'openssl',\n",
       " 'com.apple.screensharing.agent.launchd',\n",
       " 'wfs',\n",
       " 'hostconfig.system_default',\n",
       " 'shells~orig',\n",
       " 'sshd_config.applesaved',\n",
       " 'dumpdates',\n",
       " 'protocols',\n",
       " 'AFP.conf',\n",
       " 'cups',\n",
       " 'man.conf',\n",
       " 'services',\n",
       " 'mail.rc~orig',\n",
       " 'resolver',\n",
       " 'passwd',\n",
       " 'zprofile',\n",
       " 'afpovertcp.cfg',\n",
       " 'newsyslog.conf',\n",
       " 'bashrc~previous',\n",
       " 'mail.rc',\n",
       " 'notify.conf',\n",
       " 'sysctl.conf.pg']"
      ]
     },
     "execution_count": 63,
     "metadata": {},
     "output_type": "execute_result"
    }
   ],
   "source": [
    "import os\n",
    "os.listdir('/etc/')"
   ]
  },
  {
   "cell_type": "code",
   "execution_count": 64,
   "metadata": {},
   "outputs": [
    {
     "data": {
      "text/plain": [
       "'/etc/passwd'"
      ]
     },
     "execution_count": 64,
     "metadata": {},
     "output_type": "execute_result"
    }
   ],
   "source": [
    "os.path.join('/etc/', 'passwd')"
   ]
  },
  {
   "cell_type": "code",
   "execution_count": 65,
   "metadata": {
    "collapsed": true
   },
   "outputs": [
    {
     "data": {
      "text/plain": [
       "['/etc/emond.d',\n",
       " '/etc/xinetd.d-migrated2launchd',\n",
       " '/etc/ssh_config.system_default',\n",
       " '/etc/ssh_config.applesaved',\n",
       " '/etc/periodic',\n",
       " '/etc/manpaths',\n",
       " '/etc/services~previous',\n",
       " '/etc/rc.common',\n",
       " '/etc/csh.logout~orig',\n",
       " '/etc/auto_master',\n",
       " '/etc/php.ini.default-5.2-previous~orig',\n",
       " '/etc/csh.login',\n",
       " '/etc/syslog.conf',\n",
       " '/etc/rtadvd.conf~previous',\n",
       " '/etc/syslog.conf~previous',\n",
       " '/etc/krb5.keytab',\n",
       " '/etc/sudoers.d',\n",
       " '/etc/bash_completion.d',\n",
       " '/etc/ssl',\n",
       " '/etc/kern_loader.conf.applesaved',\n",
       " '/etc/nanorc',\n",
       " '/etc/ttys~previous',\n",
       " '/etc/csh.logout',\n",
       " '/etc/aliases.db',\n",
       " '/etc/hosts.lpd',\n",
       " '/etc/bashrc_Apple_Terminal',\n",
       " '/etc/racoon',\n",
       " '/etc/snmp',\n",
       " '/etc/zshrc_Apple_Terminal',\n",
       " '/etc/named.conf.applesaved',\n",
       " '/etc/gettytab',\n",
       " '/etc/master.passwd~orig',\n",
       " '/etc/kern_loader.conf',\n",
       " '/etc/authorization.user_modified',\n",
       " '/etc/networks~orig',\n",
       " '/etc/paths.d',\n",
       " '/etc/asl',\n",
       " '/etc/csh.login~orig',\n",
       " '/etc/rtadvd.conf',\n",
       " '/etc/security',\n",
       " '/etc/protocols~previous',\n",
       " '/etc/group',\n",
       " '/etc/printcap',\n",
       " '/etc/auto_home',\n",
       " '/etc/php.ini.default-previous',\n",
       " '/etc/sudoers~',\n",
       " '/etc/manpaths.d',\n",
       " '/etc/smb.conf.applesaved',\n",
       " '/etc/ppp',\n",
       " '/etc/shells',\n",
       " '/etc/pear.conf-previous',\n",
       " '/etc/crontab',\n",
       " '/etc/slpsa.conf.applesaved',\n",
       " '/etc/rc.common~previous',\n",
       " '/etc/xinetd.d',\n",
       " '/etc/ttys',\n",
       " '/etc/php-fpm.d',\n",
       " '/etc/group~previous',\n",
       " '/etc/php-fpm.conf.default',\n",
       " '/etc/paths',\n",
       " '/etc/rmtab',\n",
       " '/etc/csh.cshrc~orig',\n",
       " '/etc/inetd.conf.applesaved',\n",
       " '/etc/xtab',\n",
       " '/etc/php.ini.default',\n",
       " '/etc/syslog.conf.applesaved',\n",
       " '/etc/localtime',\n",
       " '/etc/pf.conf',\n",
       " '/etc/6to4.conf.applesaved',\n",
       " '/etc/CiscoSystemsVPNClient',\n",
       " '/etc/launchd.conf',\n",
       " '/etc/sudoers',\n",
       " '/etc/ftpusers~orig',\n",
       " '/etc/bashrc',\n",
       " '/etc/find.codes~orig',\n",
       " '/etc/auto_master~orig',\n",
       " '/etc/newsyslog.d',\n",
       " '/etc/emacs',\n",
       " '/etc/irbrc',\n",
       " '/etc/pam.d',\n",
       " '/etc/zshrc',\n",
       " '/etc/defaults',\n",
       " '/etc/hosts.equiv',\n",
       " '/etc/networks',\n",
       " '/etc/find.codes',\n",
       " '/etc/rpc~previous',\n",
       " '/etc/apache2',\n",
       " '/etc/autofs.conf',\n",
       " '/etc/ssh',\n",
       " '/etc/ftpusers',\n",
       " '/etc/postgres-reg.ini',\n",
       " '/etc/slpsa.conf',\n",
       " '/etc/profile',\n",
       " '/etc/csh.cshrc',\n",
       " '/etc/fstab.hd~previous',\n",
       " '/etc/ntp.conf.applesaved',\n",
       " '/etc/ntp_opendirectory.conf',\n",
       " '/etc/ssh_config~orig',\n",
       " '/etc/profile~orig',\n",
       " '/etc/authorization.deprecated',\n",
       " '/etc/locate.rc',\n",
       " '/etc/resolv.conf',\n",
       " '/etc/nfs.conf',\n",
       " '/etc/crontab.applesaved',\n",
       " '/etc/dictionaries-common',\n",
       " '/etc/sudoers~orig',\n",
       " '/etc/sudo_lecture',\n",
       " '/etc/asl.conf',\n",
       " '/etc/ttys.applesaved',\n",
       " '/etc/moduli~previous',\n",
       " '/etc/rc.netboot',\n",
       " '/etc/X11',\n",
       " '/etc/afpovertcp.cfg~orig',\n",
       " '/etc/hosts~orig',\n",
       " '/etc/fstab',\n",
       " '/etc/opt',\n",
       " '/etc/nfs.conf~orig',\n",
       " '/etc/hostconfig',\n",
       " '/etc/smb.conf.old',\n",
       " '/etc/kern_loader.conf~previous',\n",
       " '/etc/xinetd.conf.applesaved',\n",
       " '/etc/rtadvd.conf.applesaved',\n",
       " '/etc/sshd_config.system_default',\n",
       " '/etc/hosts',\n",
       " '/etc/efax.rc~previous',\n",
       " '/etc/postfix',\n",
       " '/etc/pf.os',\n",
       " '/etc/pf.anchors',\n",
       " '/etc/php.ini.default-previous~orig',\n",
       " '/etc/ntp.conf',\n",
       " '/etc/php.ini.default-5.2-previous',\n",
       " '/etc/gettytab~orig',\n",
       " '/etc/passwd~orig',\n",
       " '/etc/rpc',\n",
       " '/etc/master.passwd',\n",
       " '/etc/sshd_config~previous',\n",
       " '/etc/fstab.hd',\n",
       " '/etc/openldap',\n",
       " '/etc/aliases',\n",
       " '/etc/paths~orig',\n",
       " '/etc/fonts',\n",
       " '/etc/openssl',\n",
       " '/etc/com.apple.screensharing.agent.launchd',\n",
       " '/etc/wfs',\n",
       " '/etc/hostconfig.system_default',\n",
       " '/etc/shells~orig',\n",
       " '/etc/sshd_config.applesaved',\n",
       " '/etc/dumpdates',\n",
       " '/etc/protocols',\n",
       " '/etc/AFP.conf',\n",
       " '/etc/cups',\n",
       " '/etc/man.conf',\n",
       " '/etc/services',\n",
       " '/etc/mail.rc~orig',\n",
       " '/etc/resolver',\n",
       " '/etc/passwd',\n",
       " '/etc/zprofile',\n",
       " '/etc/afpovertcp.cfg',\n",
       " '/etc/newsyslog.conf',\n",
       " '/etc/bashrc~previous',\n",
       " '/etc/mail.rc',\n",
       " '/etc/notify.conf',\n",
       " '/etc/sysctl.conf.pg']"
      ]
     },
     "execution_count": 65,
     "metadata": {},
     "output_type": "execute_result"
    }
   ],
   "source": [
    "import glob   # the * and ? and even [] on the command line\n",
    "glob.glob('/etc/*')"
   ]
  },
  {
   "cell_type": "code",
   "execution_count": 74,
   "metadata": {
    "collapsed": true
   },
   "outputs": [
    {
     "data": {
      "text/plain": [
       "{'ssh_config.system_default': 1465,\n",
       " 'ssh_config.applesaved': 1144,\n",
       " 'manpaths': 36,\n",
       " 'services~previous': 677972,\n",
       " 'rc.common': 1560,\n",
       " 'csh.logout~orig': 39,\n",
       " 'auto_master': 195,\n",
       " 'php.ini.default-5.2-previous~orig': 65459,\n",
       " 'csh.login': 121,\n",
       " 'syslog.conf': 96,\n",
       " 'rtadvd.conf~previous': 891,\n",
       " 'syslog.conf~previous': 96,\n",
       " 'bash_completion.d': 0,\n",
       " 'kern_loader.conf.applesaved': 0,\n",
       " 'nanorc': 11,\n",
       " 'ttys~previous': 1316,\n",
       " 'csh.logout': 39,\n",
       " 'hosts.lpd': 0,\n",
       " 'bashrc_Apple_Terminal': 9192,\n",
       " 'zshrc_Apple_Terminal': 911,\n",
       " 'named.conf.applesaved': 905,\n",
       " 'gettytab': 5678,\n",
       " 'kern_loader.conf': 0,\n",
       " 'authorization.user_modified': 18621,\n",
       " 'networks~orig': 53,\n",
       " 'csh.login~orig': 121,\n",
       " 'rtadvd.conf': 891,\n",
       " 'protocols~previous': 6393,\n",
       " 'group': 2922,\n",
       " 'printcap': 452,\n",
       " 'auto_home': 149,\n",
       " 'php.ini.default-previous': 71055,\n",
       " 'smb.conf.applesaved': 1699,\n",
       " 'shells': 189,\n",
       " 'pear.conf-previous': 1208,\n",
       " 'crontab': 137,\n",
       " 'slpsa.conf.applesaved': 52,\n",
       " 'rc.common~previous': 1560,\n",
       " 'ttys': 1316,\n",
       " 'group~previous': 2769,\n",
       " 'php-fpm.conf.default': 5331,\n",
       " 'paths': 45,\n",
       " 'rmtab': 0,\n",
       " 'csh.cshrc~orig': 189,\n",
       " 'inetd.conf.applesaved': 2893,\n",
       " 'xtab': 0,\n",
       " 'php.ini.default': 71890,\n",
       " 'syslog.conf.applesaved': 823,\n",
       " 'pf.conf': 1027,\n",
       " '6to4.conf.applesaved': 753,\n",
       " 'launchd.conf': 19,\n",
       " 'ftpusers~orig': 119,\n",
       " 'bashrc': 265,\n",
       " 'find.codes~orig': 0,\n",
       " 'auto_master~orig': 194,\n",
       " 'irbrc': 1299,\n",
       " 'zshrc': 3094,\n",
       " 'hosts.equiv': 0,\n",
       " 'networks': 53,\n",
       " 'find.codes': 0,\n",
       " 'rpc~previous': 1735,\n",
       " 'autofs.conf': 1935,\n",
       " 'ftpusers': 119,\n",
       " 'postgres-reg.ini': 1101,\n",
       " 'slpsa.conf': 52,\n",
       " 'profile': 189,\n",
       " 'csh.cshrc': 189,\n",
       " 'fstab.hd~previous': 150,\n",
       " 'ntp.conf.applesaved': 44,\n",
       " 'ntp_opendirectory.conf': 23,\n",
       " 'ssh_config~orig': 3847,\n",
       " 'profile~orig': 189,\n",
       " 'authorization.deprecated': 343017,\n",
       " 'locate.rc': 621,\n",
       " 'resolv.conf': 368,\n",
       " 'nfs.conf': 43,\n",
       " 'crontab.applesaved': 296,\n",
       " 'asl.conf': 1051,\n",
       " 'ttys.applesaved': 2442,\n",
       " 'moduli~previous': 242153,\n",
       " 'rc.netboot': 5264,\n",
       " 'afpovertcp.cfg~orig': 515,\n",
       " 'hosts~orig': 213,\n",
       " 'fstab': 293,\n",
       " 'nfs.conf~orig': 43,\n",
       " 'hostconfig': 201,\n",
       " 'smb.conf.old': 2975,\n",
       " 'kern_loader.conf~previous': 0,\n",
       " 'xinetd.conf.applesaved': 238,\n",
       " 'rtadvd.conf.applesaved': 983,\n",
       " 'sshd_config.system_default': 3362,\n",
       " 'hosts': 220,\n",
       " 'efax.rc~previous': 1029,\n",
       " 'pf.os': 28311,\n",
       " 'php.ini.default-previous~orig': 73685,\n",
       " 'ntp.conf': 22,\n",
       " 'php.ini.default-5.2-previous': 69266,\n",
       " 'gettytab~orig': 5678,\n",
       " 'passwd~orig': 6393,\n",
       " 'rpc': 1735,\n",
       " 'sshd_config~previous': 4161,\n",
       " 'fstab.hd': 150,\n",
       " 'aliases': 10086,\n",
       " 'paths~orig': 45,\n",
       " 'com.apple.screensharing.agent.launchd': 82,\n",
       " 'hostconfig.system_default': 185,\n",
       " 'shells~orig': 179,\n",
       " 'sshd_config.applesaved': 2409,\n",
       " 'dumpdates': 0,\n",
       " 'protocols': 6393,\n",
       " 'man.conf': 4627,\n",
       " 'services': 677972,\n",
       " 'mail.rc~orig': 106,\n",
       " 'passwd': 6946,\n",
       " 'zprofile': 255,\n",
       " 'afpovertcp.cfg': 515,\n",
       " 'newsyslog.conf': 1318,\n",
       " 'bashrc~previous': 265,\n",
       " 'mail.rc': 106,\n",
       " 'notify.conf': 351,\n",
       " 'sysctl.conf.pg': 106}"
      ]
     },
     "execution_count": 74,
     "metadata": {},
     "output_type": "execute_result"
    }
   ],
   "source": [
    "good_dict"
   ]
  },
  {
   "cell_type": "code",
   "execution_count": 75,
   "metadata": {},
   "outputs": [
    {
     "data": {
      "text/plain": [
       "{'emond.d': IsADirectoryError(21, 'Is a directory'),\n",
       " 'xinetd.d-migrated2launchd': IsADirectoryError(21, 'Is a directory'),\n",
       " 'periodic': IsADirectoryError(21, 'Is a directory'),\n",
       " 'krb5.keytab': PermissionError(13, 'Permission denied'),\n",
       " 'sudoers.d': IsADirectoryError(21, 'Is a directory'),\n",
       " 'ssl': IsADirectoryError(21, 'Is a directory'),\n",
       " 'aliases.db': PermissionError(13, 'Permission denied'),\n",
       " 'racoon': IsADirectoryError(21, 'Is a directory'),\n",
       " 'snmp': IsADirectoryError(21, 'Is a directory'),\n",
       " 'master.passwd~orig': PermissionError(13, 'Permission denied'),\n",
       " 'paths.d': IsADirectoryError(21, 'Is a directory'),\n",
       " 'asl': IsADirectoryError(21, 'Is a directory'),\n",
       " 'security': IsADirectoryError(21, 'Is a directory'),\n",
       " 'sudoers~': PermissionError(13, 'Permission denied'),\n",
       " 'manpaths.d': IsADirectoryError(21, 'Is a directory'),\n",
       " 'ppp': IsADirectoryError(21, 'Is a directory'),\n",
       " 'xinetd.d': IsADirectoryError(21, 'Is a directory'),\n",
       " 'php-fpm.d': IsADirectoryError(21, 'Is a directory'),\n",
       " 'localtime': UnicodeDecodeError,\n",
       " 'CiscoSystemsVPNClient': IsADirectoryError(21, 'Is a directory'),\n",
       " 'sudoers': PermissionError(13, 'Permission denied'),\n",
       " 'newsyslog.d': IsADirectoryError(21, 'Is a directory'),\n",
       " 'emacs': IsADirectoryError(21, 'Is a directory'),\n",
       " 'pam.d': IsADirectoryError(21, 'Is a directory'),\n",
       " 'defaults': IsADirectoryError(21, 'Is a directory'),\n",
       " 'apache2': IsADirectoryError(21, 'Is a directory'),\n",
       " 'ssh': IsADirectoryError(21, 'Is a directory'),\n",
       " 'dictionaries-common': IsADirectoryError(21, 'Is a directory'),\n",
       " 'sudoers~orig': PermissionError(13, 'Permission denied'),\n",
       " 'sudo_lecture': PermissionError(13, 'Permission denied'),\n",
       " 'X11': FileNotFoundError(2, 'No such file or directory'),\n",
       " 'opt': IsADirectoryError(21, 'Is a directory'),\n",
       " 'postfix': IsADirectoryError(21, 'Is a directory'),\n",
       " 'pf.anchors': IsADirectoryError(21, 'Is a directory'),\n",
       " 'master.passwd': PermissionError(13, 'Permission denied'),\n",
       " 'openldap': IsADirectoryError(21, 'Is a directory'),\n",
       " 'fonts': IsADirectoryError(21, 'Is a directory'),\n",
       " 'openssl': IsADirectoryError(21, 'Is a directory'),\n",
       " 'wfs': IsADirectoryError(21, 'Is a directory'),\n",
       " 'AFP.conf': PermissionError(13, 'Permission denied'),\n",
       " 'cups': IsADirectoryError(21, 'Is a directory'),\n",
       " 'resolver': IsADirectoryError(21, 'Is a directory')}"
      ]
     },
     "execution_count": 75,
     "metadata": {},
     "output_type": "execute_result"
    }
   ],
   "source": [
    "bad_dict"
   ]
  },
  {
   "cell_type": "code",
   "execution_count": 76,
   "metadata": {
    "collapsed": true
   },
   "outputs": [
    {
     "name": "stdout",
     "output_type": "stream",
     "text": [
      "Help on module glob:\n",
      "\n",
      "NAME\n",
      "    glob - Filename globbing utility.\n",
      "\n",
      "MODULE REFERENCE\n",
      "    https://docs.python.org/3.7/library/glob\n",
      "    \n",
      "    The following documentation is automatically generated from the Python\n",
      "    source files.  It may be incomplete, incorrect or include features that\n",
      "    are considered implementation detail and may vary between Python\n",
      "    implementations.  When in doubt, consult the module reference at the\n",
      "    location listed above.\n",
      "\n",
      "FUNCTIONS\n",
      "    escape(pathname)\n",
      "        Escape all special characters.\n",
      "    \n",
      "    glob(pathname, *, recursive=False)\n",
      "        Return a list of paths matching a pathname pattern.\n",
      "        \n",
      "        The pattern may contain simple shell-style wildcards a la\n",
      "        fnmatch. However, unlike fnmatch, filenames starting with a\n",
      "        dot are special cases that are not matched by '*' and '?'\n",
      "        patterns.\n",
      "        \n",
      "        If recursive is true, the pattern '**' will match any files and\n",
      "        zero or more directories and subdirectories.\n",
      "    \n",
      "    iglob(pathname, *, recursive=False)\n",
      "        Return an iterator which yields the paths matching a pathname pattern.\n",
      "        \n",
      "        The pattern may contain simple shell-style wildcards a la\n",
      "        fnmatch. However, unlike fnmatch, filenames starting with a\n",
      "        dot are special cases that are not matched by '*' and '?'\n",
      "        patterns.\n",
      "        \n",
      "        If recursive is true, the pattern '**' will match any files and\n",
      "        zero or more directories and subdirectories.\n",
      "\n",
      "DATA\n",
      "    __all__ = ['glob', 'iglob', 'escape']\n",
      "\n",
      "FILE\n",
      "    /usr/local/Cellar/python/3.7.6_1/Frameworks/Python.framework/Versions/3.7/lib/python3.7/glob.py\n",
      "\n",
      "\n"
     ]
    }
   ],
   "source": [
    "help(glob)"
   ]
  },
  {
   "cell_type": "code",
   "execution_count": 81,
   "metadata": {},
   "outputs": [
    {
     "name": "stdout",
     "output_type": "stream",
     "text": [
      "({'ssh_config.system_default': 1465, 'ssh_config.applesaved': 1144, 'manpaths': 36, 'services~previous': 677972, 'rc.common': 1560, 'csh.logout~orig': 39, 'auto_master': 195, 'php.ini.default-5.2-previous~orig': 65459, 'csh.login': 121, 'syslog.conf': 96, 'rtadvd.conf~previous': 891, 'syslog.conf~previous': 96, 'bash_completion.d': 0, 'kern_loader.conf.applesaved': 0, 'nanorc': 11, 'ttys~previous': 1316, 'csh.logout': 39, 'hosts.lpd': 0, 'bashrc_Apple_Terminal': 9192, 'zshrc_Apple_Terminal': 911, 'named.conf.applesaved': 905, 'gettytab': 5678, 'kern_loader.conf': 0, 'authorization.user_modified': 18621, 'networks~orig': 53, 'csh.login~orig': 121, 'rtadvd.conf': 891, 'protocols~previous': 6393, 'group': 2922, 'printcap': 452, 'auto_home': 149, 'php.ini.default-previous': 71055, 'smb.conf.applesaved': 1699, 'shells': 189, 'pear.conf-previous': 1208, 'crontab': 137, 'slpsa.conf.applesaved': 52, 'rc.common~previous': 1560, 'ttys': 1316, 'group~previous': 2769, 'php-fpm.conf.default': 5331, 'paths': 45, 'rmtab': 0, 'csh.cshrc~orig': 189, 'inetd.conf.applesaved': 2893, 'xtab': 0, 'php.ini.default': 71890, 'syslog.conf.applesaved': 823, 'pf.conf': 1027, '6to4.conf.applesaved': 753, 'launchd.conf': 19, 'ftpusers~orig': 119, 'bashrc': 265, 'find.codes~orig': 0, 'auto_master~orig': 194, 'irbrc': 1299, 'zshrc': 3094, 'hosts.equiv': 0, 'networks': 53, 'find.codes': 0, 'rpc~previous': 1735, 'autofs.conf': 1935, 'ftpusers': 119, 'postgres-reg.ini': 1101, 'slpsa.conf': 52, 'profile': 189, 'csh.cshrc': 189, 'fstab.hd~previous': 150, 'ntp.conf.applesaved': 44, 'ntp_opendirectory.conf': 23, 'ssh_config~orig': 3847, 'profile~orig': 189, 'authorization.deprecated': 343017, 'locate.rc': 621, 'resolv.conf': 368, 'nfs.conf': 43, 'crontab.applesaved': 296, 'asl.conf': 1051, 'ttys.applesaved': 2442, 'moduli~previous': 242153, 'rc.netboot': 5264, 'afpovertcp.cfg~orig': 515, 'hosts~orig': 213, 'fstab': 293, 'nfs.conf~orig': 43, 'hostconfig': 201, 'smb.conf.old': 2975, 'kern_loader.conf~previous': 0, 'xinetd.conf.applesaved': 238, 'rtadvd.conf.applesaved': 983, 'sshd_config.system_default': 3362, 'hosts': 220, 'efax.rc~previous': 1029, 'pf.os': 28311, 'php.ini.default-previous~orig': 73685, 'ntp.conf': 22, 'php.ini.default-5.2-previous': 69266, 'gettytab~orig': 5678, 'passwd~orig': 6393, 'rpc': 1735, 'sshd_config~previous': 4161, 'fstab.hd': 150, 'aliases': 10086, 'paths~orig': 45, 'com.apple.screensharing.agent.launchd': 82, 'hostconfig.system_default': 185, 'shells~orig': 179, 'sshd_config.applesaved': 2409, 'dumpdates': 0, 'protocols': 6393, 'man.conf': 4627, 'services': 677972, 'mail.rc~orig': 106, 'passwd': 6946, 'zprofile': 255, 'afpovertcp.cfg': 515, 'newsyslog.conf': 1318, 'bashrc~previous': 265, 'mail.rc': 106, 'notify.conf': 351, 'sysctl.conf.pg': 106}, {'emond.d': 'IsADirectoryError', 'xinetd.d-migrated2launchd': 'IsADirectoryError', 'periodic': 'IsADirectoryError', 'krb5.keytab': 'PermissionError', 'sudoers.d': 'IsADirectoryError', 'ssl': 'IsADirectoryError', 'aliases.db': 'PermissionError', 'racoon': 'IsADirectoryError', 'snmp': 'IsADirectoryError', 'master.passwd~orig': 'PermissionError', 'paths.d': 'IsADirectoryError', 'asl': 'IsADirectoryError', 'security': 'IsADirectoryError', 'sudoers~': 'PermissionError', 'manpaths.d': 'IsADirectoryError', 'ppp': 'IsADirectoryError', 'xinetd.d': 'IsADirectoryError', 'php-fpm.d': 'IsADirectoryError', 'localtime': 'UnicodeDecodeError', 'CiscoSystemsVPNClient': 'IsADirectoryError', 'sudoers': 'PermissionError', 'newsyslog.d': 'IsADirectoryError', 'emacs': 'IsADirectoryError', 'pam.d': 'IsADirectoryError', 'defaults': 'IsADirectoryError', 'apache2': 'IsADirectoryError', 'ssh': 'IsADirectoryError', 'dictionaries-common': 'IsADirectoryError', 'sudoers~orig': 'PermissionError', 'sudo_lecture': 'PermissionError', 'X11': 'FileNotFoundError', 'opt': 'IsADirectoryError', 'postfix': 'IsADirectoryError', 'pf.anchors': 'IsADirectoryError', 'master.passwd': 'PermissionError', 'openldap': 'IsADirectoryError', 'fonts': 'IsADirectoryError', 'openssl': 'IsADirectoryError', 'wfs': 'IsADirectoryError', 'AFP.conf': 'PermissionError', 'cups': 'IsADirectoryError', 'resolver': 'IsADirectoryError'})\n"
     ]
    }
   ],
   "source": [
    "import os\n",
    "def get_file_length(filename):\n",
    "    return len(open(filename).read())\n",
    "\n",
    "def filefunc(dirname, functionname):\n",
    "    success, failure = {}, {}\n",
    "    for filename in os.listdir(dirname):\n",
    "        try:\n",
    "            success[filename] = functionname(os.path.join(dirname, filename))\n",
    "        except Exception as err:\n",
    "            failure[filename] = err.__class__.__name__   # Just the exception name, gives more readable output\n",
    "    return (success, failure)\n",
    "print(filefunc('/etc', get_file_length))\n"
   ]
  },
  {
   "cell_type": "code",
   "execution_count": 79,
   "metadata": {},
   "outputs": [
    {
     "data": {
      "text/plain": [
       "'/etc/abcd/efgh/ijkl'"
      ]
     },
     "execution_count": 79,
     "metadata": {},
     "output_type": "execute_result"
    }
   ],
   "source": [
    "os.path.join('/etc', 'abcd', 'efgh', 'ijkl')"
   ]
  },
  {
   "cell_type": "code",
   "execution_count": 80,
   "metadata": {},
   "outputs": [
    {
     "data": {
      "text/plain": [
       "'/etc/abcd/efgh/ijkl'"
      ]
     },
     "execution_count": 80,
     "metadata": {},
     "output_type": "execute_result"
    }
   ],
   "source": [
    "os.path.join('/etc/', 'abcd', 'efgh', 'ijkl')"
   ]
  },
  {
   "cell_type": "code",
   "execution_count": 82,
   "metadata": {
    "collapsed": true
   },
   "outputs": [
    {
     "data": {
      "text/plain": [
       "({'emond.d': 12,\n",
       "  'xinetd.d-migrated2launchd': 30,\n",
       "  'ssh_config.system_default': 30,\n",
       "  'ssh_config.applesaved': 26,\n",
       "  'periodic': 13,\n",
       "  'manpaths': 13,\n",
       "  'services~previous': 22,\n",
       "  'rc.common': 14,\n",
       "  'csh.logout~orig': 20,\n",
       "  'auto_master': 16,\n",
       "  'php.ini.default-5.2-previous~orig': 38,\n",
       "  'csh.login': 14,\n",
       "  'syslog.conf': 16,\n",
       "  'rtadvd.conf~previous': 25,\n",
       "  'syslog.conf~previous': 25,\n",
       "  'krb5.keytab': 16,\n",
       "  'sudoers.d': 14,\n",
       "  'bash_completion.d': 22,\n",
       "  'ssl': 8,\n",
       "  'kern_loader.conf.applesaved': 32,\n",
       "  'nanorc': 11,\n",
       "  'ttys~previous': 18,\n",
       "  'csh.logout': 15,\n",
       "  'aliases.db': 15,\n",
       "  'hosts.lpd': 14,\n",
       "  'bashrc_Apple_Terminal': 26,\n",
       "  'racoon': 11,\n",
       "  'snmp': 9,\n",
       "  'zshrc_Apple_Terminal': 25,\n",
       "  'named.conf.applesaved': 26,\n",
       "  'gettytab': 13,\n",
       "  'master.passwd~orig': 23,\n",
       "  'kern_loader.conf': 21,\n",
       "  'authorization.user_modified': 32,\n",
       "  'networks~orig': 18,\n",
       "  'paths.d': 12,\n",
       "  'asl': 8,\n",
       "  'csh.login~orig': 19,\n",
       "  'rtadvd.conf': 16,\n",
       "  'security': 13,\n",
       "  'protocols~previous': 23,\n",
       "  'group': 10,\n",
       "  'printcap': 13,\n",
       "  'auto_home': 14,\n",
       "  'php.ini.default-previous': 29,\n",
       "  'sudoers~': 13,\n",
       "  'manpaths.d': 15,\n",
       "  'smb.conf.applesaved': 24,\n",
       "  'ppp': 8,\n",
       "  'shells': 11,\n",
       "  'pear.conf-previous': 23,\n",
       "  'crontab': 12,\n",
       "  'slpsa.conf.applesaved': 26,\n",
       "  'rc.common~previous': 23,\n",
       "  'xinetd.d': 13,\n",
       "  'ttys': 9,\n",
       "  'php-fpm.d': 14,\n",
       "  'group~previous': 19,\n",
       "  'php-fpm.conf.default': 25,\n",
       "  'paths': 10,\n",
       "  'rmtab': 10,\n",
       "  'csh.cshrc~orig': 19,\n",
       "  'inetd.conf.applesaved': 26,\n",
       "  'xtab': 9,\n",
       "  'php.ini.default': 20,\n",
       "  'syslog.conf.applesaved': 27,\n",
       "  'localtime': 14,\n",
       "  'pf.conf': 12,\n",
       "  '6to4.conf.applesaved': 25,\n",
       "  'CiscoSystemsVPNClient': 26,\n",
       "  'launchd.conf': 17,\n",
       "  'sudoers': 12,\n",
       "  'ftpusers~orig': 18,\n",
       "  'bashrc': 11,\n",
       "  'find.codes~orig': 20,\n",
       "  'auto_master~orig': 21,\n",
       "  'newsyslog.d': 16,\n",
       "  'emacs': 10,\n",
       "  'irbrc': 10,\n",
       "  'pam.d': 10,\n",
       "  'zshrc': 10,\n",
       "  'defaults': 13,\n",
       "  'hosts.equiv': 16,\n",
       "  'networks': 13,\n",
       "  'find.codes': 15,\n",
       "  'rpc~previous': 17,\n",
       "  'apache2': 12,\n",
       "  'autofs.conf': 16,\n",
       "  'ssh': 8,\n",
       "  'ftpusers': 13,\n",
       "  'postgres-reg.ini': 21,\n",
       "  'slpsa.conf': 15,\n",
       "  'profile': 12,\n",
       "  'csh.cshrc': 14,\n",
       "  'fstab.hd~previous': 22,\n",
       "  'ntp.conf.applesaved': 24,\n",
       "  'ntp_opendirectory.conf': 27,\n",
       "  'ssh_config~orig': 20,\n",
       "  'profile~orig': 17,\n",
       "  'authorization.deprecated': 29,\n",
       "  'locate.rc': 14,\n",
       "  'resolv.conf': 16,\n",
       "  'nfs.conf': 13,\n",
       "  'crontab.applesaved': 23,\n",
       "  'dictionaries-common': 24,\n",
       "  'sudoers~orig': 17,\n",
       "  'sudo_lecture': 17,\n",
       "  'asl.conf': 13,\n",
       "  'ttys.applesaved': 20,\n",
       "  'moduli~previous': 20,\n",
       "  'rc.netboot': 15,\n",
       "  'X11': 8,\n",
       "  'afpovertcp.cfg~orig': 24,\n",
       "  'hosts~orig': 15,\n",
       "  'fstab': 10,\n",
       "  'opt': 8,\n",
       "  'nfs.conf~orig': 18,\n",
       "  'hostconfig': 15,\n",
       "  'smb.conf.old': 17,\n",
       "  'kern_loader.conf~previous': 30,\n",
       "  'xinetd.conf.applesaved': 27,\n",
       "  'rtadvd.conf.applesaved': 27,\n",
       "  'sshd_config.system_default': 31,\n",
       "  'hosts': 10,\n",
       "  'efax.rc~previous': 21,\n",
       "  'postfix': 12,\n",
       "  'pf.os': 10,\n",
       "  'pf.anchors': 15,\n",
       "  'php.ini.default-previous~orig': 34,\n",
       "  'ntp.conf': 13,\n",
       "  'php.ini.default-5.2-previous': 33,\n",
       "  'gettytab~orig': 18,\n",
       "  'passwd~orig': 16,\n",
       "  'rpc': 8,\n",
       "  'master.passwd': 18,\n",
       "  'sshd_config~previous': 25,\n",
       "  'fstab.hd': 13,\n",
       "  'openldap': 13,\n",
       "  'aliases': 12,\n",
       "  'paths~orig': 15,\n",
       "  'fonts': 10,\n",
       "  'openssl': 12,\n",
       "  'com.apple.screensharing.agent.launchd': 42,\n",
       "  'wfs': 8,\n",
       "  'hostconfig.system_default': 30,\n",
       "  'shells~orig': 16,\n",
       "  'sshd_config.applesaved': 27,\n",
       "  'dumpdates': 14,\n",
       "  'protocols': 14,\n",
       "  'AFP.conf': 13,\n",
       "  'cups': 9,\n",
       "  'man.conf': 13,\n",
       "  'services': 13,\n",
       "  'mail.rc~orig': 17,\n",
       "  'resolver': 13,\n",
       "  'passwd': 11,\n",
       "  'zprofile': 13,\n",
       "  'afpovertcp.cfg': 19,\n",
       "  'newsyslog.conf': 19,\n",
       "  'bashrc~previous': 20,\n",
       "  'mail.rc': 12,\n",
       "  'notify.conf': 16,\n",
       "  'sysctl.conf.pg': 19},\n",
       " {})"
      ]
     },
     "execution_count": 82,
     "metadata": {},
     "output_type": "execute_result"
    }
   ],
   "source": [
    "filefunc('/etc', len)  # length of filenames!"
   ]
  },
  {
   "cell_type": "code",
   "execution_count": 83,
   "metadata": {
    "collapsed": true
   },
   "outputs": [
    {
     "name": "stdout",
     "output_type": "stream",
     "text": [
      "{'ssh_config.system_default': 1465, 'ssh_config.applesaved': 1144, 'manpaths': 36, 'services~previous': 677972, 'rc.common': 1560, 'csh.logout~orig': 39, 'auto_master': 195, 'php.ini.default-5.2-previous~orig': 65459, 'csh.login': 121, 'syslog.conf': 96, 'rtadvd.conf~previous': 891, 'syslog.conf~previous': 96, 'bash_completion.d': 0, 'kern_loader.conf.applesaved': 0, 'nanorc': 11, 'ttys~previous': 1316, 'csh.logout': 39, 'hosts.lpd': 0, 'bashrc_Apple_Terminal': 9192, 'zshrc_Apple_Terminal': 911, 'named.conf.applesaved': 905, 'gettytab': 5678, 'kern_loader.conf': 0, 'authorization.user_modified': 18621, 'networks~orig': 53, 'csh.login~orig': 121, 'rtadvd.conf': 891, 'protocols~previous': 6393, 'group': 2922, 'printcap': 452, 'auto_home': 149, 'php.ini.default-previous': 71055, 'smb.conf.applesaved': 1699, 'shells': 189, 'pear.conf-previous': 1208, 'crontab': 137, 'slpsa.conf.applesaved': 52, 'rc.common~previous': 1560, 'ttys': 1316, 'group~previous': 2769, 'php-fpm.conf.default': 5331, 'paths': 45, 'rmtab': 0, 'csh.cshrc~orig': 189, 'inetd.conf.applesaved': 2893, 'xtab': 0, 'php.ini.default': 71890, 'syslog.conf.applesaved': 823, 'pf.conf': 1027, '6to4.conf.applesaved': 753, 'launchd.conf': 19, 'ftpusers~orig': 119, 'bashrc': 265, 'find.codes~orig': 0, 'auto_master~orig': 194, 'irbrc': 1299, 'zshrc': 3094, 'hosts.equiv': 0, 'networks': 53, 'find.codes': 0, 'rpc~previous': 1735, 'autofs.conf': 1935, 'ftpusers': 119, 'postgres-reg.ini': 1101, 'slpsa.conf': 52, 'profile': 189, 'csh.cshrc': 189, 'fstab.hd~previous': 150, 'ntp.conf.applesaved': 44, 'ntp_opendirectory.conf': 23, 'ssh_config~orig': 3847, 'profile~orig': 189, 'authorization.deprecated': 343017, 'locate.rc': 621, 'resolv.conf': 368, 'nfs.conf': 43, 'crontab.applesaved': 296, 'asl.conf': 1051, 'ttys.applesaved': 2442, 'moduli~previous': 242153, 'rc.netboot': 5264, 'afpovertcp.cfg~orig': 515, 'hosts~orig': 213, 'fstab': 293, 'nfs.conf~orig': 43, 'hostconfig': 201, 'smb.conf.old': 2975, 'kern_loader.conf~previous': 0, 'xinetd.conf.applesaved': 238, 'rtadvd.conf.applesaved': 983, 'sshd_config.system_default': 3362, 'hosts': 220, 'efax.rc~previous': 1029, 'pf.os': 28311, 'php.ini.default-previous~orig': 73685, 'ntp.conf': 22, 'php.ini.default-5.2-previous': 69266, 'gettytab~orig': 5678, 'passwd~orig': 6393, 'rpc': 1735, 'sshd_config~previous': 4161, 'fstab.hd': 150, 'aliases': 10086, 'paths~orig': 45, 'com.apple.screensharing.agent.launchd': 82, 'hostconfig.system_default': 185, 'shells~orig': 179, 'sshd_config.applesaved': 2409, 'dumpdates': 0, 'protocols': 6393, 'man.conf': 4627, 'services': 677972, 'mail.rc~orig': 106, 'passwd': 6946, 'zprofile': 255, 'afpovertcp.cfg': 515, 'newsyslog.conf': 1318, 'bashrc~previous': 265, 'mail.rc': 106, 'notify.conf': 351, 'sysctl.conf.pg': 106}\n",
      "{'emond.d': IsADirectoryError(21, 'Is a directory'), 'xinetd.d-migrated2launchd': IsADirectoryError(21, 'Is a directory'), 'periodic': IsADirectoryError(21, 'Is a directory'), 'krb5.keytab': PermissionError(13, 'Permission denied'), 'sudoers.d': IsADirectoryError(21, 'Is a directory'), 'ssl': IsADirectoryError(21, 'Is a directory'), 'aliases.db': PermissionError(13, 'Permission denied'), 'racoon': IsADirectoryError(21, 'Is a directory'), 'snmp': IsADirectoryError(21, 'Is a directory'), 'master.passwd~orig': PermissionError(13, 'Permission denied'), 'paths.d': IsADirectoryError(21, 'Is a directory'), 'asl': IsADirectoryError(21, 'Is a directory'), 'security': IsADirectoryError(21, 'Is a directory'), 'sudoers~': PermissionError(13, 'Permission denied'), 'manpaths.d': IsADirectoryError(21, 'Is a directory'), 'ppp': IsADirectoryError(21, 'Is a directory'), 'xinetd.d': IsADirectoryError(21, 'Is a directory'), 'php-fpm.d': IsADirectoryError(21, 'Is a directory'), 'localtime': UnicodeDecodeError('utf-8', b'TZif2\\x00\\x00\\x00\\x00\\x00\\x00\\x00\\x00\\x00\\x00\\x00\\x00\\x00\\x00\\x00\\x00\\x00\\x00\\x05\\x00\\x00\\x00\\x05\\x00\\x00\\x00\\x00\\x00\\x00\\x00\\x92\\x00\\x00\\x00\\x05\\x00\\x00\\x00\\x11\\x9e0E\\x88\\xc8Y\\xb2\\xe0\\xcc\\xe5\\xc1P\\xcd\\xac\\xfe\\x00\\xce\\xc6\\xf4\\xd0\\xcf\\x8ff\\xe0\\xd0\\xa9y\\xd0\\xd1\\x84`\\xe0\\xd2\\x8a\\xc9p\\xd3e\\xb0\\x80\\xd4k\\xe0\\xd0\\xd7Z\\x14`\\xd7\\xdf\\x1f\\xc0\\xd8/\\xb5p\\xd9\\x1eF\\xe0\\xda\\x10\\xe8\\xf0\\xda\\xeb\\xb3\\xe0\\xdb\\xb44\\x00\\xdc\\xb9 \\xe0\\xdd\\xe0\\x8d\\x00\\xde\\xb4\\xce\\x80\\xdf\\xa4\\xbf\\x80\\xe0\\x8bv\\x00\\xe1V}\\x00\\xe2\\xbeJ`\\xe364\\xd0\\xe4\\x9c\\xf7\\x00\\xe5\\x16\\x16\\xd0\\xe6t\\xd3\\xe0\\xe7\\x11\\xd2\\x80\\xe8\\'\\xff\\x00\\xe8\\xe8O\\xd0\\x08|\\x8b\\xe0\\x08\\xfd\\xb0\\xd0\\t\\xf6\\xea`\\n\\xa63\\xd0\\x13\\xe8\\xaa\\xe0\\x14 \\t\\xe0\\x1a\\xf9t\\xe0\\x1b\\x8d\\x1c\\xe0\\x1c\\xbe\\xf8\\xe0\\x1d\\x89\\xf1\\xd0\\x1e\\xcc\\xff`\\x1f`\\x99P \\x82\\xb1`!I\\xb5\\xd0\"^\\x9e\\xe0# ]P$Z0`%\\x00?P&\\x0b\\xed\\xe0&\\xd6\\xe6\\xd0\\'\\xeb\\xcf\\xe0(\\xc0\\x03P)\\xd4\\xec`*\\xa9\\x1f\\xd0+\\xbbe\\xe0,\\x89\\x01\\xd0-\\x9bG\\xe0._\\xa9P/{)\\xe00H\\xc5\\xd01H\\x96\\xe02<nP31\\xb3`4\\x1a\\xfe\\xd05\\x11\\x95`5\\xf1\\xa6P7\\x04\\x08\\x807\\xcf\\x01p8\\xf6_\\x809\\xdc\\xf9\\xe0:\\xd0\\xedp;\\xae[`<\\xa3\\xa0p=\\xa0\\xb2`>\\x83\\x82p?|\\x9f\\xe0@s6pAP\\xa4`BL\\x8f\\x00CHOpD,q\\x00E\\x1e\\xf6\\xf0F\\x0cS\\x00F\\xecc\\xf0G\\xec5\\x00H\\xe7\\xf5pI\\xcc\\x17\\x00J\\xbe\\x9c\\xf0K\\xab\\xf9\\x00L\\x8c\\t\\xf0M\\x95\\x15\\x80N\\x87\\x9bpOt\\xf7\\x80P^B\\xf0QT\\xd9\\x80RlIpS4\\xbb\\x80TL+pU\\x14\\x9d\\x80V,\\rpV\\xf4\\x7f\\x80X\\x15)\\xf0X\\xd4a\\x80Y\\xf5\\x0b\\xf0Z\\xb4C\\x80[\\xd4\\xed\\xf0\\\\\\x9d`\\x00]\\xb4\\xcf\\xf0^}B\\x00_\\x94\\xb1\\xf0`]$\\x00a}\\xcepb=\\x06\\x00c]\\xb0pd\\x1c\\xe8\\x00e=\\x92pf\\x06\\x04\\x80g\\x1dtpg\\xe5\\xe6\\x80h\\xfdVpi\\xc5\\xc8\\x80j\\xdd8pk\\xa5\\xaa\\x80l\\xc6T\\xf0m\\x85\\x8c\\x80n\\xa66\\xf0oen\\x80p\\x86\\x18\\xf0qN\\x8b\\x00re\\xfa\\xf0s.m\\x00tE\\xdc\\xf0u\\x0eO\\x00v.\\xf9pv\\xee1\\x00x\\x0e\\xdbpx\\xce\\x13\\x00y\\xee\\xbdpz\\xad\\xf5\\x00{\\xce\\x9fp|\\x97\\x11\\x80}\\xae\\x81p~v\\xf3\\x80\\x7f\\x8ecp\\x02\\x01\\x02\\x01\\x02\\x01\\x02\\x01\\x02\\x01\\x02\\x03\\x01\\x02\\x01\\x02\\x01\\x02\\x01\\x02\\x01\\x02\\x01\\x02\\x01\\x02\\x01\\x02\\x01\\x02\\x01\\x02\\x01\\x02\\x01\\x02\\x01\\x02\\x01\\x02\\x01\\x02\\x01\\x02\\x01\\x02\\x01\\x02\\x01\\x02\\x01\\x02\\x01\\x02\\x01\\x02\\x01\\x02\\x01\\x02\\x01\\x02\\x01\\x02\\x01\\x02\\x01\\x02\\x01\\x02\\x01\\x02\\x01\\x02\\x01\\x02\\x01\\x02\\x01\\x02\\x01\\x02\\x01\\x02\\x01\\x02\\x01\\x02\\x01\\x02\\x01\\x02\\x01\\x02\\x01\\x02\\x01\\x02\\x01\\x02\\x01\\x02\\x01\\x02\\x01\\x02\\x01\\x02\\x01\\x02\\x01\\x02\\x01\\x02\\x01\\x02\\x01\\x02\\x01\\x02\\x01\\x02\\x01\\x02\\x01\\x02\\x01\\x02\\x01\\x02\\x01\\x02\\x01\\x02\\x01\\x02\\x01\\x02\\x01\\x02\\x01\\x02\\x01\\x02\\x01\\x02\\x00\\x00 \\xf8\\x00\\x00\\x00\\x00*0\\x01\\x04\\x00\\x00\\x1c \\x00\\x08\\x00\\x008@\\x01\\x0c\\x00\\x00*0\\x01\\x04JMT\\x00IDT\\x00IST\\x00IDDT\\x00\\x00\\x00\\x00\\x00\\x00\\x00\\x00\\x00\\x00\\x00TZif2\\x00\\x00\\x00\\x00\\x00\\x00\\x00\\x00\\x00\\x00\\x00\\x00\\x00\\x00\\x00\\x00\\x00\\x00\\x06\\x00\\x00\\x00\\x06\\x00\\x00\\x00\\x00\\x00\\x00\\x03\\x83\\x00\\x00\\x00\\x06\\x00\\x00\\x00\\x15\\xff\\xff\\xff\\xffV\\xb6\\xc2\\xfa\\xff\\xff\\xff\\xff\\x9e0E\\x88\\xff\\xff\\xff\\xff\\xc8Y\\xb2\\xe0\\xff\\xff\\xff\\xff\\xcc\\xe5\\xc1P\\xff\\xff\\xff\\xff\\xcd\\xac\\xfe\\x00\\xff\\xff\\xff\\xff\\xce\\xc6\\xf4\\xd0\\xff\\xff\\xff\\xff\\xcf\\x8ff\\xe0\\xff\\xff\\xff\\xff\\xd0\\xa9y\\xd0\\xff\\xff\\xff\\xff\\xd1\\x84`\\xe0\\xff\\xff\\xff\\xff\\xd2\\x8a\\xc9p\\xff\\xff\\xff\\xff\\xd3e\\xb0\\x80\\xff\\xff\\xff\\xff\\xd4k\\xe0\\xd0\\xff\\xff\\xff\\xff\\xd7Z\\x14`\\xff\\xff\\xff\\xff\\xd7\\xdf\\x1f\\xc0\\xff\\xff\\xff\\xff\\xd8/\\xb5p\\xff\\xff\\xff\\xff\\xd9\\x1eF\\xe0\\xff\\xff\\xff\\xff\\xda\\x10\\xe8\\xf0\\xff\\xff\\xff\\xff\\xda\\xeb\\xb3\\xe0\\xff\\xff\\xff\\xff\\xdb\\xb44\\x00\\xff\\xff\\xff\\xff\\xdc\\xb9 \\xe0\\xff\\xff\\xff\\xff\\xdd\\xe0\\x8d\\x00\\xff\\xff\\xff\\xff\\xde\\xb4\\xce\\x80\\xff\\xff\\xff\\xff\\xdf\\xa4\\xbf\\x80\\xff\\xff\\xff\\xff\\xe0\\x8bv\\x00\\xff\\xff\\xff\\xff\\xe1V}\\x00\\xff\\xff\\xff\\xff\\xe2\\xbeJ`\\xff\\xff\\xff\\xff\\xe364\\xd0\\xff\\xff\\xff\\xff\\xe4\\x9c\\xf7\\x00\\xff\\xff\\xff\\xff\\xe5\\x16\\x16\\xd0\\xff\\xff\\xff\\xff\\xe6t\\xd3\\xe0\\xff\\xff\\xff\\xff\\xe7\\x11\\xd2\\x80\\xff\\xff\\xff\\xff\\xe8\\'\\xff\\x00\\xff\\xff\\xff\\xff\\xe8\\xe8O\\xd0\\x00\\x00\\x00\\x00\\x08|\\x8b\\xe0\\x00\\x00\\x00\\x00\\x08\\xfd\\xb0\\xd0\\x00\\x00\\x00\\x00\\t\\xf6\\xea`\\x00\\x00\\x00\\x00\\n\\xa63\\xd0\\x00\\x00\\x00\\x00\\x13\\xe8\\xaa\\xe0\\x00\\x00\\x00\\x00\\x14 \\t\\xe0\\x00\\x00\\x00\\x00\\x1a\\xf9t\\xe0\\x00\\x00\\x00\\x00\\x1b\\x8d\\x1c\\xe0\\x00\\x00\\x00\\x00\\x1c\\xbe\\xf8\\xe0\\x00\\x00\\x00\\x00\\x1d\\x89\\xf1\\xd0\\x00\\x00\\x00\\x00\\x1e\\xcc\\xff`\\x00\\x00\\x00\\x00\\x1f`\\x99P\\x00\\x00\\x00\\x00 \\x82\\xb1`\\x00\\x00\\x00\\x00!I\\xb5\\xd0\\x00\\x00\\x00\\x00\"^\\x9e\\xe0\\x00\\x00\\x00\\x00# ]P\\x00\\x00\\x00\\x00$Z0`\\x00\\x00\\x00\\x00%\\x00?P\\x00\\x00\\x00\\x00&\\x0b\\xed\\xe0\\x00\\x00\\x00\\x00&\\xd6\\xe6\\xd0\\x00\\x00\\x00\\x00\\'\\xeb\\xcf\\xe0\\x00\\x00\\x00\\x00(\\xc0\\x03P\\x00\\x00\\x00\\x00)\\xd4\\xec`\\x00\\x00\\x00\\x00*\\xa9\\x1f\\xd0\\x00\\x00\\x00\\x00+\\xbbe\\xe0\\x00\\x00\\x00\\x00,\\x89\\x01\\xd0\\x00\\x00\\x00\\x00-\\x9bG\\xe0\\x00\\x00\\x00\\x00._\\xa9P\\x00\\x00\\x00\\x00/{)\\xe0\\x00\\x00\\x00\\x000H\\xc5\\xd0\\x00\\x00\\x00\\x001H\\x96\\xe0\\x00\\x00\\x00\\x002<nP\\x00\\x00\\x00\\x0031\\xb3`\\x00\\x00\\x00\\x004\\x1a\\xfe\\xd0\\x00\\x00\\x00\\x005\\x11\\x95`\\x00\\x00\\x00\\x005\\xf1\\xa6P\\x00\\x00\\x00\\x007\\x04\\x08\\x80\\x00\\x00\\x00\\x007\\xcf\\x01p\\x00\\x00\\x00\\x008\\xf6_\\x80\\x00\\x00\\x00\\x009\\xdc\\xf9\\xe0\\x00\\x00\\x00\\x00:\\xd0\\xedp\\x00\\x00\\x00\\x00;\\xae[`\\x00\\x00\\x00\\x00<\\xa3\\xa0p\\x00\\x00\\x00\\x00=\\xa0\\xb2`\\x00\\x00\\x00\\x00>\\x83\\x82p\\x00\\x00\\x00\\x00?|\\x9f\\xe0\\x00\\x00\\x00\\x00@s6p\\x00\\x00\\x00\\x00AP\\xa4`\\x00\\x00\\x00\\x00BL\\x8f\\x00\\x00\\x00\\x00\\x00CHOp\\x00\\x00\\x00\\x00D,q\\x00\\x00\\x00\\x00\\x00E\\x1e\\xf6\\xf0\\x00\\x00\\x00\\x00F\\x0cS\\x00\\x00\\x00\\x00\\x00F\\xecc\\xf0\\x00\\x00\\x00\\x00G\\xec5\\x00\\x00\\x00\\x00\\x00H\\xe7\\xf5p\\x00\\x00\\x00\\x00I\\xcc\\x17\\x00\\x00\\x00\\x00\\x00J\\xbe\\x9c\\xf0\\x00\\x00\\x00\\x00K\\xab\\xf9\\x00\\x00\\x00\\x00\\x00L\\x8c\\t\\xf0\\x00\\x00\\x00\\x00M\\x95\\x15\\x80\\x00\\x00\\x00\\x00N\\x87\\x9bp\\x00\\x00\\x00\\x00Ot\\xf7\\x80\\x00\\x00\\x00\\x00P^B\\xf0\\x00\\x00\\x00\\x00QT\\xd9\\x80\\x00\\x00\\x00\\x00RlIp\\x00\\x00\\x00\\x00S4\\xbb\\x80\\x00\\x00\\x00\\x00TL+p\\x00\\x00\\x00\\x00U\\x14\\x9d\\x80\\x00\\x00\\x00\\x00V,\\rp\\x00\\x00\\x00\\x00V\\xf4\\x7f\\x80\\x00\\x00\\x00\\x00X\\x15)\\xf0\\x00\\x00\\x00\\x00X\\xd4a\\x80\\x00\\x00\\x00\\x00Y\\xf5\\x0b\\xf0\\x00\\x00\\x00\\x00Z\\xb4C\\x80\\x00\\x00\\x00\\x00[\\xd4\\xed\\xf0\\x00\\x00\\x00\\x00\\\\\\x9d`\\x00\\x00\\x00\\x00\\x00]\\xb4\\xcf\\xf0\\x00\\x00\\x00\\x00^}B\\x00\\x00\\x00\\x00\\x00_\\x94\\xb1\\xf0\\x00\\x00\\x00\\x00`]$\\x00\\x00\\x00\\x00\\x00a}\\xcep\\x00\\x00\\x00\\x00b=\\x06\\x00\\x00\\x00\\x00\\x00c]\\xb0p\\x00\\x00\\x00\\x00d\\x1c\\xe8\\x00\\x00\\x00\\x00\\x00e=\\x92p\\x00\\x00\\x00\\x00f\\x06\\x04\\x80\\x00\\x00\\x00\\x00g\\x1dtp\\x00\\x00\\x00\\x00g\\xe5\\xe6\\x80\\x00\\x00\\x00\\x00h\\xfdVp\\x00\\x00\\x00\\x00i\\xc5\\xc8\\x80\\x00\\x00\\x00\\x00j\\xdd8p\\x00\\x00\\x00\\x00k\\xa5\\xaa\\x80\\x00\\x00\\x00\\x00l\\xc6T\\xf0\\x00\\x00\\x00\\x00m\\x85\\x8c\\x80\\x00\\x00\\x00\\x00n\\xa66\\xf0\\x00\\x00\\x00\\x00oen\\x80\\x00\\x00\\x00\\x00p\\x86\\x18\\xf0\\x00\\x00\\x00\\x00qN\\x8b\\x00\\x00\\x00\\x00\\x00re\\xfa\\xf0\\x00\\x00\\x00\\x00s.m\\x00\\x00\\x00\\x00\\x00tE\\xdc\\xf0\\x00\\x00\\x00\\x00u\\x0eO\\x00\\x00\\x00\\x00\\x00v.\\xf9p\\x00\\x00\\x00\\x00v\\xee1\\x00\\x00\\x00\\x00\\x00x\\x0e\\xdbp\\x00\\x00\\x00\\x00x\\xce\\x13\\x00\\x00\\x00\\x00\\x00y\\xee\\xbdp\\x00\\x00\\x00\\x00z\\xad\\xf5\\x00\\x00\\x00\\x00\\x00{\\xce\\x9fp\\x00\\x00\\x00\\x00|\\x97\\x11\\x80\\x00\\x00\\x00\\x00}\\xae\\x81p\\x00\\x00\\x00\\x00~v\\xf3\\x80\\x00\\x00\\x00\\x00\\x7f\\x8ecp\\x00\\x00\\x00\\x00\\x80V\\xd5\\x80\\x00\\x00\\x00\\x00\\x81w\\x7f\\xf0\\x00\\x00\\x00\\x00\\x826\\xb7\\x80\\x00\\x00\\x00\\x00\\x83Wa\\xf0\\x00\\x00\\x00\\x00\\x84\\x16\\x99\\x80\\x00\\x00\\x00\\x00\\x857C\\xf0\\x00\\x00\\x00\\x00\\x85\\xff\\xb6\\x00\\x00\\x00\\x00\\x00\\x87\\x17%\\xf0\\x00\\x00\\x00\\x00\\x87\\xdf\\x98\\x00\\x00\\x00\\x00\\x00\\x88\\xf7\\x07\\xf0\\x00\\x00\\x00\\x00\\x89\\xbfz\\x00\\x00\\x00\\x00\\x00\\x8a\\xd6\\xe9\\xf0\\x00\\x00\\x00\\x00\\x8b\\x9f\\\\\\x00\\x00\\x00\\x00\\x00\\x8c\\xc0\\x06p\\x00\\x00\\x00\\x00\\x8d\\x7f>\\x00\\x00\\x00\\x00\\x00\\x8e\\x9f\\xe8p\\x00\\x00\\x00\\x00\\x8f_ \\x00\\x00\\x00\\x00\\x00\\x90\\x7f\\xcap\\x00\\x00\\x00\\x00\\x91H<\\x80\\x00\\x00\\x00\\x00\\x92_\\xacp\\x00\\x00\\x00\\x00\\x93(\\x1e\\x80\\x00\\x00\\x00\\x00\\x94?\\x8ep\\x00\\x00\\x00\\x00\\x95\\x08\\x00\\x80\\x00\\x00\\x00\\x00\\x96(\\xaa\\xf0\\x00\\x00\\x00\\x00\\x96\\xe7\\xe2\\x80\\x00\\x00\\x00\\x00\\x98\\x08\\x8c\\xf0\\x00\\x00\\x00\\x00\\x98\\xc7\\xc4\\x80\\x00\\x00\\x00\\x00\\x99\\xe8n\\xf0\\x00\\x00\\x00\\x00\\x9a\\xb0\\xe1\\x00\\x00\\x00\\x00\\x00\\x9b\\xc8P\\xf0\\x00\\x00\\x00\\x00\\x9c\\x90\\xc3\\x00\\x00\\x00\\x00\\x00\\x9d\\xa82\\xf0\\x00\\x00\\x00\\x00\\x9ep\\xa5\\x00\\x00\\x00\\x00\\x00\\x9f\\x88\\x14\\xf0\\x00\\x00\\x00\\x00\\xa0P\\x87\\x00\\x00\\x00\\x00\\x00\\xa1q1p\\x00\\x00\\x00\\x00\\xa20i\\x00\\x00\\x00\\x00\\x00\\xa3Q\\x13p\\x00\\x00\\x00\\x00\\xa4\\x10K\\x00\\x00\\x00\\x00\\x00\\xa50\\xf5p\\x00\\x00\\x00\\x00\\xa5\\xf9g\\x80\\x00\\x00\\x00\\x00\\xa7\\x10\\xd7p\\x00\\x00\\x00\\x00\\xa7\\xd9I\\x80\\x00\\x00\\x00\\x00\\xa8\\xf0\\xb9p\\x00\\x00\\x00\\x00\\xa9\\xb9+\\x80\\x00\\x00\\x00\\x00\\xaa\\xd9\\xd5\\xf0\\x00\\x00\\x00\\x00\\xab\\x99\\r\\x80\\x00\\x00\\x00\\x00\\xac\\xb9\\xb7\\xf0\\x00\\x00\\x00\\x00\\xadx\\xef\\x80\\x00\\x00\\x00\\x00\\xae\\x99\\x99\\xf0\\x00\\x00\\x00\\x00\\xafX\\xd1\\x80\\x00\\x00\\x00\\x00\\xb0y{\\xf0\\x00\\x00\\x00\\x00\\xb1A\\xee\\x00\\x00\\x00\\x00\\x00\\xb2Y]\\xf0\\x00\\x00\\x00\\x00\\xb3!\\xd0\\x00\\x00\\x00\\x00\\x00\\xb49?\\xf0\\x00\\x00\\x00\\x00\\xb5\\x01\\xb2\\x00\\x00\\x00\\x00\\x00\\xb6\"\\\\p\\x00\\x00\\x00\\x00\\xb6\\xe1\\x94\\x00\\x00\\x00\\x00\\x00\\xb8\\x02>p\\x00\\x00\\x00\\x00\\xb8\\xc1v\\x00\\x00\\x00\\x00\\x00\\xb9\\xe2 p\\x00\\x00\\x00\\x00\\xba\\xaa\\x92\\x80\\x00\\x00\\x00\\x00\\xbb\\xc2\\x02p\\x00\\x00\\x00\\x00\\xbc\\x8at\\x80\\x00\\x00\\x00\\x00\\xbd\\xa1\\xe4p\\x00\\x00\\x00\\x00\\xbejV\\x80\\x00\\x00\\x00\\x00\\xbf\\x81\\xc6p\\x00\\x00\\x00\\x00\\xc0J8\\x80\\x00\\x00\\x00\\x00\\xc1j\\xe2\\xf0\\x00\\x00\\x00\\x00\\xc2*\\x1a\\x80\\x00\\x00\\x00\\x00\\xc3J\\xc4\\xf0\\x00\\x00\\x00\\x00\\xc4\\t\\xfc\\x80\\x00\\x00\\x00\\x00\\xc5*\\xa6\\xf0\\x00\\x00\\x00\\x00\\xc5\\xf3\\x19\\x00\\x00\\x00\\x00\\x00\\xc7\\n\\x88\\xf0\\x00\\x00\\x00\\x00\\xc7\\xd2\\xfb\\x00\\x00\\x00\\x00\\x00\\xc8\\xeaj\\xf0\\x00\\x00\\x00\\x00\\xc9\\xb2\\xdd\\x00\\x00\\x00\\x00\\x00\\xca\\xd3\\x87p\\x00\\x00\\x00\\x00\\xcb\\x92\\xbf\\x00\\x00\\x00\\x00\\x00\\xcc\\xb3ip\\x00\\x00\\x00\\x00\\xcdr\\xa1\\x00\\x00\\x00\\x00\\x00\\xce\\x93Kp\\x00\\x00\\x00\\x00\\xcf[\\xbd\\x80\\x00\\x00\\x00\\x00\\xd0s-p\\x00\\x00\\x00\\x00\\xd1;\\x9f\\x80\\x00\\x00\\x00\\x00\\xd2S\\x0fp\\x00\\x00\\x00\\x00\\xd3\\x1b\\x81\\x80\\x00\\x00\\x00\\x00\\xd42\\xf1p\\x00\\x00\\x00\\x00\\xd4\\xfbc\\x80\\x00\\x00\\x00\\x00\\xd6\\x1c\\r\\xf0\\x00\\x00\\x00\\x00\\xd6\\xdbE\\x80\\x00\\x00\\x00\\x00\\xd7\\xfb\\xef\\xf0\\x00\\x00\\x00\\x00\\xd8\\xbb\\'\\x80\\x00\\x00\\x00\\x00\\xd9\\xdb\\xd1\\xf0\\x00\\x00\\x00\\x00\\xda\\xa4D\\x00\\x00\\x00\\x00\\x00\\xdb\\xbb\\xb3\\xf0\\x00\\x00\\x00\\x00\\xdc\\x84&\\x00\\x00\\x00\\x00\\x00\\xdd\\x9b\\x95\\xf0\\x00\\x00\\x00\\x00\\xded\\x08\\x00\\x00\\x00\\x00\\x00\\xdf\\x84\\xb2p\\x00\\x00\\x00\\x00\\xe0C\\xea\\x00\\x00\\x00\\x00\\x00\\xe1d\\x94p\\x00\\x00\\x00\\x00\\xe2#\\xcc\\x00\\x00\\x00\\x00\\x00\\xe3Dvp\\x00\\x00\\x00\\x00\\xe4\\x03\\xae\\x00\\x00\\x00\\x00\\x00\\xe5$Xp\\x00\\x00\\x00\\x00\\xe5\\xec\\xca\\x80\\x00\\x00\\x00\\x00\\xe7\\x04:p\\x00\\x00\\x00\\x00\\xe7\\xcc\\xac\\x80\\x00\\x00\\x00\\x00\\xe8\\xe4\\x1cp\\x00\\x00\\x00\\x00\\xe9\\xac\\x8e\\x80\\x00\\x00\\x00\\x00\\xea\\xcd8\\xf0\\x00\\x00\\x00\\x00\\xeb\\x8cp\\x80\\x00\\x00\\x00\\x00\\xec\\xad\\x1a\\xf0\\x00\\x00\\x00\\x00\\xedlR\\x80\\x00\\x00\\x00\\x00\\xee\\x8c\\xfc\\xf0\\x00\\x00\\x00\\x00\\xefUo\\x00\\x00\\x00\\x00\\x00\\xf0l\\xde\\xf0\\x00\\x00\\x00\\x00\\xf15Q\\x00\\x00\\x00\\x00\\x00\\xf2L\\xc0\\xf0\\x00\\x00\\x00\\x00\\xf3\\x153\\x00\\x00\\x00\\x00\\x00\\xf4,\\xa2\\xf0\\x00\\x00\\x00\\x00\\xf4\\xf5\\x15\\x00\\x00\\x00\\x00\\x00\\xf6\\x15\\xbfp\\x00\\x00\\x00\\x00\\xf6\\xd4\\xf7\\x00\\x00\\x00\\x00\\x00\\xf7\\xf5\\xa1p\\x00\\x00\\x00\\x00\\xf8\\xb4\\xd9\\x00\\x00\\x00\\x00\\x00\\xf9\\xd5\\x83p\\x00\\x00\\x00\\x00\\xfa\\x94\\xbb\\x00\\x00\\x00\\x00\\x00\\xfb\\xb5ep\\x00\\x00\\x00\\x00\\xfc}\\xd7\\x80\\x00\\x00\\x00\\x00\\xfd\\x95Gp\\x00\\x00\\x00\\x00\\xfe]\\xb9\\x80\\x00\\x00\\x00\\x00\\xffu)p\\x00\\x00\\x00\\x01\\x00=\\x9b\\x80\\x00\\x00\\x00\\x01\\x01^E\\xf0\\x00\\x00\\x00\\x01\\x02\\x1d}\\x80\\x00\\x00\\x00\\x01\\x03>\\'\\xf0\\x00\\x00\\x00\\x01\\x03\\xfd_\\x80\\x00\\x00\\x00\\x01\\x05\\x1e\\t\\xf0\\x00\\x00\\x00\\x01\\x05\\xe6|\\x00\\x00\\x00\\x00\\x01\\x06\\xfd\\xeb\\xf0\\x00\\x00\\x00\\x01\\x07\\xc6^\\x00\\x00\\x00\\x00\\x01\\x08\\xdd\\xcd\\xf0\\x00\\x00\\x00\\x01\\t\\xa6@\\x00\\x00\\x00\\x00\\x01\\n\\xbd\\xaf\\xf0\\x00\\x00\\x00\\x01\\x0b\\x86\"\\x00\\x00\\x00\\x00\\x01\\x0c\\xa6\\xccp\\x00\\x00\\x00\\x01\\rf\\x04\\x00\\x00\\x00\\x00\\x01\\x0e\\x86\\xaep\\x00\\x00\\x00\\x01\\x0fE\\xe6\\x00\\x00\\x00\\x00\\x01\\x10f\\x90p\\x00\\x00\\x00\\x01\\x11/\\x02\\x80\\x00\\x00\\x00\\x01\\x12Frp\\x00\\x00\\x00\\x01\\x13\\x0e\\xe4\\x80\\x00\\x00\\x00\\x01\\x14&Tp\\x00\\x00\\x00\\x01\\x14\\xee\\xc6\\x80\\x00\\x00\\x00\\x01\\x16\\x0fp\\xf0\\x00\\x00\\x00\\x01\\x16\\xce\\xa8\\x80\\x00\\x00\\x00\\x01\\x17\\xefR\\xf0\\x00\\x00\\x00\\x01\\x18\\xae\\x8a\\x80\\x00\\x00\\x00\\x01\\x19\\xcf4\\xf0\\x00\\x00\\x00\\x01\\x1a\\x97\\xa7\\x00\\x00\\x00\\x00\\x01\\x1b\\xaf\\x16\\xf0\\x00\\x00\\x00\\x01\\x1cw\\x89\\x00\\x00\\x00\\x00\\x01\\x1d\\x8e\\xf8\\xf0\\x00\\x00\\x00\\x01\\x1eWk\\x00\\x00\\x00\\x00\\x01\\x1fn\\xda\\xf0\\x00\\x00\\x00\\x01 7M\\x00\\x00\\x00\\x00\\x01!W\\xf7p\\x00\\x00\\x00\\x01\"\\x17/\\x00\\x00\\x00\\x00\\x01#7\\xd9p\\x00\\x00\\x00\\x01#\\xf7\\x11\\x00\\x00\\x00\\x00\\x01%\\x17\\xbbp\\x00\\x00\\x00\\x01%\\xe0-\\x80\\x00\\x00\\x00\\x01&\\xf7\\x9dp\\x00\\x00\\x00\\x01\\'\\xc0\\x0f\\x80\\x00\\x00\\x00\\x01(\\xd7\\x7fp\\x00\\x00\\x00\\x01)\\x9f\\xf1\\x80\\x00\\x00\\x00\\x01*\\xc0\\x9b\\xf0\\x00\\x00\\x00\\x01+\\x7f\\xd3\\x80\\x00\\x00\\x00\\x01,\\xa0}\\xf0\\x00\\x00\\x00\\x01-_\\xb5\\x80\\x00\\x00\\x00\\x01.\\x80_\\xf0\\x00\\x00\\x00\\x01/?\\x97\\x80\\x00\\x00\\x00\\x010`A\\xf0\\x00\\x00\\x00\\x011(\\xb4\\x00\\x00\\x00\\x00\\x012@#\\xf0\\x00\\x00\\x00\\x013\\x08\\x96\\x00\\x00\\x00\\x00\\x014 \\x05\\xf0\\x00\\x00\\x00\\x014\\xe8x\\x00\\x00\\x00\\x00\\x016\\t\"p\\x00\\x00\\x00\\x016\\xc8Z\\x00\\x00\\x00\\x00\\x017\\xe9\\x04p\\x00\\x00\\x00\\x018\\xa8<\\x00\\x00\\x00\\x00\\x019\\xc8\\xe6p\\x00\\x00\\x00\\x01:\\x91X\\x80\\x00\\x00\\x00\\x01;\\xa8\\xc8p\\x00\\x00\\x00\\x01<q:\\x80\\x00\\x00\\x00\\x01=\\x88\\xaap\\x00\\x00\\x00\\x01>Q\\x1c\\x80\\x00\\x00\\x00\\x01?h\\x8cp\\x00\\x00\\x00\\x01@0\\xfe\\x80\\x00\\x00\\x00\\x01AQ\\xa8\\xf0\\x00\\x00\\x00\\x01B\\x10\\xe0\\x80\\x00\\x00\\x00\\x01C1\\x8a\\xf0\\x00\\x00\\x00\\x01C\\xf0\\xc2\\x80\\x00\\x00\\x00\\x01E\\x11l\\xf0\\x00\\x00\\x00\\x01E\\xd9\\xdf\\x00\\x00\\x00\\x00\\x01F\\xf1N\\xf0\\x00\\x00\\x00\\x01G\\xb9\\xc1\\x00\\x00\\x00\\x00\\x01H\\xd10\\xf0\\x00\\x00\\x00\\x01I\\x99\\xa3\\x00\\x00\\x00\\x00\\x01J\\xbaMp\\x00\\x00\\x00\\x01Ky\\x85\\x00\\x00\\x00\\x00\\x01L\\x9a/p\\x00\\x00\\x00\\x01MYg\\x00\\x00\\x00\\x00\\x01Nz\\x11p\\x00\\x00\\x00\\x01OB\\x83\\x80\\x00\\x00\\x00\\x01PY\\xf3p\\x00\\x00\\x00\\x01Q\"e\\x80\\x00\\x00\\x00\\x01R9\\xd5p\\x00\\x00\\x00\\x01S\\x02G\\x80\\x00\\x00\\x00\\x01T\\x19\\xb7p\\x00\\x00\\x00\\x01T\\xe2)\\x80\\x00\\x00\\x00\\x01V\\x02\\xd3\\xf0\\x00\\x00\\x00\\x01V\\xc2\\x0b\\x80\\x00\\x00\\x00\\x01W\\xe2\\xb5\\xf0\\x00\\x00\\x00\\x01X\\xa1\\xed\\x80\\x00\\x00\\x00\\x01Y\\xc2\\x97\\xf0\\x00\\x00\\x00\\x01Z\\x8b\\n\\x00\\x00\\x00\\x00\\x01[\\xa2y\\xf0\\x00\\x00\\x00\\x01\\\\j\\xec\\x00\\x00\\x00\\x00\\x01]\\x82[\\xf0\\x00\\x00\\x00\\x01^J\\xce\\x00\\x00\\x00\\x00\\x01_kxp\\x00\\x00\\x00\\x01`*\\xb0\\x00\\x00\\x00\\x00\\x01aKZp\\x00\\x00\\x00\\x01b\\n\\x92\\x00\\x00\\x00\\x00\\x01c+<p\\x00\\x00\\x00\\x01c\\xeat\\x00\\x00\\x00\\x00\\x01e\\x0b\\x1ep\\x00\\x00\\x00\\x01e\\xd3\\x90\\x80\\x00\\x00\\x00\\x01f\\xeb\\x00p\\x00\\x00\\x00\\x01g\\xb3r\\x80\\x00\\x00\\x00\\x01h\\xca\\xe2p\\x00\\x00\\x00\\x01i\\x93T\\x80\\x00\\x00\\x00\\x01j\\xb3\\xfe\\xf0\\x00\\x00\\x00\\x01ks6\\x80\\x00\\x00\\x00\\x01l\\x93\\xe0\\xf0\\x00\\x00\\x00\\x01mS\\x18\\x80\\x00\\x00\\x00\\x01ns\\xc2\\xf0\\x00\\x00\\x00\\x01o<5\\x00\\x00\\x00\\x00\\x01pS\\xa4\\xf0\\x00\\x00\\x00\\x01q\\x1c\\x17\\x00\\x00\\x00\\x00\\x01r3\\x86\\xf0\\x00\\x00\\x00\\x01r\\xfb\\xf9\\x00\\x00\\x00\\x00\\x01t\\x13h\\xf0\\x00\\x00\\x00\\x01t\\xdb\\xdb\\x00\\x00\\x00\\x00\\x01u\\xfc\\x85p\\x00\\x00\\x00\\x01v\\xbb\\xbd\\x00\\x00\\x00\\x00\\x01w\\xdcgp\\x00\\x00\\x00\\x01x\\x9b\\x9f\\x00\\x00\\x00\\x00\\x01y\\xbcIp\\x00\\x00\\x00\\x01z\\x84\\xbb\\x80\\x00\\x00\\x00\\x01{\\x9c+p\\x00\\x00\\x00\\x01|d\\x9d\\x80\\x00\\x00\\x00\\x01}|\\rp\\x00\\x00\\x00\\x01~D\\x7f\\x80\\x00\\x00\\x00\\x01\\x7fe)\\xf0\\x00\\x00\\x00\\x01\\x80$a\\x80\\x00\\x00\\x00\\x01\\x81E\\x0b\\xf0\\x00\\x00\\x00\\x01\\x82\\x04C\\x80\\x00\\x00\\x00\\x01\\x83$\\xed\\xf0\\x00\\x00\\x00\\x01\\x83\\xed`\\x00\\x00\\x00\\x00\\x01\\x85\\x04\\xcf\\xf0\\x00\\x00\\x00\\x01\\x85\\xcdB\\x00\\x00\\x00\\x00\\x01\\x86\\xe4\\xb1\\xf0\\x00\\x00\\x00\\x01\\x87\\xad$\\x00\\x00\\x00\\x00\\x01\\x88\\xc4\\x93\\xf0\\x00\\x00\\x00\\x01\\x89\\x8d\\x06\\x00\\x00\\x00\\x00\\x01\\x8a\\xad\\xb0p\\x00\\x00\\x00\\x01\\x8bl\\xe8\\x00\\x00\\x00\\x00\\x01\\x8c\\x8d\\x92p\\x00\\x00\\x00\\x01\\x8dL\\xca\\x00\\x00\\x00\\x00\\x01\\x8emtp\\x00\\x00\\x00\\x01\\x8f5\\xe6\\x80\\x00\\x00\\x00\\x01\\x90MVp\\x00\\x00\\x00\\x01\\x91\\x15\\xc8\\x80\\x00\\x00\\x00\\x01\\x92-8p\\x00\\x00\\x00\\x01\\x92\\xf5\\xaa\\x80\\x00\\x00\\x00\\x01\\x94\\x16T\\xf0\\x00\\x00\\x00\\x01\\x94\\xd5\\x8c\\x80\\x00\\x00\\x00\\x01\\x95\\xf66\\xf0\\x00\\x00\\x00\\x01\\x96\\xb5n\\x80\\x00\\x00\\x00\\x01\\x97\\xd6\\x18\\xf0\\x00\\x00\\x00\\x01\\x98\\x95P\\x80\\x00\\x00\\x00\\x01\\x99\\xb5\\xfa\\xf0\\x00\\x00\\x00\\x01\\x9a~m\\x00\\x00\\x00\\x00\\x01\\x9b\\x95\\xdc\\xf0\\x00\\x00\\x00\\x01\\x9c^O\\x00\\x00\\x00\\x00\\x01\\x9du\\xbe\\xf0\\x00\\x00\\x00\\x01\\x9e>1\\x00\\x00\\x00\\x00\\x01\\x9f^\\xdbp\\x00\\x00\\x00\\x01\\xa0\\x1e\\x13\\x00\\x00\\x00\\x00\\x01\\xa1>\\xbdp\\x00\\x00\\x00\\x01\\xa1\\xfd\\xf5\\x00\\x00\\x00\\x00\\x01\\xa3\\x1e\\x9fp\\x00\\x00\\x00\\x01\\xa3\\xe7\\x11\\x80\\x00\\x00\\x00\\x01\\xa4\\xfe\\x81p\\x00\\x00\\x00\\x01\\xa5\\xc6\\xf3\\x80\\x00\\x00\\x00\\x01\\xa6\\xdecp\\x00\\x00\\x00\\x01\\xa7\\xa6\\xd5\\x80\\x00\\x00\\x00\\x01\\xa8\\xbeEp\\x00\\x00\\x00\\x01\\xa9\\x86\\xb7\\x80\\x00\\x00\\x00\\x01\\xaa\\xa7a\\xf0\\x00\\x00\\x00\\x01\\xabf\\x99\\x80\\x00\\x00\\x00\\x01\\xac\\x87C\\xf0\\x00\\x00\\x00\\x01\\xadF{\\x80\\x00\\x00\\x00\\x01\\xaeg%\\xf0\\x00\\x00\\x00\\x01\\xaf/\\x98\\x00\\x00\\x00\\x00\\x01\\xb0G\\x07\\xf0\\x00\\x00\\x00\\x01\\xb1\\x0fz\\x00\\x00\\x00\\x00\\x01\\xb2&\\xe9\\xf0\\x00\\x00\\x00\\x01\\xb2\\xef\\\\\\x00\\x00\\x00\\x00\\x01\\xb4\\x06\\xcb\\xf0\\x00\\x00\\x00\\x01\\xb4\\xcf>\\x00\\x00\\x00\\x00\\x01\\xb5\\xef\\xe8p\\x00\\x00\\x00\\x01\\xb6\\xaf \\x00\\x00\\x00\\x00\\x01\\xb7\\xcf\\xcap\\x00\\x00\\x00\\x01\\xb8\\x8f\\x02\\x00\\x00\\x00\\x00\\x01\\xb9\\xaf\\xacp\\x00\\x00\\x00\\x01\\xbax\\x1e\\x80\\x00\\x00\\x00\\x01\\xbb\\x8f\\x8ep\\x00\\x00\\x00\\x01\\xbcX\\x00\\x80\\x00\\x00\\x00\\x01\\xbdopp\\x00\\x00\\x00\\x01\\xbe7\\xe2\\x80\\x00\\x00\\x00\\x01\\xbfORp\\x00\\x00\\x00\\x01\\xc0\\x17\\xc4\\x80\\x00\\x00\\x00\\x01\\xc18n\\xf0\\x00\\x00\\x00\\x01\\xc1\\xf7\\xa6\\x80\\x00\\x00\\x00\\x01\\xc3\\x18P\\xf0\\x00\\x00\\x00\\x01\\xc3\\xd7\\x88\\x80\\x00\\x00\\x00\\x01\\xc4\\xf82\\xf0\\x00\\x00\\x00\\x01\\xc5\\xc0\\xa5\\x00\\x00\\x00\\x00\\x01\\xc6\\xd8\\x14\\xf0\\x00\\x00\\x00\\x01\\xc7\\xa0\\x87\\x00\\x00\\x00\\x00\\x01\\xc8\\xb7\\xf6\\xf0\\x00\\x00\\x00\\x01\\xc9\\x80i\\x00\\x00\\x00\\x00\\x01\\xca\\xa1\\x13p\\x00\\x00\\x00\\x01\\xcb`K\\x00\\x00\\x00\\x00\\x01\\xcc\\x80\\xf5p\\x00\\x00\\x00\\x01\\xcd@-\\x00\\x00\\x00\\x00\\x01\\xce`\\xd7p\\x00\\x00\\x00\\x01\\xcf)I\\x80\\x00\\x00\\x00\\x01\\xd0@\\xb9p\\x00\\x00\\x00\\x01\\xd1\\t+\\x80\\x00\\x00\\x00\\x01\\xd2 \\x9bp\\x00\\x00\\x00\\x01\\xd2\\xe9\\r\\x80\\x00\\x00\\x00\\x01\\xd4\\x00}p\\x00\\x00\\x00\\x01\\xd4\\xc8\\xef\\x80\\x00\\x00\\x00\\x01\\xd5\\xe9\\x99\\xf0\\x00\\x00\\x00\\x01\\xd6\\xa8\\xd1\\x80\\x00\\x00\\x00\\x01\\xd7\\xc9{\\xf0\\x00\\x00\\x00\\x01\\xd8\\x88\\xb3\\x80\\x00\\x00\\x00\\x01\\xd9\\xa9]\\xf0\\x00\\x00\\x00\\x01\\xdaq\\xd0\\x00\\x00\\x00\\x00\\x01\\xdb\\x89?\\xf0\\x00\\x00\\x00\\x01\\xdcQ\\xb2\\x00\\x00\\x00\\x00\\x01\\xddi!\\xf0\\x00\\x00\\x00\\x01\\xde1\\x94\\x00\\x00\\x00\\x00\\x01\\xdfR>p\\x00\\x00\\x00\\x01\\xe0\\x11v\\x00\\x00\\x00\\x00\\x01\\xe12 p\\x00\\x00\\x00\\x01\\xe1\\xf1X\\x00\\x00\\x00\\x00\\x01\\xe3\\x12\\x02p\\x00\\x00\\x00\\x01\\xe3\\xd1:\\x00\\x00\\x00\\x00\\x01\\xe4\\xf1\\xe4p\\x00\\x00\\x00\\x01\\xe5\\xbaV\\x80\\x00\\x00\\x00\\x01\\xe6\\xd1\\xc6p\\x00\\x00\\x00\\x01\\xe7\\x9a8\\x80\\x00\\x00\\x00\\x01\\xe8\\xb1\\xa8p\\x00\\x00\\x00\\x01\\xe9z\\x1a\\x80\\x00\\x00\\x00\\x01\\xea\\x9a\\xc4\\xf0\\x00\\x00\\x00\\x01\\xebY\\xfc\\x80\\x00\\x00\\x00\\x01\\xecz\\xa6\\xf0\\x00\\x00\\x00\\x01\\xed9\\xde\\x80\\x00\\x00\\x00\\x01\\xeeZ\\x88\\xf0\\x00\\x00\\x00\\x01\\xef\"\\xfb\\x00\\x00\\x00\\x00\\x01\\xf0:j\\xf0\\x00\\x00\\x00\\x01\\xf1\\x02\\xdd\\x00\\x00\\x00\\x00\\x01\\xf2\\x1aL\\xf0\\x00\\x00\\x00\\x01\\xf2\\xe2\\xbf\\x00\\x00\\x00\\x00\\x01\\xf3\\xfa.\\xf0\\x00\\x00\\x00\\x01\\xf4\\xc2\\xa1\\x00\\x00\\x00\\x00\\x01\\xf5\\xe3Kp\\x00\\x00\\x00\\x01\\xf6\\xa2\\x83\\x00\\x00\\x00\\x00\\x01\\xf7\\xc3-p\\x00\\x00\\x00\\x01\\xf8\\x82e\\x00\\x00\\x00\\x00\\x01\\xf9\\xa3\\x0fp\\x00\\x00\\x00\\x01\\xfak\\x81\\x80\\x00\\x00\\x00\\x01\\xfb\\x82\\xf1p\\x00\\x00\\x00\\x01\\xfcKc\\x80\\x00\\x00\\x00\\x01\\xfdb\\xd3p\\x00\\x00\\x00\\x01\\xfe+E\\x80\\x00\\x00\\x00\\x01\\xffK\\xef\\xf0\\x00\\x00\\x00\\x02\\x00\\x0b\\'\\x80\\x00\\x00\\x00\\x02\\x01+\\xd1\\xf0\\x00\\x00\\x00\\x02\\x01\\xeb\\t\\x80\\x00\\x00\\x00\\x02\\x03\\x0b\\xb3\\xf0\\x00\\x00\\x00\\x02\\x03\\xd4&\\x00\\x00\\x00\\x00\\x02\\x04\\xeb\\x95\\xf0\\x00\\x00\\x00\\x02\\x05\\xb4\\x08\\x00\\x00\\x00\\x00\\x02\\x06\\xcbw\\xf0\\x00\\x00\\x00\\x02\\x07\\x93\\xea\\x00\\x00\\x00\\x00\\x02\\x08\\xabY\\xf0\\x00\\x00\\x00\\x02\\ts\\xcc\\x00\\x00\\x00\\x00\\x02\\n\\x94vp\\x00\\x00\\x00\\x02\\x0bS\\xae\\x00\\x00\\x00\\x00\\x02\\x0ctXp\\x00\\x00\\x00\\x02\\r3\\x90\\x00\\x00\\x00\\x00\\x02\\x0eT:p\\x00\\x00\\x00\\x02\\x0f\\x1c\\xac\\x80\\x00\\x00\\x00\\x02\\x104\\x1cp\\x00\\x00\\x00\\x02\\x10\\xfc\\x8e\\x80\\x00\\x00\\x00\\x02\\x12\\x13\\xfep\\x00\\x00\\x00\\x02\\x12\\xdcp\\x80\\x00\\x00\\x00\\x02\\x13\\xfd\\x1a\\xf0\\x00\\x00\\x00\\x02\\x14\\xbcR\\x80\\x00\\x00\\x00\\x02\\x15\\xdc\\xfc\\xf0\\x00\\x00\\x00\\x02\\x16\\x9c4\\x80\\x00\\x00\\x00\\x02\\x17\\xbc\\xde\\xf0\\x00\\x00\\x00\\x02\\x18|\\x16\\x80\\x00\\x00\\x00\\x02\\x19\\x9c\\xc0\\xf0\\x00\\x00\\x00\\x02\\x1ae3\\x00\\x00\\x00\\x00\\x02\\x1b|\\xa2\\xf0\\x00\\x00\\x00\\x02\\x1cE\\x15\\x00\\x00\\x00\\x00\\x02\\x1d\\\\\\x84\\xf0\\x00\\x00\\x00\\x02\\x1e$\\xf7\\x00\\x00\\x00\\x00\\x02\\x1fE\\xa1p\\x00\\x00\\x00\\x02 \\x04\\xd9\\x00\\x00\\x00\\x00\\x02!%\\x83p\\x00\\x00\\x00\\x02!\\xe4\\xbb\\x00\\x00\\x00\\x00\\x02#\\x05ep\\x00\\x00\\x00\\x02#\\xcd\\xd7\\x80\\x00\\x00\\x00\\x02$\\xe5Gp\\x00\\x00\\x00\\x02%\\xad\\xb9\\x80\\x00\\x00\\x00\\x02&\\xc5)p\\x00\\x00\\x00\\x02\\'\\x8d\\x9b\\x80\\x00\\x00\\x00\\x02(\\xa5\\x0bp\\x00\\x00\\x00\\x02)m}\\x80\\x00\\x00\\x00\\x02*\\x8e\\'\\xf0\\x00\\x00\\x00\\x02+M_\\x80\\x00\\x00\\x00\\x02,n\\t\\xf0\\x00\\x00\\x00\\x02--A\\x80\\x00\\x00\\x00\\x02.M\\xeb\\xf0\\x00\\x00\\x00\\x02/\\x16^\\x00\\x00\\x00\\x00\\x020-\\xcd\\xf0\\x00\\x00\\x00\\x020\\xf6@\\x00\\x00\\x00\\x00\\x022\\r\\xaf\\xf0\\x00\\x00\\x00\\x022\\xd6\"\\x00\\x00\\x00\\x00\\x023\\xf6\\xccp\\x00\\x00\\x00\\x024\\xb6\\x04\\x00\\x00\\x00\\x00\\x025\\xd6\\xaep\\x00\\x00\\x00\\x026\\x95\\xe6\\x00\\x00\\x00\\x00\\x027\\xb6\\x90p\\x00\\x00\\x00\\x028\\x7f\\x02\\x80\\x00\\x00\\x00\\x029\\x96rp\\x00\\x00\\x00\\x02:^\\xe4\\x80\\x00\\x00\\x00\\x02;vTp\\x00\\x00\\x00\\x02<>\\xc6\\x80\\x00\\x00\\x00\\x02=V6p\\x00\\x00\\x00\\x02>\\x1e\\xa8\\x80\\x00\\x00\\x00\\x02??R\\xf0\\x00\\x00\\x00\\x02?\\xfe\\x8a\\x80\\x00\\x00\\x00\\x02A\\x1f4\\xf0\\x00\\x00\\x00\\x02A\\xdel\\x80\\x00\\x00\\x00\\x02B\\xff\\x16\\xf0\\x00\\x00\\x00\\x02C\\xc7\\x89\\x00\\x00\\x00\\x00\\x02D\\xde\\xf8\\xf0\\x00\\x00\\x00\\x02E\\xa7k\\x00\\x00\\x00\\x00\\x02F\\xbe\\xda\\xf0\\x00\\x00\\x00\\x02G\\x87M\\x00\\x00\\x00\\x00\\x02H\\xa7\\xf7p\\x00\\x00\\x00\\x02Ig/\\x00\\x00\\x00\\x00\\x02J\\x87\\xd9p\\x00\\x00\\x00\\x02KG\\x11\\x00\\x00\\x00\\x00\\x02Lg\\xbbp\\x00\\x00\\x00\\x02M&\\xf3\\x00\\x00\\x00\\x00\\x02NG\\x9dp\\x00\\x00\\x00\\x02O\\x10\\x0f\\x80\\x00\\x00\\x00\\x02P\\'\\x7fp\\x00\\x00\\x00\\x02P\\xef\\xf1\\x80\\x00\\x00\\x00\\x02R\\x07ap\\x00\\x00\\x00\\x02R\\xcf\\xd3\\x80\\x00\\x00\\x00\\x02S\\xf0}\\xf0\\x00\\x00\\x00\\x02T\\xaf\\xb5\\x80\\x00\\x00\\x00\\x02U\\xd0_\\xf0\\x00\\x00\\x00\\x02V\\x8f\\x97\\x80\\x00\\x00\\x00\\x02W\\xb0A\\xf0\\x00\\x00\\x00\\x02Xx\\xb4\\x00\\x00\\x00\\x00\\x02Y\\x90#\\xf0\\x00\\x00\\x00\\x02ZX\\x96\\x00\\x00\\x00\\x00\\x02[p\\x05\\xf0\\x00\\x00\\x00\\x02\\\\8x\\x00\\x00\\x00\\x00\\x02]O\\xe7\\xf0\\x00\\x00\\x00\\x02^\\x18Z\\x00\\x00\\x00\\x00\\x02_9\\x04p\\x00\\x00\\x00\\x02_\\xf8<\\x00\\x00\\x00\\x00\\x02a\\x18\\xe6p\\x00\\x00\\x00\\x02a\\xd8\\x1e\\x00\\x00\\x00\\x00\\x02b\\xf8\\xc8p\\x00\\x00\\x00\\x02c\\xc1:\\x80\\x00\\x00\\x00\\x02d\\xd8\\xaap\\x00\\x00\\x00\\x02e\\xa1\\x1c\\x80\\x00\\x00\\x00\\x02f\\xb8\\x8cp\\x00\\x00\\x00\\x02g\\x80\\xfe\\x80\\x00\\x00\\x00\\x02h\\xa1\\xa8\\xf0\\x00\\x00\\x00\\x02i`\\xe0\\x80\\x00\\x00\\x00\\x02j\\x81\\x8a\\xf0\\x00\\x00\\x00\\x02k@\\xc2\\x80\\x00\\x00\\x00\\x02lal\\xf0\\x00\\x00\\x00\\x02m \\xa4\\x80\\x00\\x00\\x00\\x02nAN\\xf0\\x00\\x00\\x00\\x02o\\t\\xc1\\x00\\x00\\x00\\x00\\x02p!0\\xf0\\x00\\x00\\x00\\x02p\\xe9\\xa3\\x00\\x00\\x00\\x00\\x02r\\x01\\x12\\xf0\\x00\\x00\\x00\\x02r\\xc9\\x85\\x00\\x00\\x00\\x00\\x02s\\xe0\\xf4\\xf0\\x00\\x00\\x00\\x02t\\xa9g\\x00\\x00\\x00\\x00\\x02u\\xca\\x11p\\x00\\x00\\x00\\x02v\\x89I\\x00\\x00\\x00\\x00\\x02w\\xa9\\xf3p\\x00\\x00\\x00\\x02xi+\\x00\\x00\\x00\\x00\\x02y\\x89\\xd5p\\x00\\x00\\x00\\x02zRG\\x80\\x00\\x00\\x00\\x02{i\\xb7p\\x00\\x00\\x00\\x02|2)\\x80\\x00\\x00\\x00\\x02}I\\x99p\\x00\\x00\\x00\\x02~\\x12\\x0b\\x80\\x00\\x00\\x00\\x02\\x7f2\\xb5\\xf0\\x00\\x00\\x00\\x02\\x7f\\xf1\\xed\\x80\\x00\\x00\\x00\\x02\\x81\\x12\\x97\\xf0\\x00\\x00\\x00\\x02\\x81\\xd1\\xcf\\x80\\x00\\x00\\x00\\x02\\x82\\xf2y\\xf0\\x00\\x00\\x00\\x02\\x83\\xba\\xec\\x00\\x00\\x00\\x00\\x02\\x84\\xd2[\\xf0\\x00\\x00\\x00\\x02\\x85\\x9a\\xce\\x00\\x00\\x00\\x00\\x02\\x86\\xb2=\\xf0\\x00\\x00\\x00\\x02\\x87z\\xb0\\x00\\x00\\x00\\x00\\x02\\x88\\x92\\x1f\\xf0\\x00\\x00\\x00\\x02\\x89Z\\x92\\x00\\x00\\x00\\x00\\x02\\x8a{<p\\x00\\x00\\x00\\x02\\x8b:t\\x00\\x00\\x00\\x00\\x02\\x8c[\\x1ep\\x00\\x00\\x00\\x02\\x8d\\x1aV\\x00\\x00\\x00\\x00\\x02\\x8e;\\x00p\\x00\\x00\\x00\\x02\\x8f\\x03r\\x80\\x00\\x00\\x00\\x02\\x90\\x1a\\xe2p\\x00\\x00\\x00\\x02\\x90\\xe3T\\x80\\x00\\x00\\x00\\x02\\x91\\xfa\\xc4p\\x00\\x00\\x00\\x02\\x92\\xc36\\x80\\x00\\x00\\x00\\x02\\x93\\xe3\\xe0\\xf0\\x00\\x00\\x00\\x02\\x94\\xa3\\x18\\x80\\x00\\x00\\x00\\x02\\x95\\xc3\\xc2\\xf0\\x00\\x00\\x00\\x02\\x96\\x82\\xfa\\x80\\x00\\x00\\x00\\x02\\x97\\xa3\\xa4\\xf0\\x00\\x00\\x00\\x02\\x98b\\xdc\\x80\\x00\\x00\\x00\\x02\\x99\\x83\\x86\\xf0\\x00\\x00\\x00\\x02\\x9aK\\xf9\\x00\\x00\\x00\\x00\\x02\\x9bch\\xf0\\x00\\x00\\x00\\x02\\x9c+\\xdb\\x00\\x00\\x00\\x00\\x02\\x9dCJ\\xf0\\x00\\x00\\x00\\x02\\x9e\\x0b\\xbd\\x00\\x00\\x00\\x00\\x02\\x9f,gp\\x00\\x00\\x00\\x02\\x9f\\xeb\\x9f\\x00\\x00\\x00\\x00\\x02\\xa1\\x0cIp\\x00\\x00\\x00\\x02\\xa1\\xcb\\x81\\x00\\x00\\x00\\x00\\x02\\xa2\\xec+p\\x00\\x00\\x00\\x02\\xa3\\xb4\\x9d\\x80\\x00\\x00\\x00\\x02\\xa4\\xcc\\rp\\x00\\x00\\x00\\x02\\xa5\\x94\\x7f\\x80\\x00\\x00\\x00\\x02\\xa6\\xab\\xefp\\x00\\x00\\x00\\x02\\xa7ta\\x80\\x00\\x00\\x00\\x02\\xa8\\x8b\\xd1p\\x00\\x00\\x00\\x02\\xa9TC\\x80\\x00\\x00\\x00\\x02\\xaat\\xed\\xf0\\x00\\x00\\x00\\x02\\xab4%\\x80\\x00\\x00\\x00\\x02\\xacT\\xcf\\xf0\\x00\\x00\\x00\\x02\\xad\\x14\\x07\\x80\\x00\\x00\\x00\\x02\\xae4\\xb1\\xf0\\x00\\x00\\x00\\x02\\xae\\xfd$\\x00\\x00\\x00\\x00\\x02\\xb0\\x14\\x93\\xf0\\x00\\x00\\x00\\x02\\xb0\\xdd\\x06\\x00\\x00\\x00\\x00\\x02\\xb1\\xf4u\\xf0\\x00\\x00\\x00\\x02\\xb2\\xbc\\xe8\\x00\\x00\\x00\\x00\\x02\\xb3\\xdd\\x92p\\x00\\x00\\x00\\x02\\xb4\\x9c\\xca\\x00\\x00\\x00\\x00\\x02\\xb5\\xbdtp\\x00\\x00\\x00\\x02\\xb6|\\xac\\x00\\x00\\x00\\x00\\x02\\xb7\\x9dVp\\x00\\x00\\x00\\x02\\xb8e\\xc8\\x80\\x00\\x00\\x00\\x02\\xb9}8p\\x00\\x00\\x00\\x02\\xbaE\\xaa\\x80\\x00\\x00\\x00\\x02\\xbb]\\x1ap\\x00\\x00\\x00\\x02\\xbc%\\x8c\\x80\\x00\\x00\\x00\\x02\\xbd<\\xfcp\\x00\\x00\\x00\\x02\\xbe\\x05n\\x80\\x00\\x00\\x00\\x02\\xbf&\\x18\\xf0\\x00\\x00\\x00\\x02\\xbf\\xe5P\\x80\\x00\\x00\\x00\\x02\\xc1\\x05\\xfa\\xf0\\x00\\x00\\x00\\x02\\xc1\\xc52\\x80\\x00\\x00\\x00\\x02\\xc2\\xe5\\xdc\\xf0\\x00\\x00\\x00\\x02\\xc3\\xaeO\\x00\\x00\\x00\\x00\\x02\\xc4\\xc5\\xbe\\xf0\\x00\\x00\\x00\\x02\\xc5\\x8e1\\x00\\x00\\x00\\x00\\x02\\xc6\\xa5\\xa0\\xf0\\x00\\x00\\x00\\x02\\xc7n\\x13\\x00\\x00\\x00\\x00\\x02\\xc8\\x8e\\xbdp\\x00\\x00\\x00\\x02\\xc9M\\xf5\\x00\\x00\\x00\\x00\\x02\\xcan\\x9fp\\x00\\x00\\x00\\x02\\xcb-\\xd7\\x00\\x00\\x00\\x00\\x02\\xccN\\x81p\\x00\\x00\\x00\\x02\\xcd\\r\\xb9\\x00\\x00\\x00\\x00\\x02\\xce.cp\\x00\\x00\\x00\\x02\\xce\\xf6\\xd5\\x80\\x00\\x00\\x00\\x02\\xd0\\x0eEp\\x00\\x00\\x00\\x02\\xd0\\xd6\\xb7\\x80\\x00\\x00\\x00\\x02\\xd1\\xee\\'p\\x00\\x00\\x00\\x02\\xd2\\xb6\\x99\\x80\\x00\\x00\\x00\\x02\\xd3\\xd7C\\xf0\\x00\\x00\\x00\\x02\\xd4\\x96{\\x80\\x00\\x00\\x00\\x02\\xd5\\xb7%\\xf0\\x00\\x00\\x00\\x02\\xd6v]\\x80\\x00\\x00\\x00\\x02\\xd7\\x97\\x07\\xf0\\x00\\x00\\x00\\x02\\xd8_z\\x00\\x00\\x00\\x00\\x02\\xd9v\\xe9\\xf0\\x00\\x00\\x00\\x02\\xda?\\\\\\x00\\x00\\x00\\x00\\x02\\xdbV\\xcb\\xf0\\x00\\x00\\x00\\x02\\xdc\\x1f>\\x00\\x00\\x00\\x00\\x02\\xdd6\\xad\\xf0\\x00\\x00\\x00\\x02\\xdd\\xff \\x00\\x00\\x00\\x00\\x02\\xdf\\x1f\\xcap\\x00\\x00\\x00\\x02\\xdf\\xdf\\x02\\x00\\x00\\x00\\x00\\x02\\xe0\\xff\\xacp\\x00\\x00\\x00\\x02\\xe1\\xbe\\xe4\\x00\\x00\\x00\\x00\\x02\\xe2\\xdf\\x8ep\\x00\\x00\\x00\\x02\\xe3\\xa8\\x00\\x80\\x00\\x00\\x00\\x02\\xe4\\xbfpp\\x00\\x00\\x00\\x02\\xe5\\x87\\xe2\\x80\\x00\\x00\\x00\\x02\\xe6\\x9fRp\\x00\\x00\\x00\\x02\\xe7g\\xc4\\x80\\x00\\x00\\x00\\x02\\xe8\\x88n\\xf0\\x00\\x00\\x00\\x02\\xe9G\\xa6\\x80\\x00\\x00\\x00\\x02\\xeahP\\xf0\\x00\\x00\\x00\\x02\\xeb\\'\\x88\\x80\\x00\\x00\\x00\\x02\\xecH2\\xf0\\x00\\x00\\x00\\x02\\xed\\x10\\xa5\\x00\\x00\\x00\\x00\\x02\\xee(\\x14\\xf0\\x00\\x00\\x00\\x02\\xee\\xf0\\x87\\x00\\x00\\x00\\x00\\x02\\xf0\\x07\\xf6\\xf0\\x00\\x00\\x00\\x02\\xf0\\xd0i\\x00\\x00\\x00\\x00\\x02\\xf1\\xe7\\xd8\\xf0\\x00\\x00\\x00\\x02\\xf2\\xb0K\\x00\\x00\\x00\\x00\\x02\\xf3\\xd0\\xf5p\\x00\\x00\\x00\\x02\\xf4\\x90-\\x00\\x00\\x00\\x00\\x02\\xf5\\xb0\\xd7p\\x00\\x00\\x00\\x02\\xf6p\\x0f\\x00\\x00\\x00\\x00\\x02\\xf7\\x90\\xb9p\\x00\\x00\\x00\\x02\\xf8Y+\\x80\\x00\\x00\\x00\\x02\\xf9p\\x9bp\\x00\\x00\\x00\\x02\\xfa9\\r\\x80\\x00\\x00\\x00\\x02\\xfbP}p\\x00\\x00\\x00\\x02\\xfc\\x18\\xef\\x80\\x00\\x00\\x00\\x02\\xfd9\\x99\\xf0\\x00\\x00\\x00\\x02\\xfd\\xf8\\xd1\\x80\\x00\\x00\\x00\\x02\\xff\\x19{\\xf0\\x00\\x00\\x00\\x02\\xff\\xd8\\xb3\\x80\\x00\\x00\\x00\\x03\\x00\\xf9]\\xf0\\x00\\x00\\x00\\x03\\x01\\xb8\\x95\\x80\\x00\\x00\\x00\\x03\\x02\\xd9?\\xf0\\x00\\x00\\x00\\x03\\x03\\xa1\\xb2\\x00\\x00\\x00\\x00\\x03\\x04\\xb9!\\xf0\\x00\\x00\\x00\\x03\\x05\\x81\\x94\\x00\\x00\\x00\\x00\\x03\\x06\\x99\\x03\\xf0\\x00\\x00\\x00\\x03\\x07av\\x00\\x00\\x00\\x00\\x03\\x08\\x82 p\\x00\\x00\\x00\\x03\\tAX\\x00\\x00\\x00\\x00\\x03\\nb\\x02p\\x00\\x00\\x00\\x03\\x0b!:\\x00\\x00\\x00\\x00\\x03\\x0cA\\xe4p\\x00\\x00\\x00\\x03\\r\\nV\\x80\\x00\\x00\\x00\\x03\\x0e!\\xc6p\\x00\\x00\\x00\\x03\\x0e\\xea8\\x80\\x00\\x00\\x00\\x03\\x10\\x01\\xa8p\\x00\\x00\\x00\\x03\\x10\\xca\\x1a\\x80\\x00\\x00\\x00\\x03\\x11\\xe1\\x8ap\\x00\\x00\\x00\\x03\\x12\\xa9\\xfc\\x80\\x00\\x00\\x00\\x03\\x13\\xca\\xa6\\xf0\\x00\\x00\\x00\\x03\\x14\\x89\\xde\\x80\\x00\\x00\\x00\\x03\\x15\\xaa\\x88\\xf0\\x00\\x00\\x00\\x03\\x16i\\xc0\\x80\\x00\\x00\\x00\\x03\\x17\\x8aj\\xf0\\x00\\x00\\x00\\x03\\x18R\\xdd\\x00\\x00\\x00\\x00\\x03\\x19jL\\xf0\\x00\\x00\\x00\\x03\\x1a2\\xbf\\x00\\x00\\x00\\x00\\x03\\x1bJ.\\xf0\\x00\\x00\\x00\\x03\\x1c\\x12\\xa1\\x00\\x00\\x00\\x00\\x03\\x1d3Kp\\x00\\x00\\x00\\x03\\x1d\\xf2\\x83\\x00\\x00\\x00\\x00\\x03\\x1f\\x13-p\\x00\\x00\\x00\\x03\\x1f\\xd2e\\x00\\x00\\x00\\x00\\x03 \\xf3\\x0fp\\x00\\x00\\x00\\x03!\\xbb\\x81\\x80\\x00\\x00\\x00\\x03\"\\xd2\\xf1p\\x00\\x00\\x00\\x03#\\x9bc\\x80\\x00\\x00\\x00\\x03$\\xb2\\xd3p\\x00\\x00\\x00\\x03%{E\\x80\\x00\\x00\\x00\\x03&\\x92\\xb5p\\x00\\x00\\x00\\x03\\'[\\'\\x80\\x00\\x00\\x00\\x03({\\xd1\\xf0\\x00\\x00\\x00\\x03);\\t\\x80\\x00\\x00\\x00\\x03*[\\xb3\\xf0\\x00\\x00\\x00\\x03+\\x1a\\xeb\\x80\\x00\\x00\\x00\\x03,;\\x95\\xf0\\x00\\x00\\x00\\x03-\\x04\\x08\\x00\\x00\\x00\\x00\\x03.\\x1bw\\xf0\\x00\\x00\\x00\\x03.\\xe3\\xea\\x00\\x00\\x00\\x00\\x03/\\xfbY\\xf0\\x00\\x00\\x00\\x030\\xc3\\xcc\\x00\\x00\\x00\\x00\\x031\\xe4vp\\x00\\x00\\x00\\x032\\xa3\\xae\\x00\\x00\\x00\\x00\\x033\\xc4Xp\\x00\\x00\\x00\\x034\\x83\\x90\\x00\\x00\\x00\\x00\\x035\\xa4:p\\x00\\x00\\x00\\x036cr\\x00\\x00\\x00\\x00\\x037\\x84\\x1cp\\x00\\x00\\x00\\x038L\\x8e\\x80\\x00\\x00\\x00\\x039c\\xfep\\x00\\x00\\x00\\x03:,p\\x80\\x00\\x00\\x00\\x03;C\\xe0p\\x00\\x00\\x00\\x03<\\x0cR\\x80\\x00\\x00\\x00\\x03=,\\xfc\\xf0\\x00\\x00\\x00\\x03=\\xec4\\x80\\x00\\x00\\x00\\x03?\\x0c\\xde\\xf0\\x00\\x00\\x00\\x03?\\xcc\\x16\\x80\\x00\\x00\\x00\\x03@\\xec\\xc0\\xf0\\x00\\x00\\x00\\x03A\\xb53\\x00\\x00\\x00\\x00\\x03B\\xcc\\xa2\\xf0\\x01\\x03\\x02\\x03\\x02\\x03\\x02\\x03\\x02\\x03\\x02\\x03\\x04\\x02\\x03\\x02\\x03\\x02\\x03\\x02\\x03\\x02\\x03\\x02\\x03\\x02\\x03\\x02\\x03\\x02\\x03\\x02\\x03\\x02\\x03\\x02\\x03\\x02\\x03\\x02\\x03\\x02\\x03\\x02\\x03\\x02\\x03\\x02\\x03\\x02\\x03\\x02\\x03\\x02\\x03\\x02\\x03\\x02\\x03\\x02\\x03\\x02\\x03\\x02\\x03\\x02\\x03\\x02\\x03\\x02\\x03\\x02\\x03\\x02\\x03\\x02\\x03\\x02\\x03\\x02\\x03\\x02\\x03\\x02\\x03\\x02\\x03\\x02\\x03\\x02\\x03\\x02\\x03\\x02\\x03\\x02\\x03\\x02\\x03\\x02\\x03\\x02\\x03\\x02\\x03\\x02\\x03\\x02\\x03\\x02\\x03\\x02\\x03\\x02\\x03\\x02\\x03\\x02\\x03\\x02\\x03\\x02\\x03\\x02\\x03\\x02\\x03\\x02\\x03\\x02\\x03\\x02\\x03\\x02\\x03\\x02\\x03\\x02\\x03\\x02\\x03\\x02\\x03\\x02\\x03\\x02\\x03\\x02\\x03\\x02\\x03\\x02\\x03\\x02\\x03\\x02\\x03\\x02\\x03\\x02\\x03\\x02\\x03\\x02\\x03\\x02\\x03\\x02\\x03\\x02\\x03\\x02\\x03\\x02\\x03\\x02\\x03\\x02\\x03\\x02\\x03\\x02\\x03\\x02\\x03\\x02\\x03\\x02\\x03\\x02\\x03\\x02\\x03\\x02\\x03\\x02\\x03\\x02\\x03\\x02\\x03\\x02\\x03\\x02\\x03\\x02\\x03\\x02\\x03\\x02\\x03\\x02\\x03\\x02\\x03\\x02\\x03\\x02\\x03\\x02\\x03\\x02\\x03\\x02\\x03\\x02\\x03\\x02\\x03\\x02\\x03\\x02\\x03\\x02\\x03\\x02\\x03\\x02\\x03\\x02\\x03\\x02\\x03\\x02\\x03\\x02\\x03\\x02\\x03\\x02\\x03\\x02\\x03\\x02\\x03\\x02\\x03\\x02\\x03\\x02\\x03\\x02\\x03\\x02\\x03\\x02\\x03\\x02\\x03\\x02\\x03\\x02\\x03\\x02\\x03\\x02\\x03\\x02\\x03\\x02\\x03\\x02\\x03\\x02\\x03\\x02\\x03\\x02\\x03\\x02\\x03\\x02\\x03\\x02\\x03\\x02\\x03\\x02\\x03\\x02\\x03\\x02\\x03\\x02\\x03\\x02\\x03\\x02\\x03\\x02\\x03\\x02\\x03\\x02\\x03\\x02\\x03\\x02\\x03\\x02\\x03\\x02\\x03\\x02\\x03\\x02\\x03\\x02\\x03\\x02\\x03\\x02\\x03\\x02\\x03\\x02\\x03\\x02\\x03\\x02\\x03\\x02\\x03\\x02\\x03\\x02\\x03\\x02\\x03\\x02\\x03\\x02\\x03\\x02\\x03\\x02\\x03\\x02\\x03\\x02\\x03\\x02\\x03\\x02\\x03\\x02\\x03\\x02\\x03\\x02\\x03\\x02\\x03\\x02\\x03\\x02\\x03\\x02\\x03\\x02\\x03\\x02\\x03\\x02\\x03\\x02\\x03\\x02\\x03\\x02\\x03\\x02\\x03\\x02\\x03\\x02\\x03\\x02\\x03\\x02\\x03\\x02\\x03\\x02\\x03\\x02\\x03\\x02\\x03\\x02\\x03\\x02\\x03\\x02\\x03\\x02\\x03\\x02\\x03\\x02\\x03\\x02\\x03\\x02\\x03\\x02\\x03\\x02\\x03\\x02\\x03\\x02\\x03\\x02\\x03\\x02\\x03\\x02\\x03\\x02\\x03\\x02\\x03\\x02\\x03\\x02\\x03\\x02\\x03\\x02\\x03\\x02\\x03\\x02\\x03\\x02\\x03\\x02\\x03\\x02\\x03\\x02\\x03\\x02\\x03\\x02\\x03\\x02\\x03\\x02\\x03\\x02\\x03\\x02\\x03\\x02\\x03\\x02\\x03\\x02\\x03\\x02\\x03\\x02\\x03\\x02\\x03\\x02\\x03\\x02\\x03\\x02\\x03\\x02\\x03\\x02\\x03\\x02\\x03\\x02\\x03\\x02\\x03\\x02\\x03\\x02\\x03\\x02\\x03\\x02\\x03\\x02\\x03\\x02\\x03\\x02\\x03\\x02\\x03\\x02\\x03\\x02\\x03\\x02\\x03\\x02\\x03\\x02\\x03\\x02\\x03\\x02\\x03\\x02\\x03\\x02\\x03\\x02\\x03\\x02\\x03\\x02\\x03\\x02\\x03\\x02\\x03\\x02\\x03\\x02\\x03\\x02\\x03\\x02\\x03\\x02\\x03\\x02\\x03\\x02\\x03\\x02\\x03\\x02\\x03\\x02\\x03\\x02\\x03\\x02\\x03\\x02\\x03\\x02\\x03\\x02\\x03\\x02\\x03\\x02\\x03\\x02\\x03\\x02\\x03\\x02\\x03\\x02\\x03\\x02\\x03\\x02\\x03\\x02\\x03\\x02\\x03\\x02\\x03\\x02\\x03\\x02\\x03\\x02\\x03\\x02\\x03\\x02\\x03\\x02\\x03\\x02\\x03\\x02\\x03\\x02\\x03\\x02\\x03\\x02\\x03\\x02\\x03\\x02\\x03\\x02\\x03\\x02\\x03\\x02\\x03\\x02\\x03\\x02\\x03\\x02\\x03\\x02\\x03\\x02\\x03\\x02\\x03\\x02\\x03\\x02\\x03\\x02\\x03\\x02\\x03\\x02\\x03\\x02\\x03\\x02\\x03\\x02\\x03\\x02\\x03\\x02\\x03\\x02\\x03\\x02\\x03\\x02\\x03\\x02\\x03\\x02\\x03\\x02\\x03\\x02\\x03\\x02\\x03\\x02\\x03\\x02\\x03\\x02\\x03\\x02\\x03\\x02\\x03\\x02\\x03\\x02\\x03\\x02\\x03\\x02\\x03\\x02\\x03\\x02\\x03\\x02\\x03\\x02\\x03\\x02\\x03\\x02\\x03\\x02\\x03\\x02\\x03\\x02\\x03\\x02\\x03\\x02\\x03\\x02\\x03\\x02\\x03\\x02\\x03\\x02\\x03\\x02\\x03\\x02\\x03\\x02\\x03\\x02\\x03\\x02\\x03\\x02\\x03\\x02\\x03\\x02\\x03\\x02\\x03\\x02\\x03\\x02\\x03\\x02\\x03\\x02\\x03\\x02\\x03\\x02\\x03\\x02\\x03\\x02\\x03\\x02\\x03\\x02\\x03\\x02\\x03\\x02\\x03\\x02\\x03\\x02\\x03\\x02\\x03\\x02\\x03\\x02\\x03\\x02\\x03\\x02\\x03\\x02\\x03\\x02\\x03\\x02\\x03\\x02\\x03\\x02\\x03\\x02\\x03\\x02\\x03\\x02\\x03\\x02\\x03\\x02\\x03\\x02\\x03\\x02\\x03\\x02\\x03\\x02\\x03\\x02\\x03\\x02\\x03\\x02\\x03\\x02\\x03\\x02\\x03\\x02\\x03\\x02\\x03\\x02\\x03\\x02\\x03\\x02\\x03\\x02\\x03\\x02\\x03\\x02\\x03\\x02\\x03\\x02\\x03\\x02\\x03\\x02\\x03\\x02\\x03\\x02\\x03\\x02\\x03\\x02\\x03\\x02\\x03\\x02\\x03\\x02\\x03\\x02\\x03\\x02\\x03\\x02\\x03\\x02\\x03\\x02\\x03\\x02\\x03\\x02\\x03\\x02\\x03\\x02\\x03\\x02\\x03\\x02\\x03\\x02\\x03\\x02\\x03\\x02\\x03\\x02\\x03\\x02\\x03\\x02\\x03\\x02\\x03\\x02\\x03\\x02\\x03\\x00\\x00!\\x06\\x00\\x00\\x00\\x00 \\xf8\\x00\\x04\\x00\\x00*0\\x01\\x08\\x00\\x00\\x1c \\x00\\x0c\\x00\\x008@\\x01\\x10\\x00\\x00*0\\x01\\x08LMT\\x00JMT\\x00IDT\\x00IST\\x00IDDT\\x00\\x00\\x00\\x00\\x00\\x00\\x00\\x00\\x00\\x00\\x00\\x00\\x00\\n\\n', 35, 36, 'invalid start byte'), 'CiscoSystemsVPNClient': IsADirectoryError(21, 'Is a directory'), 'sudoers': PermissionError(13, 'Permission denied'), 'newsyslog.d': IsADirectoryError(21, 'Is a directory'), 'emacs': IsADirectoryError(21, 'Is a directory'), 'pam.d': IsADirectoryError(21, 'Is a directory'), 'defaults': IsADirectoryError(21, 'Is a directory'), 'apache2': IsADirectoryError(21, 'Is a directory'), 'ssh': IsADirectoryError(21, 'Is a directory'), 'dictionaries-common': IsADirectoryError(21, 'Is a directory'), 'sudoers~orig': PermissionError(13, 'Permission denied'), 'sudo_lecture': PermissionError(13, 'Permission denied'), 'X11': FileNotFoundError(2, 'No such file or directory'), 'opt': IsADirectoryError(21, 'Is a directory'), 'postfix': IsADirectoryError(21, 'Is a directory'), 'pf.anchors': IsADirectoryError(21, 'Is a directory'), 'master.passwd': PermissionError(13, 'Permission denied'), 'openldap': IsADirectoryError(21, 'Is a directory'), 'fonts': IsADirectoryError(21, 'Is a directory'), 'openssl': IsADirectoryError(21, 'Is a directory'), 'wfs': IsADirectoryError(21, 'Is a directory'), 'AFP.conf': PermissionError(13, 'Permission denied'), 'cups': IsADirectoryError(21, 'Is a directory'), 'resolver': IsADirectoryError(21, 'Is a directory')}\n"
     ]
    }
   ],
   "source": [
    "def filefunc(path, function):\n",
    "    all_results = {}\n",
    "    errors = {}\n",
    "    for file in os.listdir(path):\n",
    "        filename = os.path.basename(file)\n",
    "        try:\n",
    "            result = function(path + file)\n",
    "            all_results[filename] = result\n",
    "        except Exception as err:\n",
    "            errors[filename] = err\n",
    "    return all_results, errors\n",
    "\n",
    "def get_file_length(filename):\n",
    "    return len(open(filename).read())\n",
    "\n",
    "files_length, errors = filefunc('/etc/', get_file_length)\n",
    "print(files_length)\n",
    "print(errors)\n"
   ]
  },
  {
   "cell_type": "code",
   "execution_count": 84,
   "metadata": {},
   "outputs": [],
   "source": [
    "s = 'abcd'\n",
    "x = s.upper()"
   ]
  },
  {
   "cell_type": "code",
   "execution_count": 85,
   "metadata": {},
   "outputs": [
    {
     "data": {
      "text/plain": [
       "'ABCD'"
      ]
     },
     "execution_count": 85,
     "metadata": {},
     "output_type": "execute_result"
    }
   ],
   "source": [
    "x"
   ]
  },
  {
   "cell_type": "code",
   "execution_count": 86,
   "metadata": {},
   "outputs": [],
   "source": [
    "x = s.upper  # no parentheses == alias to the function, not its result"
   ]
  },
  {
   "cell_type": "code",
   "execution_count": 87,
   "metadata": {},
   "outputs": [
    {
     "data": {
      "text/plain": [
       "builtin_function_or_method"
      ]
     },
     "execution_count": 87,
     "metadata": {},
     "output_type": "execute_result"
    }
   ],
   "source": [
    "type(x)"
   ]
  },
  {
   "cell_type": "code",
   "execution_count": 88,
   "metadata": {},
   "outputs": [
    {
     "data": {
      "text/plain": [
       "'ABCD'"
      ]
     },
     "execution_count": 88,
     "metadata": {},
     "output_type": "execute_result"
    }
   ],
   "source": [
    "x()"
   ]
  },
  {
   "cell_type": "raw",
   "metadata": {},
   "source": [
    "# Person should be a named tuple, with \"first\" and \"last\" attributes\n",
    "\n",
    "gl = GuestList()\n",
    "\n",
    "gl.assign(Person('Waylon', 'Dalton'), 1)\n",
    "gl.assign(Person('Justine', 'Henderson'), 1)\n",
    "gl.assign(Person('Abdullah', 'Lang'), 3)\n",
    "gl.assign(Person('Marcus', 'Cruz'), 1)\n",
    "gl.assign(Person('Thalia', 'Cobb'), 2)\n",
    "gl.assign(Person('Mathias', 'Little'), 2)\n",
    "gl.assign(Person('Eddie', 'Randolph'), None)\n",
    "gl.assign(Person('Angela', 'Walker'), 2)\n",
    "gl.assign(Person('Lia', 'Shelton'), 3)\n",
    "gl.assign(Person('Hadassah', 'Hartman'), None)\n",
    "gl.assign(Person('Joanna', 'Shaffer'), 3)\n",
    "gl.assign(Person('Jonathon', 'Sheppard'), 2)\n",
    "\n",
    "\n",
    "(1) How many guests are there, total?  We should be able to run\n",
    "\n",
    "    len(gl)\n",
    "\n",
    "to get an integer back.\n",
    "\n",
    "(2) What guests are at a given table?  We should be able to run\n",
    "\n",
    "    gl.table(2)\n",
    "\n",
    "and get a list of Person objects back.\n",
    "\n",
    "(3) What guests aren't assigned to any table?  We should be able to run\n",
    "\n",
    "    gl.unassigned()\n",
    "\n",
    "and get a list of Person objects back.\n",
    "\n",
    "(4) Given a Person object, we should be able to assign them to a table:\n",
    "\n",
    "    p = Person('Joanna', 'Shaffer')\n",
    "    gl.assign(p, 3)\n",
    "\n",
    "If the person is already in the system, but is assigned to another table (or to no table at all), then they will now be assigned to a new table.\n",
    "\n",
    "If the person isn't already in the system, then they will be added and then assigned to a table.\n",
    "\n",
    "If there is no room at the table (i.e., there are already 10 guests there), then we should raise a TableFull exception.\n",
    "\n",
    "(5) We should also be able to learn how much space is avaialble at each table:\n",
    "\n",
    "    gl.free_space()\n",
    "\n",
    "The above should return a dictionary of table names (keys) and remaining space (values) for each table.\n",
    "\n",
    "(6) We should be able to say\n",
    "\n",
    "    gl.guests()\n",
    "\n",
    "and get a list of all guests, sorted first by table number, then by last name, and finally by first name.\n",
    "\n",
    "(7) Finally, we should be able to say\n",
    "\n",
    "    print(gl)\n",
    "\n",
    "and get the above list printed nicely.  I'm thinking something like:\n",
    "\n",
    "    2\n",
    "        last, first\n",
    "        last, first\n",
    "    3\n",
    "        last, first\n",
    "        last, first\n",
    "    4\n",
    "        last, first\n",
    "        last, first\n",
    "        last, first\n",
    "    \n"
   ]
  },
  {
   "cell_type": "code",
   "execution_count": 89,
   "metadata": {},
   "outputs": [],
   "source": [
    "# learning goals\n",
    "# - working with a class\n",
    "# - some magic methods -- __method__\n",
    "#    particularly, you'll need __len__ and __repr__\n",
    "# - sorting by more than one item (look at operator.itemgetter +\n",
    "#    the sorted builtin function)"
   ]
  },
  {
   "cell_type": "code",
   "execution_count": 90,
   "metadata": {},
   "outputs": [],
   "source": [
    "from collections import namedtuple\n",
    "\n",
    "Person = namedtuple('Person', ['first', 'last'])"
   ]
  },
  {
   "cell_type": "code",
   "execution_count": 91,
   "metadata": {},
   "outputs": [
    {
     "data": {
      "text/plain": [
       "type"
      ]
     },
     "execution_count": 91,
     "metadata": {},
     "output_type": "execute_result"
    }
   ],
   "source": [
    "type(Person)"
   ]
  },
  {
   "cell_type": "code",
   "execution_count": 92,
   "metadata": {},
   "outputs": [
    {
     "data": {
      "text/plain": [
       "(tuple,)"
      ]
     },
     "execution_count": 92,
     "metadata": {},
     "output_type": "execute_result"
    }
   ],
   "source": [
    "Person.__bases__"
   ]
  },
  {
   "cell_type": "code",
   "execution_count": null,
   "metadata": {},
   "outputs": [],
   "source": []
  },
  {
   "cell_type": "code",
   "execution_count": 123,
   "metadata": {},
   "outputs": [],
   "source": [
    "from collections import namedtuple\n",
    "from operator import itemgetter\n",
    "Person = namedtuple('Person', ['first', 'last'])\n",
    "\n",
    "class TableFull(Exception):\n",
    "    pass\n",
    "class InvalidTable(Exception):\n",
    "    pass\n",
    "\n",
    "class GuestList:\n",
    "    def __init__(self):\n",
    "        self.guestlist = []  # list of tuples -- person,table#\n",
    "        self.tables = [1, 2, 3, 4, 5]\n",
    "        self.maxtablesize = 10\n",
    "\n",
    "    def __len__(self):\n",
    "        return len(self.guestlist)\n",
    "    \n",
    "    def __repr__(self):\n",
    "        output = \"\"\n",
    "        for table in self.tables:\n",
    "            output += f\"Table {table}\\n\"\n",
    "            output += ''.join([f\"\\t{x[0].last}, {x[0].first}\\n\" for x in self.guestlist if x[1] == table])\n",
    "        return output\n",
    "    \n",
    "    def guests(self):\n",
    "        full_list = [(x[1], x[0].last, x[0].first) \n",
    "                     for x in self.guestlist]\n",
    "        return sorted(full_list, \n",
    "                      key=lambda t: (t[1], t[0].last, t[0].first))\n",
    "    \n",
    "    def assign(self, p, tablenumber=None):\n",
    "        guestlist = self.guestlist\n",
    "        # Check table number is valid\n",
    "        self.checktablevalid(tablenumber)\n",
    "        # check for space at the table:\n",
    "        if self.tableused(tablenumber) < self.maxtablesize:\n",
    "            for x in guestlist:\n",
    "                if x[0] == p:\n",
    "                    guestlist.remove(x)\n",
    "\n",
    "            # Then append the guest to the guestlist\n",
    "            guestlist.append((p, tablenumber))\n",
    "        else:\n",
    "            raise TableFull(f\"Table {tablenumber} already has {self.maxtablesize} guests assigned\")\n",
    "            \n",
    "    def table(self, tablenumber):\n",
    "        return [x[0]                       # SELECT\n",
    "                for x in self.guestlist    # FROM\n",
    "                if x[1] == tablenumber]    # WHERE\n",
    "    \n",
    "    def unassigned(self):\n",
    "        return self.table(None)\n",
    "    \n",
    "    def tableused(self, tablenumber):\n",
    "        # If someones asking about table \"None\", just give them a zero back\n",
    "        if tablenumber is None:\n",
    "            return 0\n",
    "        # Grab a list of table numbers only from our complete guest list,\n",
    "        # and count the number of instances of \"tablenumber\"\n",
    "        return [x[1] for x in self.guestlist].count(tablenumber)\n",
    "    \n",
    "    def free_space(self):\n",
    "        output = \"\"\n",
    "        for table in self.tables:\n",
    "            freespace = self.maxtablesize - self.tableused(table)\n",
    "            output += f\"Table {table} - {freespace} spaces free\\n\"\n",
    "        return output\n",
    "    \n",
    "    def checktablevalid(self, tablenumber):\n",
    "        if ((tablenumber is not None) and (tablenumber not in self.tables)):\n",
    "            raise InvalidTable(f\"Table number {tablenumber} does not exist\")\n"
   ]
  },
  {
   "cell_type": "code",
   "execution_count": 124,
   "metadata": {},
   "outputs": [],
   "source": [
    "gl = GuestList()\n",
    "\n",
    "gl.assign(Person('Waylon', 'Dalton'), 1)\n",
    "gl.assign(Person('Justine', 'Henderson'), 1)\n",
    "gl.assign(Person('Abdullah', 'Lang'), 3)\n",
    "gl.assign(Person('Marcus', 'Cruz'), 1)\n",
    "gl.assign(Person('Thalia', 'Cobb'), 2)\n",
    "gl.assign(Person('Mathias', 'Little'), 2)\n",
    "gl.assign(Person('Eddie', 'Randolph'), None)\n",
    "gl.assign(Person('Angela', 'Walker'), 2)\n",
    "gl.assign(Person('Lia', 'Shelton'), 3)\n",
    "gl.assign(Person('Hadassah', 'Hartman'), None)\n",
    "gl.assign(Person('Joanna', 'Shaffer'), 3)\n",
    "gl.assign(Person('Jonathon', 'Sheppard'), 2)\n"
   ]
  },
  {
   "cell_type": "code",
   "execution_count": 125,
   "metadata": {},
   "outputs": [
    {
     "ename": "AttributeError",
     "evalue": "'int' object has no attribute 'last'",
     "output_type": "error",
     "traceback": [
      "\u001b[0;31m---------------------------------------------------------------------------\u001b[0m",
      "\u001b[0;31mAttributeError\u001b[0m                            Traceback (most recent call last)",
      "\u001b[0;32m<ipython-input-125-f0c9e9964935>\u001b[0m in \u001b[0;36m<module>\u001b[0;34m\u001b[0m\n\u001b[0;32m----> 1\u001b[0;31m \u001b[0mgl\u001b[0m\u001b[0;34m.\u001b[0m\u001b[0mguests\u001b[0m\u001b[0;34m(\u001b[0m\u001b[0;34m)\u001b[0m\u001b[0;34m\u001b[0m\u001b[0;34m\u001b[0m\u001b[0m\n\u001b[0m",
      "\u001b[0;32m<ipython-input-123-a41dd5cece2e>\u001b[0m in \u001b[0;36mguests\u001b[0;34m(self)\u001b[0m\n\u001b[1;32m     28\u001b[0m                      for x in self.guestlist]\n\u001b[1;32m     29\u001b[0m         return sorted(full_list, \n\u001b[0;32m---> 30\u001b[0;31m                       key=lambda t: (t[1], t[0].last, t[0].first))\n\u001b[0m\u001b[1;32m     31\u001b[0m \u001b[0;34m\u001b[0m\u001b[0m\n\u001b[1;32m     32\u001b[0m     \u001b[0;32mdef\u001b[0m \u001b[0massign\u001b[0m\u001b[0;34m(\u001b[0m\u001b[0mself\u001b[0m\u001b[0;34m,\u001b[0m \u001b[0mp\u001b[0m\u001b[0;34m,\u001b[0m \u001b[0mtablenumber\u001b[0m\u001b[0;34m=\u001b[0m\u001b[0;32mNone\u001b[0m\u001b[0;34m)\u001b[0m\u001b[0;34m:\u001b[0m\u001b[0;34m\u001b[0m\u001b[0;34m\u001b[0m\u001b[0m\n",
      "\u001b[0;32m<ipython-input-123-a41dd5cece2e>\u001b[0m in \u001b[0;36m<lambda>\u001b[0;34m(t)\u001b[0m\n\u001b[1;32m     28\u001b[0m                      for x in self.guestlist]\n\u001b[1;32m     29\u001b[0m         return sorted(full_list, \n\u001b[0;32m---> 30\u001b[0;31m                       key=lambda t: (t[1], t[0].last, t[0].first))\n\u001b[0m\u001b[1;32m     31\u001b[0m \u001b[0;34m\u001b[0m\u001b[0m\n\u001b[1;32m     32\u001b[0m     \u001b[0;32mdef\u001b[0m \u001b[0massign\u001b[0m\u001b[0;34m(\u001b[0m\u001b[0mself\u001b[0m\u001b[0;34m,\u001b[0m \u001b[0mp\u001b[0m\u001b[0;34m,\u001b[0m \u001b[0mtablenumber\u001b[0m\u001b[0;34m=\u001b[0m\u001b[0;32mNone\u001b[0m\u001b[0;34m)\u001b[0m\u001b[0;34m:\u001b[0m\u001b[0;34m\u001b[0m\u001b[0;34m\u001b[0m\u001b[0m\n",
      "\u001b[0;31mAttributeError\u001b[0m: 'int' object has no attribute 'last'"
     ]
    }
   ],
   "source": [
    "gl.guests()"
   ]
  },
  {
   "cell_type": "code",
   "execution_count": 101,
   "metadata": {
    "scrolled": true
   },
   "outputs": [
    {
     "name": "stdout",
     "output_type": "stream",
     "text": [
      "Table 1\n",
      "\tDalton, Waylon\n",
      "\tHenderson, Justine\n",
      "\tCruz, Marcus\n",
      "Table 2\n",
      "\tCobb, Thalia\n",
      "\tLittle, Mathias\n",
      "\tWalker, Angela\n",
      "\tSheppard, Jonathon\n",
      "Table 3\n",
      "\tLang, Abdullah\n",
      "\tShelton, Lia\n",
      "\tShaffer, Joanna\n",
      "Table 4\n",
      "Table 5\n",
      "\n"
     ]
    }
   ],
   "source": [
    "print(gl)"
   ]
  },
  {
   "cell_type": "code",
   "execution_count": 104,
   "metadata": {},
   "outputs": [
    {
     "name": "stdout",
     "output_type": "stream",
     "text": [
      "Table 1 - 7 spaces free\n",
      "Table 2 - 6 spaces free\n",
      "Table 3 - 7 spaces free\n",
      "Table 4 - 10 spaces free\n",
      "Table 5 - 10 spaces free\n",
      "\n"
     ]
    }
   ],
   "source": [
    "print(gl.free_space())"
   ]
  },
  {
   "cell_type": "code",
   "execution_count": null,
   "metadata": {},
   "outputs": [],
   "source": []
  },
  {
   "cell_type": "code",
   "execution_count": 93,
   "metadata": {},
   "outputs": [
    {
     "name": "stdout",
     "output_type": "stream",
     "text": [
      "x = abcd, y = [10, 20, 30], z = {'a': 1, 'b': 2}\n"
     ]
    }
   ],
   "source": [
    "x = 'abcd'\n",
    "y = [10, 20, 30]\n",
    "z = {'a':1, 'b':2}\n",
    "\n",
    "s = 'x = {0}, y = {1}, z = {2}'.format(x, y,z)\n",
    "print(s)"
   ]
  },
  {
   "cell_type": "code",
   "execution_count": 94,
   "metadata": {},
   "outputs": [
    {
     "name": "stdout",
     "output_type": "stream",
     "text": [
      "x = abcd, y = [10, 20, 30], z = {'a': 1, 'b': 2}\n"
     ]
    }
   ],
   "source": [
    "s = f'x = {x}, y = {y}, z = {z}'\n",
    "print(s)"
   ]
  },
  {
   "cell_type": "code",
   "execution_count": 95,
   "metadata": {},
   "outputs": [
    {
     "name": "stdout",
     "output_type": "stream",
     "text": [
      "x = abcd, x*2 = abcdabcd, y = [10, 20, 30], z = {'a': 1, 'b': 2}\n"
     ]
    }
   ],
   "source": [
    "s = f'x = {x}, x*2 = {x*2}, y = {y}, z = {z}'\n",
    "print(s)"
   ]
  },
  {
   "cell_type": "code",
   "execution_count": 96,
   "metadata": {},
   "outputs": [
    {
     "ename": "SyntaxError",
     "evalue": "invalid syntax (<fstring>, line 1)",
     "output_type": "error",
     "traceback": [
      "\u001b[0;36m  File \u001b[0;32m\"<fstring>\"\u001b[0;36m, line \u001b[0;32m1\u001b[0m\n\u001b[0;31m    (x=)\u001b[0m\n\u001b[0m      ^\u001b[0m\n\u001b[0;31mSyntaxError\u001b[0m\u001b[0;31m:\u001b[0m invalid syntax\n"
     ]
    }
   ],
   "source": [
    "# in 3.8, you can say:\n",
    "s = f'{x=}, {y=}, {z=}'\n",
    "print(s)"
   ]
  },
  {
   "cell_type": "code",
   "execution_count": 97,
   "metadata": {},
   "outputs": [
    {
     "data": {
      "text/plain": [
       "5"
      ]
     },
     "execution_count": 97,
     "metadata": {},
     "output_type": "execute_result"
    }
   ],
   "source": [
    "# .count method is on strings, lists, and tuples\n",
    "# it says: how many times does something appear?\n",
    "\n",
    "s = 'abcaaabcda'\n",
    "s.count('a')"
   ]
  },
  {
   "cell_type": "code",
   "execution_count": 105,
   "metadata": {},
   "outputs": [
    {
     "data": {
      "text/plain": [
       "True"
      ]
     },
     "execution_count": 105,
     "metadata": {},
     "output_type": "execute_result"
    }
   ],
   "source": [
    "1 < 5"
   ]
  },
  {
   "cell_type": "code",
   "execution_count": 106,
   "metadata": {},
   "outputs": [
    {
     "data": {
      "text/plain": [
       "True"
      ]
     },
     "execution_count": 106,
     "metadata": {},
     "output_type": "execute_result"
    }
   ],
   "source": [
    "10 < 20"
   ]
  },
  {
   "cell_type": "code",
   "execution_count": 107,
   "metadata": {},
   "outputs": [
    {
     "ename": "TypeError",
     "evalue": "'<' not supported between instances of 'str' and 'int'",
     "output_type": "error",
     "traceback": [
      "\u001b[0;31m---------------------------------------------------------------------------\u001b[0m",
      "\u001b[0;31mTypeError\u001b[0m                                 Traceback (most recent call last)",
      "\u001b[0;32m<ipython-input-107-a838a411a9f4>\u001b[0m in \u001b[0;36m<module>\u001b[0;34m\u001b[0m\n\u001b[0;32m----> 1\u001b[0;31m \u001b[0;34m'1'\u001b[0m \u001b[0;34m<\u001b[0m \u001b[0;36m10\u001b[0m\u001b[0;34m\u001b[0m\u001b[0;34m\u001b[0m\u001b[0m\n\u001b[0m",
      "\u001b[0;31mTypeError\u001b[0m: '<' not supported between instances of 'str' and 'int'"
     ]
    }
   ],
   "source": [
    "'1' < 10"
   ]
  },
  {
   "cell_type": "code",
   "execution_count": 108,
   "metadata": {},
   "outputs": [
    {
     "ename": "TypeError",
     "evalue": "'<' not supported between instances of 'NoneType' and 'int'",
     "output_type": "error",
     "traceback": [
      "\u001b[0;31m---------------------------------------------------------------------------\u001b[0m",
      "\u001b[0;31mTypeError\u001b[0m                                 Traceback (most recent call last)",
      "\u001b[0;32m<ipython-input-108-231bbf4ed723>\u001b[0m in \u001b[0;36m<module>\u001b[0;34m\u001b[0m\n\u001b[0;32m----> 1\u001b[0;31m \u001b[0;32mNone\u001b[0m \u001b[0;34m<\u001b[0m \u001b[0;36m5\u001b[0m\u001b[0;34m\u001b[0m\u001b[0;34m\u001b[0m\u001b[0m\n\u001b[0m",
      "\u001b[0;31mTypeError\u001b[0m: '<' not supported between instances of 'NoneType' and 'int'"
     ]
    }
   ],
   "source": [
    "None < 5"
   ]
  },
  {
   "cell_type": "code",
   "execution_count": 109,
   "metadata": {},
   "outputs": [],
   "source": [
    "import operator\n",
    "get3 = operator.itemgetter(3) # returns a function that runs [3]"
   ]
  },
  {
   "cell_type": "code",
   "execution_count": 110,
   "metadata": {},
   "outputs": [
    {
     "data": {
      "text/plain": [
       "'abcaaabcda'"
      ]
     },
     "execution_count": 110,
     "metadata": {},
     "output_type": "execute_result"
    }
   ],
   "source": [
    "s"
   ]
  },
  {
   "cell_type": "code",
   "execution_count": 111,
   "metadata": {},
   "outputs": [
    {
     "data": {
      "text/plain": [
       "'a'"
      ]
     },
     "execution_count": 111,
     "metadata": {},
     "output_type": "execute_result"
    }
   ],
   "source": [
    "get3(s)  # just like s[3]"
   ]
  },
  {
   "cell_type": "code",
   "execution_count": 113,
   "metadata": {},
   "outputs": [],
   "source": [
    "import random\n",
    "\n",
    "output = []\n",
    "for j in range(3):\n",
    "  output.append([random.randint(0, 10)\n",
    " for i in range(4)])"
   ]
  },
  {
   "cell_type": "code",
   "execution_count": 114,
   "metadata": {},
   "outputs": [
    {
     "data": {
      "text/plain": [
       "[[7, 2, 9, 0], [3, 3, 5, 1], [2, 9, 8, 7]]"
      ]
     },
     "execution_count": 114,
     "metadata": {},
     "output_type": "execute_result"
    }
   ],
   "source": [
    "output"
   ]
  },
  {
   "cell_type": "code",
   "execution_count": 115,
   "metadata": {},
   "outputs": [
    {
     "data": {
      "text/plain": [
       "[[2, 9, 8, 7], [3, 3, 5, 1], [7, 2, 9, 0]]"
      ]
     },
     "execution_count": 115,
     "metadata": {},
     "output_type": "execute_result"
    }
   ],
   "source": [
    "sorted(output)"
   ]
  },
  {
   "cell_type": "code",
   "execution_count": 116,
   "metadata": {},
   "outputs": [],
   "source": [
    "# I want to sort by index 3 then index 1 then index 2\n",
    "by_3_1_2 = operator.itemgetter(3,1,2)"
   ]
  },
  {
   "cell_type": "code",
   "execution_count": 117,
   "metadata": {},
   "outputs": [
    {
     "data": {
      "text/plain": [
       "[[7, 2, 9, 0], [3, 3, 5, 1], [2, 9, 8, 7]]"
      ]
     },
     "execution_count": 117,
     "metadata": {},
     "output_type": "execute_result"
    }
   ],
   "source": [
    "sorted(output, key=by_3_1_2)"
   ]
  },
  {
   "cell_type": "code",
   "execution_count": null,
   "metadata": {},
   "outputs": [],
   "source": []
  }
 ],
 "metadata": {
  "kernelspec": {
   "display_name": "Python 3",
   "language": "python",
   "name": "python3"
  },
  "language_info": {
   "codemirror_mode": {
    "name": "ipython",
    "version": 3
   },
   "file_extension": ".py",
   "mimetype": "text/x-python",
   "name": "python",
   "nbconvert_exporter": "python",
   "pygments_lexer": "ipython3",
   "version": "3.7.6"
  }
 },
 "nbformat": 4,
 "nbformat_minor": 2
}
