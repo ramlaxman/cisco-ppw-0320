{
 "cells": [
  {
   "cell_type": "code",
   "execution_count": 1,
   "metadata": {
    "collapsed": true
   },
   "outputs": [
    {
     "name": "stdout",
     "output_type": "stream",
     "text": [
      "##\n",
      "\n",
      "# User Database\n",
      "\n",
      "# \n",
      "\n",
      "# Note that this file is consulted directly only when the system is running\n",
      "\n",
      "# in single-user mode.  At other times this information is provided by\n",
      "\n",
      "# Open Directory.\n",
      "\n",
      "#\n",
      "\n",
      "# See the opendirectoryd(8) man page for additional information about\n",
      "\n",
      "# Open Directory.\n",
      "\n",
      "##\n",
      "\n",
      "nobody:*:-2:-2:Unprivileged User:/var/empty:/usr/bin/false\n",
      "\n",
      "root:*:0:0:System Administrator:/var/root:/bin/sh\n",
      "\n",
      "daemon:*:1:1:System Services:/var/root:/usr/bin/false\n",
      "\n",
      "_uucp:*:4:4:Unix to Unix Copy Protocol:/var/spool/uucp:/usr/sbin/uucico\n",
      "\n",
      "_taskgated:*:13:13:Task Gate Daemon:/var/empty:/usr/bin/false\n",
      "\n",
      "_networkd:*:24:24:Network Services:/var/networkd:/usr/bin/false\n",
      "\n",
      "_installassistant:*:25:25:Install Assistant:/var/empty:/usr/bin/false\n",
      "\n",
      "_lp:*:26:26:Printing Services:/var/spool/cups:/usr/bin/false\n",
      "\n",
      "_postfix:*:27:27:Postfix Mail Server:/var/spool/postfix:/usr/bin/false\n",
      "\n",
      "_scsd:*:31:31:Service Configuration Service:/var/empty:/usr/bin/false\n",
      "\n",
      "_ces:*:32:32:Certificate Enrollment Service:/var/empty:/usr/bin/false\n",
      "\n",
      "_appstore:*:33:33:Mac App Store Service:/var/db/appstore:/usr/bin/false\n",
      "\n",
      "_mcxalr:*:54:54:MCX AppLaunch:/var/empty:/usr/bin/false\n",
      "\n",
      "_appleevents:*:55:55:AppleEvents Daemon:/var/empty:/usr/bin/false\n",
      "\n",
      "_geod:*:56:56:Geo Services Daemon:/var/db/geod:/usr/bin/false\n",
      "\n",
      "_devdocs:*:59:59:Developer Documentation:/var/empty:/usr/bin/false\n",
      "\n",
      "_sandbox:*:60:60:Seatbelt:/var/empty:/usr/bin/false\n",
      "\n",
      "_mdnsresponder:*:65:65:mDNSResponder:/var/empty:/usr/bin/false\n",
      "\n",
      "_ard:*:67:67:Apple Remote Desktop:/var/empty:/usr/bin/false\n",
      "\n",
      "_www:*:70:70:World Wide Web Server:/Library/WebServer:/usr/bin/false\n",
      "\n",
      "_eppc:*:71:71:Apple Events User:/var/empty:/usr/bin/false\n",
      "\n",
      "_cvs:*:72:72:CVS Server:/var/empty:/usr/bin/false\n",
      "\n",
      "_svn:*:73:73:SVN Server:/var/empty:/usr/bin/false\n",
      "\n",
      "_mysql:*:74:74:MySQL Server:/var/empty:/usr/bin/false\n",
      "\n",
      "_sshd:*:75:75:sshd Privilege separation:/var/empty:/usr/bin/false\n",
      "\n",
      "_qtss:*:76:76:QuickTime Streaming Server:/var/empty:/usr/bin/false\n",
      "\n",
      "_cyrus:*:77:6:Cyrus Administrator:/var/imap:/usr/bin/false\n",
      "\n",
      "_mailman:*:78:78:Mailman List Server:/var/empty:/usr/bin/false\n",
      "\n",
      "_appserver:*:79:79:Application Server:/var/empty:/usr/bin/false\n",
      "\n",
      "_clamav:*:82:82:ClamAV Daemon:/var/virusmails:/usr/bin/false\n",
      "\n",
      "_amavisd:*:83:83:AMaViS Daemon:/var/virusmails:/usr/bin/false\n",
      "\n",
      "_jabber:*:84:84:Jabber XMPP Server:/var/empty:/usr/bin/false\n",
      "\n",
      "_appowner:*:87:87:Application Owner:/var/empty:/usr/bin/false\n",
      "\n",
      "_windowserver:*:88:88:WindowServer:/var/empty:/usr/bin/false\n",
      "\n",
      "_spotlight:*:89:89:Spotlight:/var/empty:/usr/bin/false\n",
      "\n",
      "_tokend:*:91:91:Token Daemon:/var/empty:/usr/bin/false\n",
      "\n",
      "_securityagent:*:92:92:SecurityAgent:/var/db/securityagent:/usr/bin/false\n",
      "\n",
      "_calendar:*:93:93:Calendar:/var/empty:/usr/bin/false\n",
      "\n",
      "_teamsserver:*:94:94:TeamsServer:/var/teamsserver:/usr/bin/false\n",
      "\n",
      "_update_sharing:*:95:-2:Update Sharing:/var/empty:/usr/bin/false\n",
      "\n",
      "_installer:*:96:-2:Installer:/var/empty:/usr/bin/false\n",
      "\n",
      "_atsserver:*:97:97:ATS Server:/var/empty:/usr/bin/false\n",
      "\n",
      "_ftp:*:98:-2:FTP Daemon:/var/empty:/usr/bin/false\n",
      "\n",
      "_unknown:*:99:99:Unknown User:/var/empty:/usr/bin/false\n",
      "\n",
      "_softwareupdate:*:200:200:Software Update Service:/var/db/softwareupdate:/usr/bin/false\n",
      "\n",
      "_coreaudiod:*:202:202:Core Audio Daemon:/var/empty:/usr/bin/false\n",
      "\n",
      "_screensaver:*:203:203:Screensaver:/var/empty:/usr/bin/false\n",
      "\n",
      "_locationd:*:205:205:Location Daemon:/var/db/locationd:/usr/bin/false\n",
      "\n",
      "_trustevaluationagent:*:208:208:Trust Evaluation Agent:/var/empty:/usr/bin/false\n",
      "\n",
      "_timezone:*:210:210:AutoTimeZoneDaemon:/var/empty:/usr/bin/false\n",
      "\n",
      "_lda:*:211:211:Local Delivery Agent:/var/empty:/usr/bin/false\n",
      "\n",
      "_cvmsroot:*:212:212:CVMS Root:/var/empty:/usr/bin/false\n",
      "\n",
      "_usbmuxd:*:213:213:iPhone OS Device Helper:/var/db/lockdown:/usr/bin/false\n",
      "\n",
      "_dovecot:*:214:6:Dovecot Administrator:/var/empty:/usr/bin/false\n",
      "\n",
      "_dpaudio:*:215:215:DP Audio:/var/empty:/usr/bin/false\n",
      "\n",
      "_postgres:*:216:216:PostgreSQL Server:/var/empty:/usr/bin/false\n",
      "\n",
      "_krbtgt:*:217:-2:Kerberos Ticket Granting Ticket:/var/empty:/usr/bin/false\n",
      "\n",
      "_kadmin_admin:*:218:-2:Kerberos Admin Service:/var/empty:/usr/bin/false\n",
      "\n",
      "_kadmin_changepw:*:219:-2:Kerberos Change Password Service:/var/empty:/usr/bin/false\n",
      "\n",
      "_devicemgr:*:220:220:Device Management Server:/var/empty:/usr/bin/false\n",
      "\n",
      "_webauthserver:*:221:221:Web Auth Server:/var/empty:/usr/bin/false\n",
      "\n",
      "_netbios:*:222:222:NetBIOS:/var/empty:/usr/bin/false\n",
      "\n",
      "_warmd:*:224:224:Warm Daemon:/var/empty:/usr/bin/false\n",
      "\n",
      "_dovenull:*:227:227:Dovecot Authentication:/var/empty:/usr/bin/false\n",
      "\n",
      "_netstatistics:*:228:228:Network Statistics Daemon:/var/empty:/usr/bin/false\n",
      "\n",
      "_avbdeviced:*:229:-2:Ethernet AVB Device Daemon:/var/empty:/usr/bin/false\n",
      "\n",
      "_krb_krbtgt:*:230:-2:Open Directory Kerberos Ticket Granting Ticket:/var/empty:/usr/bin/false\n",
      "\n",
      "_krb_kadmin:*:231:-2:Open Directory Kerberos Admin Service:/var/empty:/usr/bin/false\n",
      "\n",
      "_krb_changepw:*:232:-2:Open Directory Kerberos Change Password Service:/var/empty:/usr/bin/false\n",
      "\n",
      "_krb_kerberos:*:233:-2:Open Directory Kerberos:/var/empty:/usr/bin/false\n",
      "\n",
      "_krb_anonymous:*:234:-2:Open Directory Kerberos Anonymous:/var/empty:/usr/bin/false\n",
      "\n",
      "_assetcache:*:235:235:Asset Cache Service:/var/empty:/usr/bin/false\n",
      "\n",
      "_coremediaiod:*:236:236:Core Media IO Daemon:/var/empty:/usr/bin/false\n",
      "\n",
      "_launchservicesd:*:239:239:_launchservicesd:/var/empty:/usr/bin/false\n",
      "\n",
      "_iconservices:*:240:240:IconServices:/var/empty:/usr/bin/false\n",
      "\n",
      "_distnote:*:241:241:DistNote:/var/empty:/usr/bin/false\n",
      "\n",
      "_nsurlsessiond:*:242:242:NSURLSession Daemon:/var/db/nsurlsessiond:/usr/bin/false\n",
      "\n",
      "_nsurlstoraged:*:243:243:NSURLStorage Daemon:/var/db/nsurlstoraged:/usr/bin/false\n",
      "\n",
      "_displaypolicyd:*:244:244:Display Policy Daemon:/var/empty:/usr/bin/false\n",
      "\n",
      "_astris:*:245:245:Astris Services:/var/db/astris:/usr/bin/false\n",
      "\n",
      "_krbfast:*:246:-2:Kerberos FAST Account:/var/empty:/usr/bin/false\n",
      "\n",
      "_gamecontrollerd:*:247:247:Game Controller Daemon:/var/empty:/usr/bin/false\n",
      "\n",
      "_mbsetupuser:*:248:248:Setup User:/var/setup:/bin/bash\n",
      "\n",
      "_ondemand:*:249:249:On Demand Resource Daemon:/var/db/ondemand:/usr/bin/false\n",
      "\n",
      "_xserverdocs:*:251:251:macOS Server Documents Service:/var/empty:/usr/bin/false\n",
      "\n",
      "_wwwproxy:*:252:252:WWW Proxy:/var/empty:/usr/bin/false\n",
      "\n",
      "_mobileasset:*:253:253:MobileAsset User:/var/ma:/usr/bin/false\n",
      "\n",
      "_findmydevice:*:254:254:Find My Device Daemon:/var/db/findmydevice:/usr/bin/false\n",
      "\n",
      "_datadetectors:*:257:257:DataDetectors:/var/db/datadetectors:/usr/bin/false\n",
      "\n",
      "_captiveagent:*:258:258:captiveagent:/var/empty:/usr/bin/false\n",
      "\n",
      "_ctkd:*:259:259:ctkd Account:/var/empty:/usr/bin/false\n",
      "\n",
      "_applepay:*:260:260:applepay Account:/var/db/applepay:/usr/bin/false\n",
      "\n",
      "_hidd:*:261:261:HID Service User:/var/db/hidd:/usr/bin/false\n",
      "\n",
      "_cmiodalassistants:*:262:262:CoreMedia IO Assistants User:/var/db/cmiodalassistants:/usr/bin/false\n",
      "\n",
      "_analyticsd:*:263:263:Analytics Daemon:/var/db/analyticsd:/usr/bin/false\n",
      "\n",
      "_fpsd:*:265:265:FPS Daemon:/var/db/fpsd:/usr/bin/false\n",
      "\n",
      "_timed:*:266:266:Time Sync Daemon:/var/db/timed:/usr/bin/false\n",
      "\n",
      "_nearbyd:*:268:268:Proximity and Ranging Daemon:/var/db/nearbyd:/usr/bin/false\n",
      "\n",
      "_reportmemoryexception:*:269:269:ReportMemoryException:/var/db/reportmemoryexception:/usr/bin/false\n",
      "\n",
      "_driverkit:*:270:270:DriverKit:/var/empty:/usr/bin/false\n",
      "\n"
     ]
    }
   ],
   "source": [
    "# file-like objects are iterable (can be put in a \"for\" loop)\n",
    "\n",
    "# you are to write a generator function called read_n\n",
    "# this function will take two arguments -- a filename and n\n",
    "#   (an integer)\n",
    "\n",
    "# with each iteration, it'll return n lines from the file\n",
    "# as a single string\n",
    "\n",
    "# the final iteration might contain fewer than n lines in \n",
    "# the returned string\n",
    "\n",
    "# goals:\n",
    "# - generator functions, writing and using\n",
    "#      yield vs. return\n",
    "# - somewhat comprehensions\n",
    "# - somewhat understanding file objects and how they work\n",
    "\n",
    "\n",
    "for one_line in read_n('/etc/passwd', 1):\n",
    "    print(one_line)\n",
    "    \n",
    "    \n",
    "for one_chunk in read_n('/etc/passwd', 5):\n",
    "    print(one_chunk)\n",
    " \n",
    "    \n"
   ]
  },
  {
   "cell_type": "code",
   "execution_count": null,
   "metadata": {},
   "outputs": [],
   "source": [
    "for one_line in read_n('/etc/passwd', 1):\n",
    "    print(one_line)\n",
    "    \n",
    "    \n"
   ]
  },
  {
   "cell_type": "code",
   "execution_count": null,
   "metadata": {},
   "outputs": [],
   "source": [
    "for ITEM in THING:\n",
    "    stuff"
   ]
  },
  {
   "cell_type": "code",
   "execution_count": 2,
   "metadata": {},
   "outputs": [
    {
     "name": "stdout",
     "output_type": "stream",
     "text": [
      "a\n",
      "b\n",
      "c\n",
      "d\n"
     ]
    }
   ],
   "source": [
    "for one_item in 'abcd':\n",
    "    print(one_item)"
   ]
  },
  {
   "cell_type": "code",
   "execution_count": 3,
   "metadata": {},
   "outputs": [
    {
     "data": {
      "text/plain": [
       "<str_iterator at 0x112887c10>"
      ]
     },
     "execution_count": 3,
     "metadata": {},
     "output_type": "execute_result"
    }
   ],
   "source": [
    "iter('abcd')"
   ]
  },
  {
   "cell_type": "code",
   "execution_count": 4,
   "metadata": {},
   "outputs": [
    {
     "ename": "TypeError",
     "evalue": "'int' object is not iterable",
     "output_type": "error",
     "traceback": [
      "\u001b[0;31m---------------------------------------------------------------------------\u001b[0m",
      "\u001b[0;31mTypeError\u001b[0m                                 Traceback (most recent call last)",
      "\u001b[0;32m<ipython-input-4-879406f09381>\u001b[0m in \u001b[0;36m<module>\u001b[0;34m\u001b[0m\n\u001b[0;32m----> 1\u001b[0;31m \u001b[0;32mfor\u001b[0m \u001b[0mone_item\u001b[0m \u001b[0;32min\u001b[0m \u001b[0;36m6\u001b[0m\u001b[0;34m:\u001b[0m\u001b[0;34m\u001b[0m\u001b[0;34m\u001b[0m\u001b[0m\n\u001b[0m\u001b[1;32m      2\u001b[0m     \u001b[0mprint\u001b[0m\u001b[0;34m(\u001b[0m\u001b[0mone_item\u001b[0m\u001b[0;34m)\u001b[0m\u001b[0;34m\u001b[0m\u001b[0;34m\u001b[0m\u001b[0m\n",
      "\u001b[0;31mTypeError\u001b[0m: 'int' object is not iterable"
     ]
    }
   ],
   "source": [
    "for one_item in 6:\n",
    "    print(one_item)"
   ]
  },
  {
   "cell_type": "code",
   "execution_count": 5,
   "metadata": {},
   "outputs": [
    {
     "ename": "TypeError",
     "evalue": "'int' object is not iterable",
     "output_type": "error",
     "traceback": [
      "\u001b[0;31m---------------------------------------------------------------------------\u001b[0m",
      "\u001b[0;31mTypeError\u001b[0m                                 Traceback (most recent call last)",
      "\u001b[0;32m<ipython-input-5-11801154f355>\u001b[0m in \u001b[0;36m<module>\u001b[0;34m\u001b[0m\n\u001b[0;32m----> 1\u001b[0;31m \u001b[0miter\u001b[0m\u001b[0;34m(\u001b[0m\u001b[0;36m6\u001b[0m\u001b[0;34m)\u001b[0m\u001b[0;34m\u001b[0m\u001b[0;34m\u001b[0m\u001b[0m\n\u001b[0m",
      "\u001b[0;31mTypeError\u001b[0m: 'int' object is not iterable"
     ]
    }
   ],
   "source": [
    "iter(6)"
   ]
  },
  {
   "cell_type": "code",
   "execution_count": 6,
   "metadata": {},
   "outputs": [],
   "source": [
    "i = iter('abcd')\n"
   ]
  },
  {
   "cell_type": "code",
   "execution_count": 7,
   "metadata": {},
   "outputs": [
    {
     "data": {
      "text/plain": [
       "'a'"
      ]
     },
     "execution_count": 7,
     "metadata": {},
     "output_type": "execute_result"
    }
   ],
   "source": [
    "next(i)"
   ]
  },
  {
   "cell_type": "code",
   "execution_count": 8,
   "metadata": {},
   "outputs": [
    {
     "data": {
      "text/plain": [
       "'b'"
      ]
     },
     "execution_count": 8,
     "metadata": {},
     "output_type": "execute_result"
    }
   ],
   "source": [
    "next(i)"
   ]
  },
  {
   "cell_type": "code",
   "execution_count": 9,
   "metadata": {},
   "outputs": [
    {
     "data": {
      "text/plain": [
       "'c'"
      ]
     },
     "execution_count": 9,
     "metadata": {},
     "output_type": "execute_result"
    }
   ],
   "source": [
    "next(i)"
   ]
  },
  {
   "cell_type": "code",
   "execution_count": 10,
   "metadata": {},
   "outputs": [
    {
     "data": {
      "text/plain": [
       "'d'"
      ]
     },
     "execution_count": 10,
     "metadata": {},
     "output_type": "execute_result"
    }
   ],
   "source": [
    "next(i)"
   ]
  },
  {
   "cell_type": "code",
   "execution_count": 11,
   "metadata": {},
   "outputs": [
    {
     "ename": "StopIteration",
     "evalue": "",
     "output_type": "error",
     "traceback": [
      "\u001b[0;31m---------------------------------------------------------------------------\u001b[0m",
      "\u001b[0;31mStopIteration\u001b[0m                             Traceback (most recent call last)",
      "\u001b[0;32m<ipython-input-11-a883b34d6d8a>\u001b[0m in \u001b[0;36m<module>\u001b[0;34m\u001b[0m\n\u001b[0;32m----> 1\u001b[0;31m \u001b[0mnext\u001b[0m\u001b[0;34m(\u001b[0m\u001b[0mi\u001b[0m\u001b[0;34m)\u001b[0m\u001b[0;34m\u001b[0m\u001b[0;34m\u001b[0m\u001b[0m\n\u001b[0m",
      "\u001b[0;31mStopIteration\u001b[0m: "
     ]
    }
   ],
   "source": [
    "next(i)"
   ]
  },
  {
   "cell_type": "code",
   "execution_count": 12,
   "metadata": {},
   "outputs": [],
   "source": [
    "def thing():  # generator function\n",
    "    yield 'a'\n",
    "    yield 'b'\n",
    "    yield 'c'\n",
    "    yield 'd'"
   ]
  },
  {
   "cell_type": "code",
   "execution_count": 14,
   "metadata": {},
   "outputs": [],
   "source": [
    "g = thing()"
   ]
  },
  {
   "cell_type": "code",
   "execution_count": 15,
   "metadata": {},
   "outputs": [
    {
     "data": {
      "text/plain": [
       "<generator object thing at 0x11292a4d0>"
      ]
     },
     "execution_count": 15,
     "metadata": {},
     "output_type": "execute_result"
    }
   ],
   "source": [
    "iter(g)"
   ]
  },
  {
   "cell_type": "code",
   "execution_count": 16,
   "metadata": {},
   "outputs": [
    {
     "data": {
      "text/plain": [
       "True"
      ]
     },
     "execution_count": 16,
     "metadata": {},
     "output_type": "execute_result"
    }
   ],
   "source": [
    "g == iter(g)"
   ]
  },
  {
   "cell_type": "code",
   "execution_count": 17,
   "metadata": {},
   "outputs": [
    {
     "data": {
      "text/plain": [
       "'a'"
      ]
     },
     "execution_count": 17,
     "metadata": {},
     "output_type": "execute_result"
    }
   ],
   "source": [
    "next(g)"
   ]
  },
  {
   "cell_type": "code",
   "execution_count": 18,
   "metadata": {},
   "outputs": [
    {
     "data": {
      "text/plain": [
       "'b'"
      ]
     },
     "execution_count": 18,
     "metadata": {},
     "output_type": "execute_result"
    }
   ],
   "source": [
    "next(g)"
   ]
  },
  {
   "cell_type": "code",
   "execution_count": 19,
   "metadata": {},
   "outputs": [
    {
     "data": {
      "text/plain": [
       "'c'"
      ]
     },
     "execution_count": 19,
     "metadata": {},
     "output_type": "execute_result"
    }
   ],
   "source": [
    "next(g)"
   ]
  },
  {
   "cell_type": "code",
   "execution_count": 20,
   "metadata": {},
   "outputs": [
    {
     "data": {
      "text/plain": [
       "'d'"
      ]
     },
     "execution_count": 20,
     "metadata": {},
     "output_type": "execute_result"
    }
   ],
   "source": [
    "next(g)"
   ]
  },
  {
   "cell_type": "code",
   "execution_count": 21,
   "metadata": {},
   "outputs": [
    {
     "ename": "StopIteration",
     "evalue": "",
     "output_type": "error",
     "traceback": [
      "\u001b[0;31m---------------------------------------------------------------------------\u001b[0m",
      "\u001b[0;31mStopIteration\u001b[0m                             Traceback (most recent call last)",
      "\u001b[0;32m<ipython-input-21-e734f8aca5ac>\u001b[0m in \u001b[0;36m<module>\u001b[0;34m\u001b[0m\n\u001b[0;32m----> 1\u001b[0;31m \u001b[0mnext\u001b[0m\u001b[0;34m(\u001b[0m\u001b[0mg\u001b[0m\u001b[0;34m)\u001b[0m\u001b[0;34m\u001b[0m\u001b[0;34m\u001b[0m\u001b[0m\n\u001b[0m",
      "\u001b[0;31mStopIteration\u001b[0m: "
     ]
    }
   ],
   "source": [
    "next(g)"
   ]
  },
  {
   "cell_type": "code",
   "execution_count": 22,
   "metadata": {},
   "outputs": [],
   "source": [
    "def loud_thing():  # generator function\n",
    "    print(\"Before yield a\")\n",
    "    yield 'a'\n",
    "    print(\"After a, before b\")\n",
    "    yield 'b'\n",
    "    print(\"After b, before c\")\n",
    "    yield 'c'\n",
    "    print(\"After c, before d\")\n",
    "    yield 'd'\n",
    "    print(\"After d\")"
   ]
  },
  {
   "cell_type": "code",
   "execution_count": 23,
   "metadata": {},
   "outputs": [],
   "source": [
    "g = loud_thing()"
   ]
  },
  {
   "cell_type": "code",
   "execution_count": 24,
   "metadata": {},
   "outputs": [
    {
     "name": "stdout",
     "output_type": "stream",
     "text": [
      "Before yield a\n"
     ]
    },
    {
     "data": {
      "text/plain": [
       "'a'"
      ]
     },
     "execution_count": 24,
     "metadata": {},
     "output_type": "execute_result"
    }
   ],
   "source": [
    "next(g)"
   ]
  },
  {
   "cell_type": "code",
   "execution_count": 25,
   "metadata": {},
   "outputs": [
    {
     "name": "stdout",
     "output_type": "stream",
     "text": [
      "After a, before b\n"
     ]
    },
    {
     "data": {
      "text/plain": [
       "'b'"
      ]
     },
     "execution_count": 25,
     "metadata": {},
     "output_type": "execute_result"
    }
   ],
   "source": [
    "next(g)"
   ]
  },
  {
   "cell_type": "code",
   "execution_count": 26,
   "metadata": {},
   "outputs": [
    {
     "name": "stdout",
     "output_type": "stream",
     "text": [
      "After b, before c\n"
     ]
    },
    {
     "data": {
      "text/plain": [
       "'c'"
      ]
     },
     "execution_count": 26,
     "metadata": {},
     "output_type": "execute_result"
    }
   ],
   "source": [
    "next(g)"
   ]
  },
  {
   "cell_type": "code",
   "execution_count": 27,
   "metadata": {},
   "outputs": [
    {
     "name": "stdout",
     "output_type": "stream",
     "text": [
      "After c, before d\n"
     ]
    },
    {
     "data": {
      "text/plain": [
       "'d'"
      ]
     },
     "execution_count": 27,
     "metadata": {},
     "output_type": "execute_result"
    }
   ],
   "source": [
    "next(g)"
   ]
  },
  {
   "cell_type": "code",
   "execution_count": 28,
   "metadata": {},
   "outputs": [
    {
     "name": "stdout",
     "output_type": "stream",
     "text": [
      "After d\n"
     ]
    },
    {
     "ename": "StopIteration",
     "evalue": "",
     "output_type": "error",
     "traceback": [
      "\u001b[0;31m---------------------------------------------------------------------------\u001b[0m",
      "\u001b[0;31mStopIteration\u001b[0m                             Traceback (most recent call last)",
      "\u001b[0;32m<ipython-input-28-e734f8aca5ac>\u001b[0m in \u001b[0;36m<module>\u001b[0;34m\u001b[0m\n\u001b[0;32m----> 1\u001b[0;31m \u001b[0mnext\u001b[0m\u001b[0;34m(\u001b[0m\u001b[0mg\u001b[0m\u001b[0;34m)\u001b[0m\u001b[0;34m\u001b[0m\u001b[0;34m\u001b[0m\u001b[0m\n\u001b[0m",
      "\u001b[0;31mStopIteration\u001b[0m: "
     ]
    }
   ],
   "source": [
    "next(g)"
   ]
  },
  {
   "cell_type": "code",
   "execution_count": 36,
   "metadata": {},
   "outputs": [],
   "source": [
    "def read_n(filename, n):\n",
    "    f = open(filename)\n",
    "    while True:\n",
    "        chunk = ''.join(f.readline()  # generator expression\n",
    "                        for i in range(n))\n",
    "#         chunk = ''\n",
    "#         for i in range(n):\n",
    "#             chunk += f.readline()  # get one line\n",
    "            \n",
    "        if chunk:  # if it's a non-empty string, then yield it\n",
    "            yield chunk\n",
    "        else:      # empty string? stop the loop\n",
    "            break"
   ]
  },
  {
   "cell_type": "code",
   "execution_count": 37,
   "metadata": {
    "collapsed": true
   },
   "outputs": [
    {
     "name": "stdout",
     "output_type": "stream",
     "text": [
      "##\n",
      "# User Database\n",
      "# \n",
      "# Note that this file is consulted directly only when the system is running\n",
      "# in single-user mode.  At other times this information is provided by\n",
      "# Open Directory.\n",
      "#\n",
      "# See the opendirectoryd(8) man page for additional information about\n",
      "# Open Directory.\n",
      "##\n",
      "nobody:*:-2:-2:Unprivileged User:/var/empty:/usr/bin/false\n",
      "root:*:0:0:System Administrator:/var/root:/bin/sh\n",
      "\n",
      "daemon:*:1:1:System Services:/var/root:/usr/bin/false\n",
      "_uucp:*:4:4:Unix to Unix Copy Protocol:/var/spool/uucp:/usr/sbin/uucico\n",
      "_taskgated:*:13:13:Task Gate Daemon:/var/empty:/usr/bin/false\n",
      "_networkd:*:24:24:Network Services:/var/networkd:/usr/bin/false\n",
      "_installassistant:*:25:25:Install Assistant:/var/empty:/usr/bin/false\n",
      "_lp:*:26:26:Printing Services:/var/spool/cups:/usr/bin/false\n",
      "_postfix:*:27:27:Postfix Mail Server:/var/spool/postfix:/usr/bin/false\n",
      "_scsd:*:31:31:Service Configuration Service:/var/empty:/usr/bin/false\n",
      "_ces:*:32:32:Certificate Enrollment Service:/var/empty:/usr/bin/false\n",
      "_appstore:*:33:33:Mac App Store Service:/var/db/appstore:/usr/bin/false\n",
      "_mcxalr:*:54:54:MCX AppLaunch:/var/empty:/usr/bin/false\n",
      "_appleevents:*:55:55:AppleEvents Daemon:/var/empty:/usr/bin/false\n",
      "\n",
      "_geod:*:56:56:Geo Services Daemon:/var/db/geod:/usr/bin/false\n",
      "_devdocs:*:59:59:Developer Documentation:/var/empty:/usr/bin/false\n",
      "_sandbox:*:60:60:Seatbelt:/var/empty:/usr/bin/false\n",
      "_mdnsresponder:*:65:65:mDNSResponder:/var/empty:/usr/bin/false\n",
      "_ard:*:67:67:Apple Remote Desktop:/var/empty:/usr/bin/false\n",
      "_www:*:70:70:World Wide Web Server:/Library/WebServer:/usr/bin/false\n",
      "_eppc:*:71:71:Apple Events User:/var/empty:/usr/bin/false\n",
      "_cvs:*:72:72:CVS Server:/var/empty:/usr/bin/false\n",
      "_svn:*:73:73:SVN Server:/var/empty:/usr/bin/false\n",
      "_mysql:*:74:74:MySQL Server:/var/empty:/usr/bin/false\n",
      "_sshd:*:75:75:sshd Privilege separation:/var/empty:/usr/bin/false\n",
      "_qtss:*:76:76:QuickTime Streaming Server:/var/empty:/usr/bin/false\n",
      "\n",
      "_cyrus:*:77:6:Cyrus Administrator:/var/imap:/usr/bin/false\n",
      "_mailman:*:78:78:Mailman List Server:/var/empty:/usr/bin/false\n",
      "_appserver:*:79:79:Application Server:/var/empty:/usr/bin/false\n",
      "_clamav:*:82:82:ClamAV Daemon:/var/virusmails:/usr/bin/false\n",
      "_amavisd:*:83:83:AMaViS Daemon:/var/virusmails:/usr/bin/false\n",
      "_jabber:*:84:84:Jabber XMPP Server:/var/empty:/usr/bin/false\n",
      "_appowner:*:87:87:Application Owner:/var/empty:/usr/bin/false\n",
      "_windowserver:*:88:88:WindowServer:/var/empty:/usr/bin/false\n",
      "_spotlight:*:89:89:Spotlight:/var/empty:/usr/bin/false\n",
      "_tokend:*:91:91:Token Daemon:/var/empty:/usr/bin/false\n",
      "_securityagent:*:92:92:SecurityAgent:/var/db/securityagent:/usr/bin/false\n",
      "_calendar:*:93:93:Calendar:/var/empty:/usr/bin/false\n",
      "\n",
      "_teamsserver:*:94:94:TeamsServer:/var/teamsserver:/usr/bin/false\n",
      "_update_sharing:*:95:-2:Update Sharing:/var/empty:/usr/bin/false\n",
      "_installer:*:96:-2:Installer:/var/empty:/usr/bin/false\n",
      "_atsserver:*:97:97:ATS Server:/var/empty:/usr/bin/false\n",
      "_ftp:*:98:-2:FTP Daemon:/var/empty:/usr/bin/false\n",
      "_unknown:*:99:99:Unknown User:/var/empty:/usr/bin/false\n",
      "_softwareupdate:*:200:200:Software Update Service:/var/db/softwareupdate:/usr/bin/false\n",
      "_coreaudiod:*:202:202:Core Audio Daemon:/var/empty:/usr/bin/false\n",
      "_screensaver:*:203:203:Screensaver:/var/empty:/usr/bin/false\n",
      "_locationd:*:205:205:Location Daemon:/var/db/locationd:/usr/bin/false\n",
      "_trustevaluationagent:*:208:208:Trust Evaluation Agent:/var/empty:/usr/bin/false\n",
      "_timezone:*:210:210:AutoTimeZoneDaemon:/var/empty:/usr/bin/false\n",
      "\n",
      "_lda:*:211:211:Local Delivery Agent:/var/empty:/usr/bin/false\n",
      "_cvmsroot:*:212:212:CVMS Root:/var/empty:/usr/bin/false\n",
      "_usbmuxd:*:213:213:iPhone OS Device Helper:/var/db/lockdown:/usr/bin/false\n",
      "_dovecot:*:214:6:Dovecot Administrator:/var/empty:/usr/bin/false\n",
      "_dpaudio:*:215:215:DP Audio:/var/empty:/usr/bin/false\n",
      "_postgres:*:216:216:PostgreSQL Server:/var/empty:/usr/bin/false\n",
      "_krbtgt:*:217:-2:Kerberos Ticket Granting Ticket:/var/empty:/usr/bin/false\n",
      "_kadmin_admin:*:218:-2:Kerberos Admin Service:/var/empty:/usr/bin/false\n",
      "_kadmin_changepw:*:219:-2:Kerberos Change Password Service:/var/empty:/usr/bin/false\n",
      "_devicemgr:*:220:220:Device Management Server:/var/empty:/usr/bin/false\n",
      "_webauthserver:*:221:221:Web Auth Server:/var/empty:/usr/bin/false\n",
      "_netbios:*:222:222:NetBIOS:/var/empty:/usr/bin/false\n",
      "\n",
      "_warmd:*:224:224:Warm Daemon:/var/empty:/usr/bin/false\n",
      "_dovenull:*:227:227:Dovecot Authentication:/var/empty:/usr/bin/false\n",
      "_netstatistics:*:228:228:Network Statistics Daemon:/var/empty:/usr/bin/false\n",
      "_avbdeviced:*:229:-2:Ethernet AVB Device Daemon:/var/empty:/usr/bin/false\n",
      "_krb_krbtgt:*:230:-2:Open Directory Kerberos Ticket Granting Ticket:/var/empty:/usr/bin/false\n",
      "_krb_kadmin:*:231:-2:Open Directory Kerberos Admin Service:/var/empty:/usr/bin/false\n",
      "_krb_changepw:*:232:-2:Open Directory Kerberos Change Password Service:/var/empty:/usr/bin/false\n",
      "_krb_kerberos:*:233:-2:Open Directory Kerberos:/var/empty:/usr/bin/false\n",
      "_krb_anonymous:*:234:-2:Open Directory Kerberos Anonymous:/var/empty:/usr/bin/false\n",
      "_assetcache:*:235:235:Asset Cache Service:/var/empty:/usr/bin/false\n",
      "_coremediaiod:*:236:236:Core Media IO Daemon:/var/empty:/usr/bin/false\n",
      "_launchservicesd:*:239:239:_launchservicesd:/var/empty:/usr/bin/false\n",
      "\n",
      "_iconservices:*:240:240:IconServices:/var/empty:/usr/bin/false\n",
      "_distnote:*:241:241:DistNote:/var/empty:/usr/bin/false\n",
      "_nsurlsessiond:*:242:242:NSURLSession Daemon:/var/db/nsurlsessiond:/usr/bin/false\n",
      "_nsurlstoraged:*:243:243:NSURLStorage Daemon:/var/db/nsurlstoraged:/usr/bin/false\n",
      "_displaypolicyd:*:244:244:Display Policy Daemon:/var/empty:/usr/bin/false\n",
      "_astris:*:245:245:Astris Services:/var/db/astris:/usr/bin/false\n",
      "_krbfast:*:246:-2:Kerberos FAST Account:/var/empty:/usr/bin/false\n",
      "_gamecontrollerd:*:247:247:Game Controller Daemon:/var/empty:/usr/bin/false\n",
      "_mbsetupuser:*:248:248:Setup User:/var/setup:/bin/bash\n",
      "_ondemand:*:249:249:On Demand Resource Daemon:/var/db/ondemand:/usr/bin/false\n",
      "_xserverdocs:*:251:251:macOS Server Documents Service:/var/empty:/usr/bin/false\n",
      "_wwwproxy:*:252:252:WWW Proxy:/var/empty:/usr/bin/false\n",
      "\n",
      "_mobileasset:*:253:253:MobileAsset User:/var/ma:/usr/bin/false\n",
      "_findmydevice:*:254:254:Find My Device Daemon:/var/db/findmydevice:/usr/bin/false\n",
      "_datadetectors:*:257:257:DataDetectors:/var/db/datadetectors:/usr/bin/false\n",
      "_captiveagent:*:258:258:captiveagent:/var/empty:/usr/bin/false\n",
      "_ctkd:*:259:259:ctkd Account:/var/empty:/usr/bin/false\n",
      "_applepay:*:260:260:applepay Account:/var/db/applepay:/usr/bin/false\n",
      "_hidd:*:261:261:HID Service User:/var/db/hidd:/usr/bin/false\n",
      "_cmiodalassistants:*:262:262:CoreMedia IO Assistants User:/var/db/cmiodalassistants:/usr/bin/false\n",
      "_analyticsd:*:263:263:Analytics Daemon:/var/db/analyticsd:/usr/bin/false\n",
      "_fpsd:*:265:265:FPS Daemon:/var/db/fpsd:/usr/bin/false\n",
      "_timed:*:266:266:Time Sync Daemon:/var/db/timed:/usr/bin/false\n",
      "_nearbyd:*:268:268:Proximity and Ranging Daemon:/var/db/nearbyd:/usr/bin/false\n",
      "\n",
      "_reportmemoryexception:*:269:269:ReportMemoryException:/var/db/reportmemoryexception:/usr/bin/false\n",
      "_driverkit:*:270:270:DriverKit:/var/empty:/usr/bin/false\n",
      "\n"
     ]
    }
   ],
   "source": [
    "for one_chunk in read_n('/etc/passwd', 12):\n",
    "    print(one_chunk)"
   ]
  },
  {
   "cell_type": "code",
   "execution_count": 38,
   "metadata": {},
   "outputs": [
    {
     "data": {
      "text/plain": [
       "range"
      ]
     },
     "execution_count": 38,
     "metadata": {},
     "output_type": "execute_result"
    }
   ],
   "source": [
    "r = range(10)\n",
    "type(r)"
   ]
  },
  {
   "cell_type": "code",
   "execution_count": 39,
   "metadata": {},
   "outputs": [
    {
     "data": {
      "text/plain": [
       "<range_iterator at 0x11289bed0>"
      ]
     },
     "execution_count": 39,
     "metadata": {},
     "output_type": "execute_result"
    }
   ],
   "source": [
    "iter(r)"
   ]
  },
  {
   "cell_type": "code",
   "execution_count": 40,
   "metadata": {},
   "outputs": [
    {
     "name": "stdout",
     "output_type": "stream",
     "text": [
      "0 1 2 3 4 5 6 7 8 9 "
     ]
    }
   ],
   "source": [
    "for i in range(10):\n",
    "    print(i, end=' ')"
   ]
  },
  {
   "cell_type": "code",
   "execution_count": 41,
   "metadata": {},
   "outputs": [
    {
     "name": "stdout",
     "output_type": "stream",
     "text": [
      "10 11 12 13 14 15 16 17 18 19 "
     ]
    }
   ],
   "source": [
    "for i in range(10, 20):\n",
    "    print(i, end=' ')"
   ]
  },
  {
   "cell_type": "code",
   "execution_count": 42,
   "metadata": {},
   "outputs": [
    {
     "name": "stdout",
     "output_type": "stream",
     "text": [
      "10 13 16 19 "
     ]
    }
   ],
   "source": [
    "for i in range(10, 20, 3):\n",
    "    print(i, end=' ')"
   ]
  },
  {
   "cell_type": "code",
   "execution_count": 44,
   "metadata": {},
   "outputs": [],
   "source": [
    "r = range(5, 1000, 3)"
   ]
  },
  {
   "cell_type": "code",
   "execution_count": 46,
   "metadata": {},
   "outputs": [
    {
     "data": {
      "text/plain": [
       "[41, 44, 47, 50, 53, 56, 59, 62]"
      ]
     },
     "execution_count": 46,
     "metadata": {},
     "output_type": "execute_result"
    }
   ],
   "source": [
    "list(r[12:20])"
   ]
  },
  {
   "cell_type": "code",
   "execution_count": 47,
   "metadata": {},
   "outputs": [
    {
     "data": {
      "text/plain": [
       "332"
      ]
     },
     "execution_count": 47,
     "metadata": {},
     "output_type": "execute_result"
    }
   ],
   "source": [
    "len(r)"
   ]
  },
  {
   "cell_type": "code",
   "execution_count": null,
   "metadata": {},
   "outputs": [],
   "source": [
    "# write a generator function called \"myrange\"\n",
    "# which works like range -- with 1, 2, or 3 arguments"
   ]
  },
  {
   "cell_type": "code",
   "execution_count": 40,
   "metadata": {},
   "outputs": [
    {
     "name": "stdout",
     "output_type": "stream",
     "text": [
      "0 1 2 3 4 5 6 7 8 9 "
     ]
    }
   ],
   "source": [
    "for i in myrange(10):\n",
    "    print(i, end=' ')"
   ]
  },
  {
   "cell_type": "code",
   "execution_count": 41,
   "metadata": {},
   "outputs": [
    {
     "name": "stdout",
     "output_type": "stream",
     "text": [
      "10 11 12 13 14 15 16 17 18 19 "
     ]
    }
   ],
   "source": [
    "for i in myrange(10, 20):\n",
    "    print(i, end=' ')"
   ]
  },
  {
   "cell_type": "code",
   "execution_count": 42,
   "metadata": {},
   "outputs": [
    {
     "name": "stdout",
     "output_type": "stream",
     "text": [
      "10 13 16 19 "
     ]
    }
   ],
   "source": [
    "for i in myrange(10, 20, 3):\n",
    "    print(i, end=' ')"
   ]
  },
  {
   "cell_type": "code",
   "execution_count": 48,
   "metadata": {},
   "outputs": [
    {
     "name": "stdout",
     "output_type": "stream",
     "text": [
      "20 17 14 11 "
     ]
    }
   ],
   "source": [
    "for i in range(20, 10, -3):\n",
    "    print(i, end=' ')"
   ]
  },
  {
   "cell_type": "code",
   "execution_count": 52,
   "metadata": {},
   "outputs": [
    {
     "name": "stdout",
     "output_type": "stream",
     "text": [
      "20 17 14 11 "
     ]
    }
   ],
   "source": [
    "def myrange(*args):\n",
    "    n = 0\n",
    "    if len(args) == 1:\n",
    "        stop = args[0]\n",
    "        while n < stop:\n",
    "            yield n\n",
    "            n += 1\n",
    "    if len(args) == 2:\n",
    "        start = args[0]\n",
    "        stop = args[1]\n",
    "        n = start\n",
    "        while n < stop:\n",
    "            yield n\n",
    "            n += 1\n",
    "    if len(args) == 3:\n",
    "        step = args[2]\n",
    "        start = args[0]\n",
    "        stop = args[1]\n",
    "        n = start\n",
    "        if step > 0:\n",
    "            while n < stop:\n",
    "                yield n\n",
    "                n += step\n",
    "        elif step < 0:\n",
    "            while n > stop:\n",
    "                yield n\n",
    "                n += step\n",
    "\n",
    "for i in myrange(20,10,-3):\n",
    "    print(i, end=' ')\n"
   ]
  },
  {
   "cell_type": "code",
   "execution_count": 62,
   "metadata": {},
   "outputs": [
    {
     "name": "stdout",
     "output_type": "stream",
     "text": [
      "0 1 2 3 4 5 6 7 8 9 \n",
      "10 11 12 13 14 15 16 17 18 19 \n",
      "20 17 14 11 "
     ]
    }
   ],
   "source": [
    "def myrange(first, second=None, step=1):\n",
    "    if second is None:  # from 0-first\n",
    "        current = 0\n",
    "        end = first\n",
    "        \n",
    "    else:  # from first-second\n",
    "        current = first\n",
    "        end = second\n",
    "        \n",
    "    while ((step > 0 and current < end) or\n",
    "           (step < 0 and current > end)):\n",
    "        yield current\n",
    "        current += step\n",
    "\n",
    "for i in myrange(10):\n",
    "    print(i, end=' ')\n",
    "print()\n",
    "\n",
    "for i in myrange(10, 20):\n",
    "    print(i, end=' ')\n",
    "print()\n",
    "    \n",
    "for i in myrange(20, 10, -3):\n",
    "    print(i, end=' ')"
   ]
  },
  {
   "cell_type": "code",
   "execution_count": null,
   "metadata": {},
   "outputs": [],
   "source": [
    "# write a function, filefunc, that takes two arguments\n",
    "# - first is a directory name\n",
    "# - second is a function\n",
    "\n",
    "# filefunc should invoke the function on each file\n",
    "# in the directory.\n",
    "\n",
    "# filefunc returns two dictionaries (i.e., a tuple of\n",
    "# dicts).  The first is for success -- the keys are the\n",
    "# filenames, and the values are what we got from invoking\n",
    "# the function on each filename.\n",
    "\n",
    "# the second dict is similar, but for failures.  The\n",
    "# keys will be the filenames, and the values will be\n",
    "# the exception object that you got from the failure\n",
    "\n",
    "# learning goals:\n",
    "# - dealing with directories and files in them\n",
    "# - accepting a function as an argument to another function\n",
    "# - dealing with exceptions\n",
    "\n",
    "def get_file_length(filename):\n",
    "    return len(open(filename).read())\n",
    "\n",
    "filefunc('/etc/', get_file_length)"
   ]
  },
  {
   "cell_type": "code",
   "execution_count": 73,
   "metadata": {
    "scrolled": true
   },
   "outputs": [
    {
     "name": "stdout",
     "output_type": "stream",
     "text": [
      "\tIsADirectoryError for emond.d\n",
      "\tIsADirectoryError for xinetd.d-migrated2launchd\n",
      "\tIsADirectoryError for periodic\n",
      "\tPermissionError for krb5.keytab\n",
      "\tIsADirectoryError for sudoers.d\n",
      "\tIsADirectoryError for ssl\n",
      "\tPermissionError for aliases.db\n",
      "\tIsADirectoryError for racoon\n",
      "\tIsADirectoryError for snmp\n",
      "\tPermissionError for master.passwd~orig\n",
      "\tIsADirectoryError for paths.d\n",
      "\tIsADirectoryError for asl\n",
      "\tIsADirectoryError for security\n",
      "\tPermissionError for sudoers~\n",
      "\tIsADirectoryError for manpaths.d\n",
      "\tIsADirectoryError for ppp\n",
      "\tIsADirectoryError for xinetd.d\n",
      "\tIsADirectoryError for php-fpm.d\n",
      "\tUnicodeDecodeError for localtime\n",
      "\tIsADirectoryError for CiscoSystemsVPNClient\n",
      "\tPermissionError for sudoers\n",
      "\tIsADirectoryError for newsyslog.d\n",
      "\tIsADirectoryError for emacs\n",
      "\tIsADirectoryError for pam.d\n",
      "\tIsADirectoryError for defaults\n",
      "\tIsADirectoryError for apache2\n",
      "\tIsADirectoryError for ssh\n",
      "\tIsADirectoryError for dictionaries-common\n",
      "\tPermissionError for sudoers~orig\n",
      "\tPermissionError for sudo_lecture\n",
      "\tFileNotFoundError for X11\n",
      "\tIsADirectoryError for opt\n",
      "\tIsADirectoryError for postfix\n",
      "\tIsADirectoryError for pf.anchors\n",
      "\tPermissionError for master.passwd\n",
      "\tIsADirectoryError for openldap\n",
      "\tIsADirectoryError for fonts\n",
      "\tIsADirectoryError for openssl\n",
      "\tIsADirectoryError for wfs\n",
      "\tPermissionError for AFP.conf\n",
      "\tIsADirectoryError for cups\n",
      "\tIsADirectoryError for resolver\n"
     ]
    }
   ],
   "source": [
    "import os\n",
    "\n",
    "def get_file_length(filename):\n",
    "    return len(open(filename).read())\n",
    "\n",
    "def filefunc(directory, func):\n",
    "    dict_OK = {}\n",
    "    dict_NOK = {}\n",
    "    for filename in os.listdir(directory):\n",
    "        try:\n",
    "            dict_OK[filename] = get_file_length(os.path.join(directory, filename))\n",
    "        except IsADirectoryError as e:\n",
    "            print(f'\\tIsADirectoryError for {filename}')\n",
    "            dict_NOK[filename] = e\n",
    "        except PermissionError as e:\n",
    "            print(f'\\tPermissionError for {filename}')\n",
    "            dict_NOK[filename] = e\n",
    "        except UnicodeDecodeError as e:\n",
    "            print(f'\\tUnicodeDecodeError for {filename}')\n",
    "            dict_NOK[filename] = type(e)\n",
    "        except FileNotFoundError as e:\n",
    "            print(f'\\tFileNotFoundError for {filename}')\n",
    "            dict_NOK[filename] = e\n",
    "    return dict_OK, dict_NOK\n",
    "              \n",
    "good_dict, bad_dict = filefunc('/etc/', get_file_length)\n"
   ]
  },
  {
   "cell_type": "code",
   "execution_count": null,
   "metadata": {},
   "outputs": [],
   "source": []
  },
  {
   "cell_type": "code",
   "execution_count": 63,
   "metadata": {
    "collapsed": true
   },
   "outputs": [
    {
     "data": {
      "text/plain": [
       "['emond.d',\n",
       " 'xinetd.d-migrated2launchd',\n",
       " 'ssh_config.system_default',\n",
       " 'ssh_config.applesaved',\n",
       " 'periodic',\n",
       " 'manpaths',\n",
       " 'services~previous',\n",
       " 'rc.common',\n",
       " 'csh.logout~orig',\n",
       " 'auto_master',\n",
       " 'php.ini.default-5.2-previous~orig',\n",
       " 'csh.login',\n",
       " 'syslog.conf',\n",
       " 'rtadvd.conf~previous',\n",
       " 'syslog.conf~previous',\n",
       " 'krb5.keytab',\n",
       " 'sudoers.d',\n",
       " 'bash_completion.d',\n",
       " 'ssl',\n",
       " 'kern_loader.conf.applesaved',\n",
       " 'nanorc',\n",
       " 'ttys~previous',\n",
       " 'csh.logout',\n",
       " 'aliases.db',\n",
       " 'hosts.lpd',\n",
       " 'bashrc_Apple_Terminal',\n",
       " 'racoon',\n",
       " 'snmp',\n",
       " 'zshrc_Apple_Terminal',\n",
       " 'named.conf.applesaved',\n",
       " 'gettytab',\n",
       " 'master.passwd~orig',\n",
       " 'kern_loader.conf',\n",
       " 'authorization.user_modified',\n",
       " 'networks~orig',\n",
       " 'paths.d',\n",
       " 'asl',\n",
       " 'csh.login~orig',\n",
       " 'rtadvd.conf',\n",
       " 'security',\n",
       " 'protocols~previous',\n",
       " 'group',\n",
       " 'printcap',\n",
       " 'auto_home',\n",
       " 'php.ini.default-previous',\n",
       " 'sudoers~',\n",
       " 'manpaths.d',\n",
       " 'smb.conf.applesaved',\n",
       " 'ppp',\n",
       " 'shells',\n",
       " 'pear.conf-previous',\n",
       " 'crontab',\n",
       " 'slpsa.conf.applesaved',\n",
       " 'rc.common~previous',\n",
       " 'xinetd.d',\n",
       " 'ttys',\n",
       " 'php-fpm.d',\n",
       " 'group~previous',\n",
       " 'php-fpm.conf.default',\n",
       " 'paths',\n",
       " 'rmtab',\n",
       " 'csh.cshrc~orig',\n",
       " 'inetd.conf.applesaved',\n",
       " 'xtab',\n",
       " 'php.ini.default',\n",
       " 'syslog.conf.applesaved',\n",
       " 'localtime',\n",
       " 'pf.conf',\n",
       " '6to4.conf.applesaved',\n",
       " 'CiscoSystemsVPNClient',\n",
       " 'launchd.conf',\n",
       " 'sudoers',\n",
       " 'ftpusers~orig',\n",
       " 'bashrc',\n",
       " 'find.codes~orig',\n",
       " 'auto_master~orig',\n",
       " 'newsyslog.d',\n",
       " 'emacs',\n",
       " 'irbrc',\n",
       " 'pam.d',\n",
       " 'zshrc',\n",
       " 'defaults',\n",
       " 'hosts.equiv',\n",
       " 'networks',\n",
       " 'find.codes',\n",
       " 'rpc~previous',\n",
       " 'apache2',\n",
       " 'autofs.conf',\n",
       " 'ssh',\n",
       " 'ftpusers',\n",
       " 'postgres-reg.ini',\n",
       " 'slpsa.conf',\n",
       " 'profile',\n",
       " 'csh.cshrc',\n",
       " 'fstab.hd~previous',\n",
       " 'ntp.conf.applesaved',\n",
       " 'ntp_opendirectory.conf',\n",
       " 'ssh_config~orig',\n",
       " 'profile~orig',\n",
       " 'authorization.deprecated',\n",
       " 'locate.rc',\n",
       " 'resolv.conf',\n",
       " 'nfs.conf',\n",
       " 'crontab.applesaved',\n",
       " 'dictionaries-common',\n",
       " 'sudoers~orig',\n",
       " 'sudo_lecture',\n",
       " 'asl.conf',\n",
       " 'ttys.applesaved',\n",
       " 'moduli~previous',\n",
       " 'rc.netboot',\n",
       " 'X11',\n",
       " 'afpovertcp.cfg~orig',\n",
       " 'hosts~orig',\n",
       " 'fstab',\n",
       " 'opt',\n",
       " 'nfs.conf~orig',\n",
       " 'hostconfig',\n",
       " 'smb.conf.old',\n",
       " 'kern_loader.conf~previous',\n",
       " 'xinetd.conf.applesaved',\n",
       " 'rtadvd.conf.applesaved',\n",
       " 'sshd_config.system_default',\n",
       " 'hosts',\n",
       " 'efax.rc~previous',\n",
       " 'postfix',\n",
       " 'pf.os',\n",
       " 'pf.anchors',\n",
       " 'php.ini.default-previous~orig',\n",
       " 'ntp.conf',\n",
       " 'php.ini.default-5.2-previous',\n",
       " 'gettytab~orig',\n",
       " 'passwd~orig',\n",
       " 'rpc',\n",
       " 'master.passwd',\n",
       " 'sshd_config~previous',\n",
       " 'fstab.hd',\n",
       " 'openldap',\n",
       " 'aliases',\n",
       " 'paths~orig',\n",
       " 'fonts',\n",
       " 'openssl',\n",
       " 'com.apple.screensharing.agent.launchd',\n",
       " 'wfs',\n",
       " 'hostconfig.system_default',\n",
       " 'shells~orig',\n",
       " 'sshd_config.applesaved',\n",
       " 'dumpdates',\n",
       " 'protocols',\n",
       " 'AFP.conf',\n",
       " 'cups',\n",
       " 'man.conf',\n",
       " 'services',\n",
       " 'mail.rc~orig',\n",
       " 'resolver',\n",
       " 'passwd',\n",
       " 'zprofile',\n",
       " 'afpovertcp.cfg',\n",
       " 'newsyslog.conf',\n",
       " 'bashrc~previous',\n",
       " 'mail.rc',\n",
       " 'notify.conf',\n",
       " 'sysctl.conf.pg']"
      ]
     },
     "execution_count": 63,
     "metadata": {},
     "output_type": "execute_result"
    }
   ],
   "source": [
    "import os\n",
    "os.listdir('/etc/')"
   ]
  },
  {
   "cell_type": "code",
   "execution_count": 64,
   "metadata": {},
   "outputs": [
    {
     "data": {
      "text/plain": [
       "'/etc/passwd'"
      ]
     },
     "execution_count": 64,
     "metadata": {},
     "output_type": "execute_result"
    }
   ],
   "source": [
    "os.path.join('/etc/', 'passwd')"
   ]
  },
  {
   "cell_type": "code",
   "execution_count": 65,
   "metadata": {
    "collapsed": true
   },
   "outputs": [
    {
     "data": {
      "text/plain": [
       "['/etc/emond.d',\n",
       " '/etc/xinetd.d-migrated2launchd',\n",
       " '/etc/ssh_config.system_default',\n",
       " '/etc/ssh_config.applesaved',\n",
       " '/etc/periodic',\n",
       " '/etc/manpaths',\n",
       " '/etc/services~previous',\n",
       " '/etc/rc.common',\n",
       " '/etc/csh.logout~orig',\n",
       " '/etc/auto_master',\n",
       " '/etc/php.ini.default-5.2-previous~orig',\n",
       " '/etc/csh.login',\n",
       " '/etc/syslog.conf',\n",
       " '/etc/rtadvd.conf~previous',\n",
       " '/etc/syslog.conf~previous',\n",
       " '/etc/krb5.keytab',\n",
       " '/etc/sudoers.d',\n",
       " '/etc/bash_completion.d',\n",
       " '/etc/ssl',\n",
       " '/etc/kern_loader.conf.applesaved',\n",
       " '/etc/nanorc',\n",
       " '/etc/ttys~previous',\n",
       " '/etc/csh.logout',\n",
       " '/etc/aliases.db',\n",
       " '/etc/hosts.lpd',\n",
       " '/etc/bashrc_Apple_Terminal',\n",
       " '/etc/racoon',\n",
       " '/etc/snmp',\n",
       " '/etc/zshrc_Apple_Terminal',\n",
       " '/etc/named.conf.applesaved',\n",
       " '/etc/gettytab',\n",
       " '/etc/master.passwd~orig',\n",
       " '/etc/kern_loader.conf',\n",
       " '/etc/authorization.user_modified',\n",
       " '/etc/networks~orig',\n",
       " '/etc/paths.d',\n",
       " '/etc/asl',\n",
       " '/etc/csh.login~orig',\n",
       " '/etc/rtadvd.conf',\n",
       " '/etc/security',\n",
       " '/etc/protocols~previous',\n",
       " '/etc/group',\n",
       " '/etc/printcap',\n",
       " '/etc/auto_home',\n",
       " '/etc/php.ini.default-previous',\n",
       " '/etc/sudoers~',\n",
       " '/etc/manpaths.d',\n",
       " '/etc/smb.conf.applesaved',\n",
       " '/etc/ppp',\n",
       " '/etc/shells',\n",
       " '/etc/pear.conf-previous',\n",
       " '/etc/crontab',\n",
       " '/etc/slpsa.conf.applesaved',\n",
       " '/etc/rc.common~previous',\n",
       " '/etc/xinetd.d',\n",
       " '/etc/ttys',\n",
       " '/etc/php-fpm.d',\n",
       " '/etc/group~previous',\n",
       " '/etc/php-fpm.conf.default',\n",
       " '/etc/paths',\n",
       " '/etc/rmtab',\n",
       " '/etc/csh.cshrc~orig',\n",
       " '/etc/inetd.conf.applesaved',\n",
       " '/etc/xtab',\n",
       " '/etc/php.ini.default',\n",
       " '/etc/syslog.conf.applesaved',\n",
       " '/etc/localtime',\n",
       " '/etc/pf.conf',\n",
       " '/etc/6to4.conf.applesaved',\n",
       " '/etc/CiscoSystemsVPNClient',\n",
       " '/etc/launchd.conf',\n",
       " '/etc/sudoers',\n",
       " '/etc/ftpusers~orig',\n",
       " '/etc/bashrc',\n",
       " '/etc/find.codes~orig',\n",
       " '/etc/auto_master~orig',\n",
       " '/etc/newsyslog.d',\n",
       " '/etc/emacs',\n",
       " '/etc/irbrc',\n",
       " '/etc/pam.d',\n",
       " '/etc/zshrc',\n",
       " '/etc/defaults',\n",
       " '/etc/hosts.equiv',\n",
       " '/etc/networks',\n",
       " '/etc/find.codes',\n",
       " '/etc/rpc~previous',\n",
       " '/etc/apache2',\n",
       " '/etc/autofs.conf',\n",
       " '/etc/ssh',\n",
       " '/etc/ftpusers',\n",
       " '/etc/postgres-reg.ini',\n",
       " '/etc/slpsa.conf',\n",
       " '/etc/profile',\n",
       " '/etc/csh.cshrc',\n",
       " '/etc/fstab.hd~previous',\n",
       " '/etc/ntp.conf.applesaved',\n",
       " '/etc/ntp_opendirectory.conf',\n",
       " '/etc/ssh_config~orig',\n",
       " '/etc/profile~orig',\n",
       " '/etc/authorization.deprecated',\n",
       " '/etc/locate.rc',\n",
       " '/etc/resolv.conf',\n",
       " '/etc/nfs.conf',\n",
       " '/etc/crontab.applesaved',\n",
       " '/etc/dictionaries-common',\n",
       " '/etc/sudoers~orig',\n",
       " '/etc/sudo_lecture',\n",
       " '/etc/asl.conf',\n",
       " '/etc/ttys.applesaved',\n",
       " '/etc/moduli~previous',\n",
       " '/etc/rc.netboot',\n",
       " '/etc/X11',\n",
       " '/etc/afpovertcp.cfg~orig',\n",
       " '/etc/hosts~orig',\n",
       " '/etc/fstab',\n",
       " '/etc/opt',\n",
       " '/etc/nfs.conf~orig',\n",
       " '/etc/hostconfig',\n",
       " '/etc/smb.conf.old',\n",
       " '/etc/kern_loader.conf~previous',\n",
       " '/etc/xinetd.conf.applesaved',\n",
       " '/etc/rtadvd.conf.applesaved',\n",
       " '/etc/sshd_config.system_default',\n",
       " '/etc/hosts',\n",
       " '/etc/efax.rc~previous',\n",
       " '/etc/postfix',\n",
       " '/etc/pf.os',\n",
       " '/etc/pf.anchors',\n",
       " '/etc/php.ini.default-previous~orig',\n",
       " '/etc/ntp.conf',\n",
       " '/etc/php.ini.default-5.2-previous',\n",
       " '/etc/gettytab~orig',\n",
       " '/etc/passwd~orig',\n",
       " '/etc/rpc',\n",
       " '/etc/master.passwd',\n",
       " '/etc/sshd_config~previous',\n",
       " '/etc/fstab.hd',\n",
       " '/etc/openldap',\n",
       " '/etc/aliases',\n",
       " '/etc/paths~orig',\n",
       " '/etc/fonts',\n",
       " '/etc/openssl',\n",
       " '/etc/com.apple.screensharing.agent.launchd',\n",
       " '/etc/wfs',\n",
       " '/etc/hostconfig.system_default',\n",
       " '/etc/shells~orig',\n",
       " '/etc/sshd_config.applesaved',\n",
       " '/etc/dumpdates',\n",
       " '/etc/protocols',\n",
       " '/etc/AFP.conf',\n",
       " '/etc/cups',\n",
       " '/etc/man.conf',\n",
       " '/etc/services',\n",
       " '/etc/mail.rc~orig',\n",
       " '/etc/resolver',\n",
       " '/etc/passwd',\n",
       " '/etc/zprofile',\n",
       " '/etc/afpovertcp.cfg',\n",
       " '/etc/newsyslog.conf',\n",
       " '/etc/bashrc~previous',\n",
       " '/etc/mail.rc',\n",
       " '/etc/notify.conf',\n",
       " '/etc/sysctl.conf.pg']"
      ]
     },
     "execution_count": 65,
     "metadata": {},
     "output_type": "execute_result"
    }
   ],
   "source": [
    "import glob   # the * and ? and even [] on the command line\n",
    "glob.glob('/etc/*')"
   ]
  },
  {
   "cell_type": "code",
   "execution_count": 74,
   "metadata": {
    "collapsed": true
   },
   "outputs": [
    {
     "data": {
      "text/plain": [
       "{'ssh_config.system_default': 1465,\n",
       " 'ssh_config.applesaved': 1144,\n",
       " 'manpaths': 36,\n",
       " 'services~previous': 677972,\n",
       " 'rc.common': 1560,\n",
       " 'csh.logout~orig': 39,\n",
       " 'auto_master': 195,\n",
       " 'php.ini.default-5.2-previous~orig': 65459,\n",
       " 'csh.login': 121,\n",
       " 'syslog.conf': 96,\n",
       " 'rtadvd.conf~previous': 891,\n",
       " 'syslog.conf~previous': 96,\n",
       " 'bash_completion.d': 0,\n",
       " 'kern_loader.conf.applesaved': 0,\n",
       " 'nanorc': 11,\n",
       " 'ttys~previous': 1316,\n",
       " 'csh.logout': 39,\n",
       " 'hosts.lpd': 0,\n",
       " 'bashrc_Apple_Terminal': 9192,\n",
       " 'zshrc_Apple_Terminal': 911,\n",
       " 'named.conf.applesaved': 905,\n",
       " 'gettytab': 5678,\n",
       " 'kern_loader.conf': 0,\n",
       " 'authorization.user_modified': 18621,\n",
       " 'networks~orig': 53,\n",
       " 'csh.login~orig': 121,\n",
       " 'rtadvd.conf': 891,\n",
       " 'protocols~previous': 6393,\n",
       " 'group': 2922,\n",
       " 'printcap': 452,\n",
       " 'auto_home': 149,\n",
       " 'php.ini.default-previous': 71055,\n",
       " 'smb.conf.applesaved': 1699,\n",
       " 'shells': 189,\n",
       " 'pear.conf-previous': 1208,\n",
       " 'crontab': 137,\n",
       " 'slpsa.conf.applesaved': 52,\n",
       " 'rc.common~previous': 1560,\n",
       " 'ttys': 1316,\n",
       " 'group~previous': 2769,\n",
       " 'php-fpm.conf.default': 5331,\n",
       " 'paths': 45,\n",
       " 'rmtab': 0,\n",
       " 'csh.cshrc~orig': 189,\n",
       " 'inetd.conf.applesaved': 2893,\n",
       " 'xtab': 0,\n",
       " 'php.ini.default': 71890,\n",
       " 'syslog.conf.applesaved': 823,\n",
       " 'pf.conf': 1027,\n",
       " '6to4.conf.applesaved': 753,\n",
       " 'launchd.conf': 19,\n",
       " 'ftpusers~orig': 119,\n",
       " 'bashrc': 265,\n",
       " 'find.codes~orig': 0,\n",
       " 'auto_master~orig': 194,\n",
       " 'irbrc': 1299,\n",
       " 'zshrc': 3094,\n",
       " 'hosts.equiv': 0,\n",
       " 'networks': 53,\n",
       " 'find.codes': 0,\n",
       " 'rpc~previous': 1735,\n",
       " 'autofs.conf': 1935,\n",
       " 'ftpusers': 119,\n",
       " 'postgres-reg.ini': 1101,\n",
       " 'slpsa.conf': 52,\n",
       " 'profile': 189,\n",
       " 'csh.cshrc': 189,\n",
       " 'fstab.hd~previous': 150,\n",
       " 'ntp.conf.applesaved': 44,\n",
       " 'ntp_opendirectory.conf': 23,\n",
       " 'ssh_config~orig': 3847,\n",
       " 'profile~orig': 189,\n",
       " 'authorization.deprecated': 343017,\n",
       " 'locate.rc': 621,\n",
       " 'resolv.conf': 368,\n",
       " 'nfs.conf': 43,\n",
       " 'crontab.applesaved': 296,\n",
       " 'asl.conf': 1051,\n",
       " 'ttys.applesaved': 2442,\n",
       " 'moduli~previous': 242153,\n",
       " 'rc.netboot': 5264,\n",
       " 'afpovertcp.cfg~orig': 515,\n",
       " 'hosts~orig': 213,\n",
       " 'fstab': 293,\n",
       " 'nfs.conf~orig': 43,\n",
       " 'hostconfig': 201,\n",
       " 'smb.conf.old': 2975,\n",
       " 'kern_loader.conf~previous': 0,\n",
       " 'xinetd.conf.applesaved': 238,\n",
       " 'rtadvd.conf.applesaved': 983,\n",
       " 'sshd_config.system_default': 3362,\n",
       " 'hosts': 220,\n",
       " 'efax.rc~previous': 1029,\n",
       " 'pf.os': 28311,\n",
       " 'php.ini.default-previous~orig': 73685,\n",
       " 'ntp.conf': 22,\n",
       " 'php.ini.default-5.2-previous': 69266,\n",
       " 'gettytab~orig': 5678,\n",
       " 'passwd~orig': 6393,\n",
       " 'rpc': 1735,\n",
       " 'sshd_config~previous': 4161,\n",
       " 'fstab.hd': 150,\n",
       " 'aliases': 10086,\n",
       " 'paths~orig': 45,\n",
       " 'com.apple.screensharing.agent.launchd': 82,\n",
       " 'hostconfig.system_default': 185,\n",
       " 'shells~orig': 179,\n",
       " 'sshd_config.applesaved': 2409,\n",
       " 'dumpdates': 0,\n",
       " 'protocols': 6393,\n",
       " 'man.conf': 4627,\n",
       " 'services': 677972,\n",
       " 'mail.rc~orig': 106,\n",
       " 'passwd': 6946,\n",
       " 'zprofile': 255,\n",
       " 'afpovertcp.cfg': 515,\n",
       " 'newsyslog.conf': 1318,\n",
       " 'bashrc~previous': 265,\n",
       " 'mail.rc': 106,\n",
       " 'notify.conf': 351,\n",
       " 'sysctl.conf.pg': 106}"
      ]
     },
     "execution_count": 74,
     "metadata": {},
     "output_type": "execute_result"
    }
   ],
   "source": [
    "good_dict"
   ]
  },
  {
   "cell_type": "code",
   "execution_count": 75,
   "metadata": {},
   "outputs": [
    {
     "data": {
      "text/plain": [
       "{'emond.d': IsADirectoryError(21, 'Is a directory'),\n",
       " 'xinetd.d-migrated2launchd': IsADirectoryError(21, 'Is a directory'),\n",
       " 'periodic': IsADirectoryError(21, 'Is a directory'),\n",
       " 'krb5.keytab': PermissionError(13, 'Permission denied'),\n",
       " 'sudoers.d': IsADirectoryError(21, 'Is a directory'),\n",
       " 'ssl': IsADirectoryError(21, 'Is a directory'),\n",
       " 'aliases.db': PermissionError(13, 'Permission denied'),\n",
       " 'racoon': IsADirectoryError(21, 'Is a directory'),\n",
       " 'snmp': IsADirectoryError(21, 'Is a directory'),\n",
       " 'master.passwd~orig': PermissionError(13, 'Permission denied'),\n",
       " 'paths.d': IsADirectoryError(21, 'Is a directory'),\n",
       " 'asl': IsADirectoryError(21, 'Is a directory'),\n",
       " 'security': IsADirectoryError(21, 'Is a directory'),\n",
       " 'sudoers~': PermissionError(13, 'Permission denied'),\n",
       " 'manpaths.d': IsADirectoryError(21, 'Is a directory'),\n",
       " 'ppp': IsADirectoryError(21, 'Is a directory'),\n",
       " 'xinetd.d': IsADirectoryError(21, 'Is a directory'),\n",
       " 'php-fpm.d': IsADirectoryError(21, 'Is a directory'),\n",
       " 'localtime': UnicodeDecodeError,\n",
       " 'CiscoSystemsVPNClient': IsADirectoryError(21, 'Is a directory'),\n",
       " 'sudoers': PermissionError(13, 'Permission denied'),\n",
       " 'newsyslog.d': IsADirectoryError(21, 'Is a directory'),\n",
       " 'emacs': IsADirectoryError(21, 'Is a directory'),\n",
       " 'pam.d': IsADirectoryError(21, 'Is a directory'),\n",
       " 'defaults': IsADirectoryError(21, 'Is a directory'),\n",
       " 'apache2': IsADirectoryError(21, 'Is a directory'),\n",
       " 'ssh': IsADirectoryError(21, 'Is a directory'),\n",
       " 'dictionaries-common': IsADirectoryError(21, 'Is a directory'),\n",
       " 'sudoers~orig': PermissionError(13, 'Permission denied'),\n",
       " 'sudo_lecture': PermissionError(13, 'Permission denied'),\n",
       " 'X11': FileNotFoundError(2, 'No such file or directory'),\n",
       " 'opt': IsADirectoryError(21, 'Is a directory'),\n",
       " 'postfix': IsADirectoryError(21, 'Is a directory'),\n",
       " 'pf.anchors': IsADirectoryError(21, 'Is a directory'),\n",
       " 'master.passwd': PermissionError(13, 'Permission denied'),\n",
       " 'openldap': IsADirectoryError(21, 'Is a directory'),\n",
       " 'fonts': IsADirectoryError(21, 'Is a directory'),\n",
       " 'openssl': IsADirectoryError(21, 'Is a directory'),\n",
       " 'wfs': IsADirectoryError(21, 'Is a directory'),\n",
       " 'AFP.conf': PermissionError(13, 'Permission denied'),\n",
       " 'cups': IsADirectoryError(21, 'Is a directory'),\n",
       " 'resolver': IsADirectoryError(21, 'Is a directory')}"
      ]
     },
     "execution_count": 75,
     "metadata": {},
     "output_type": "execute_result"
    }
   ],
   "source": [
    "bad_dict"
   ]
  },
  {
   "cell_type": "code",
   "execution_count": null,
   "metadata": {},
   "outputs": [],
   "source": []
  }
 ],
 "metadata": {
  "kernelspec": {
   "display_name": "Python 3",
   "language": "python",
   "name": "python3"
  },
  "language_info": {
   "codemirror_mode": {
    "name": "ipython",
    "version": 3
   },
   "file_extension": ".py",
   "mimetype": "text/x-python",
   "name": "python",
   "nbconvert_exporter": "python",
   "pygments_lexer": "ipython3",
   "version": "3.7.6"
  }
 },
 "nbformat": 4,
 "nbformat_minor": 2
}
